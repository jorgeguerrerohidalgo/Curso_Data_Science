{
 "cells": [
  {
   "cell_type": "markdown",
   "id": "16e242c4",
   "metadata": {},
   "source": [
    "# Bagging (Bootstrap Aggregation)\n",
    "\n",
    "- Consiste en _realizar varias veces_ el proceso de **bootstrap**, el cual es una técnica de _muestreo con reemplazo_.\n",
    "    - La idea de Bootstrap es generar inferencia de una población a partir de una muestra, que se puede obtener mediante el _remuestreo_ de la muestra.\n",
    "- Combina y promedia _múltiples modelos_.\n",
    "- Puede aplicarse a diferentes modelos de machine learning.\n",
    "- Ayuda a generar modelos más generalizables, por lo que por lo general se aplica a árboles, ya que estos suelen generalizar mal si no se ajustan sus hiperparámetros."
   ]
  },
  {
   "cell_type": "markdown",
   "id": "5783e3d8",
   "metadata": {},
   "source": [
    "### Disgresión: Bootstrap\n",
    "1. Seleccionar una muestra aleatoria de los datos\n",
    "2. Generar un estimador a partir de la muestra. Ej: $\\bar X$ (estimador de $\\mu$)\n",
    "3. Repetir $B$ veces los pasos 1 y 2, donde $B$ es un número grande. En el ejemplo, se obtienen muchos $\\bar X$ con distintos datos\n",
    "    - Las muestras generadas en cada iteración pueden contener datos repetidos entre una iteración y otra, y dentro de la misma iteración\n",
    "4. Obtener el _estimador puntual_, a partir de todos los generados en las repeticiones del paso 2\n",
    "<br />\n",
    "<br />\n",
    "\n",
    "Aplicado en el caso de árboles de decisión, _pondera múltiples árboles_, de manera de contrarrestar la variabilidad de cualquier árbol individual, reduciendo el overfit."
   ]
  },
  {
   "cell_type": "code",
   "execution_count": 26,
   "id": "d2b57f7b",
   "metadata": {},
   "outputs": [
    {
     "data": {
      "text/html": [
       "<div>\n",
       "<style scoped>\n",
       "    .dataframe tbody tr th:only-of-type {\n",
       "        vertical-align: middle;\n",
       "    }\n",
       "\n",
       "    .dataframe tbody tr th {\n",
       "        vertical-align: top;\n",
       "    }\n",
       "\n",
       "    .dataframe thead th {\n",
       "        text-align: right;\n",
       "    }\n",
       "</style>\n",
       "<table border=\"1\" class=\"dataframe\">\n",
       "  <thead>\n",
       "    <tr style=\"text-align: right;\">\n",
       "      <th></th>\n",
       "      <th>MedianHouseAge</th>\n",
       "      <th>TotalRooms</th>\n",
       "      <th>TotalBedrooms</th>\n",
       "      <th>Population</th>\n",
       "      <th>Households</th>\n",
       "      <th>Latitude</th>\n",
       "      <th>Longitude</th>\n",
       "      <th>log_MedianIncome</th>\n",
       "      <th>log_MedianHouseValue</th>\n",
       "    </tr>\n",
       "  </thead>\n",
       "  <tbody>\n",
       "    <tr>\n",
       "      <th>0</th>\n",
       "      <td>41.0</td>\n",
       "      <td>880.0</td>\n",
       "      <td>129.0</td>\n",
       "      <td>322.0</td>\n",
       "      <td>126.0</td>\n",
       "      <td>37.88</td>\n",
       "      <td>-122.23</td>\n",
       "      <td>2.119287</td>\n",
       "      <td>13.022764</td>\n",
       "    </tr>\n",
       "    <tr>\n",
       "      <th>1</th>\n",
       "      <td>21.0</td>\n",
       "      <td>7099.0</td>\n",
       "      <td>1106.0</td>\n",
       "      <td>2401.0</td>\n",
       "      <td>1138.0</td>\n",
       "      <td>37.86</td>\n",
       "      <td>-122.22</td>\n",
       "      <td>2.116424</td>\n",
       "      <td>12.789684</td>\n",
       "    </tr>\n",
       "    <tr>\n",
       "      <th>2</th>\n",
       "      <td>52.0</td>\n",
       "      <td>1467.0</td>\n",
       "      <td>190.0</td>\n",
       "      <td>496.0</td>\n",
       "      <td>177.0</td>\n",
       "      <td>37.85</td>\n",
       "      <td>-122.24</td>\n",
       "      <td>1.982022</td>\n",
       "      <td>12.771671</td>\n",
       "    </tr>\n",
       "    <tr>\n",
       "      <th>3</th>\n",
       "      <td>52.0</td>\n",
       "      <td>1274.0</td>\n",
       "      <td>235.0</td>\n",
       "      <td>558.0</td>\n",
       "      <td>219.0</td>\n",
       "      <td>37.85</td>\n",
       "      <td>-122.25</td>\n",
       "      <td>1.730434</td>\n",
       "      <td>12.740517</td>\n",
       "    </tr>\n",
       "    <tr>\n",
       "      <th>4</th>\n",
       "      <td>52.0</td>\n",
       "      <td>1627.0</td>\n",
       "      <td>280.0</td>\n",
       "      <td>565.0</td>\n",
       "      <td>259.0</td>\n",
       "      <td>37.85</td>\n",
       "      <td>-122.25</td>\n",
       "      <td>1.347086</td>\n",
       "      <td>12.743151</td>\n",
       "    </tr>\n",
       "  </tbody>\n",
       "</table>\n",
       "</div>"
      ],
      "text/plain": [
       "   MedianHouseAge  TotalRooms  TotalBedrooms  Population  Households  \\\n",
       "0            41.0       880.0          129.0       322.0       126.0   \n",
       "1            21.0      7099.0         1106.0      2401.0      1138.0   \n",
       "2            52.0      1467.0          190.0       496.0       177.0   \n",
       "3            52.0      1274.0          235.0       558.0       219.0   \n",
       "4            52.0      1627.0          280.0       565.0       259.0   \n",
       "\n",
       "   Latitude  Longitude  log_MedianIncome  log_MedianHouseValue  \n",
       "0     37.88    -122.23          2.119287             13.022764  \n",
       "1     37.86    -122.22          2.116424             12.789684  \n",
       "2     37.85    -122.24          1.982022             12.771671  \n",
       "3     37.85    -122.25          1.730434             12.740517  \n",
       "4     37.85    -122.25          1.347086             12.743151  "
      ]
     },
     "execution_count": 26,
     "metadata": {},
     "output_type": "execute_result"
    }
   ],
   "source": [
    "import pandas as pd\n",
    "import numpy as np\n",
    "from sklearn.ensemble import BaggingRegressor\n",
    "from sklearn.model_selection import train_test_split\n",
    "from sklearn.metrics import mean_squared_error, median_absolute_error, r2_score\n",
    "import matplotlib.pyplot as plt\n",
    "\n",
    "plt.style.use(\"seaborn\")\n",
    "\n",
    "# Se carga datos y aplica pequeño procesamiento\n",
    "df = pd.read_csv('cadata.csv', header=1).drop(columns='1')\n",
    "df['log_MedianIncome'] = np.log(df['MedianIncome'])\n",
    "df['log_MedianHouseValue'] = np.log(df['MedianHouseValue'])\n",
    "df = df.drop(columns=['MedianHouseValue', 'MedianIncome'])\n",
    "df.head()"
   ]
  },
  {
   "cell_type": "code",
   "execution_count": 27,
   "id": "278e230b",
   "metadata": {},
   "outputs": [],
   "source": [
    "# Se genera muestras\n",
    "X_train, X_test, y_train, y_test = train_test_split(\n",
    "    df.loc[:,'MedianHouseAge':'log_MedianIncome'],\n",
    "    df['log_MedianHouseValue'],\n",
    "    test_size=.33,\n",
    "    random_state=11238\n",
    ")"
   ]
  },
  {
   "cell_type": "code",
   "execution_count": 28,
   "id": "28ff179c",
   "metadata": {},
   "outputs": [],
   "source": [
    "# Se entrena el ensamble de 10 modelos (parámetro por defecto) de árbol de regresión (parámetro por defecto) con Bagging\n",
    "bagging_model = BaggingRegressor(random_state=11238).fit(X_train, y_train)"
   ]
  },
  {
   "cell_type": "code",
   "execution_count": 29,
   "id": "08ec1d98",
   "metadata": {},
   "outputs": [
    {
     "name": "stdout",
     "output_type": "stream",
     "text": [
      "MSE: 0.06085517955980448\n",
      "Median abs. err.: 0.12377597769605853\n",
      "R2: 0.8151722840918727\n"
     ]
    }
   ],
   "source": [
    "# Se explora métricas utilizando el ensamble\n",
    "print(\"MSE:\", mean_squared_error(y_test, bagging_model.predict(X_test)))\n",
    "print(\"Median abs. err.:\", median_absolute_error(y_test, bagging_model.predict(X_test)))\n",
    "print(\"R2:\", r2_score(y_test, bagging_model.predict(X_test)))"
   ]
  },
  {
   "cell_type": "code",
   "execution_count": 5,
   "id": "9beff727",
   "metadata": {},
   "outputs": [
    {
     "data": {
      "text/plain": [
       "[array([ 5908,  2615,  6891, ...,  3669, 13451,  8076]),\n",
       " array([  401,  4165, 10525, ...,  9546,  9753,   863]),\n",
       " array([ 8730,  4841,  9359, ...,  9393,  3683, 10903]),\n",
       " array([ 7702,  9126,  8206, ...,  1550, 10970,   289]),\n",
       " array([ 2048,  9020, 10622, ...,  8289,  5372,  3749]),\n",
       " array([11934, 12618,   361, ..., 12676, 11427, 10585]),\n",
       " array([ 8073,  8973, 10543, ..., 10019,  6672,  2375]),\n",
       " array([12425,  4152,  5115, ...,   639,  4314,  4798]),\n",
       " array([11451,   530, 11607, ...,  6685,  1266,  2761]),\n",
       " array([13083,   798,  9733, ...,  1905,  5731,  8208])]"
      ]
     },
     "execution_count": 5,
     "metadata": {},
     "output_type": "execute_result"
    }
   ],
   "source": [
    "# Se explora los índices de las muestras para cada modelo del ensamble\n",
    "bagging_model.estimators_samples_"
   ]
  },
  {
   "cell_type": "code",
   "execution_count": 35,
   "id": "4b41011b",
   "metadata": {},
   "outputs": [
    {
     "data": {
      "text/plain": [
       "1    4976\n",
       "2    2573\n",
       "3     871\n",
       "4     198\n",
       "5      54\n",
       "6       4\n",
       "7       1\n",
       "dtype: int64"
      ]
     },
     "execution_count": 35,
     "metadata": {},
     "output_type": "execute_result"
    }
   ],
   "source": [
    "# Se explora cantidades de datos repetidos para la primera muestra\n",
    "pd.Series(bagging_model.estimators_samples_[0]).value_counts().value_counts()"
   ]
  },
  {
   "cell_type": "markdown",
   "id": "055d2cb9",
   "metadata": {},
   "source": [
    "- Hay 4.976 datos que solo aparecen 1 vez en el muestreo, y 1 dato que se repite 7 veces en el muestreo"
   ]
  },
  {
   "cell_type": "code",
   "execution_count": 7,
   "id": "ff1f1f9f",
   "metadata": {},
   "outputs": [
    {
     "data": {
      "text/plain": [
       "[DecisionTreeRegressor(random_state=134534932),\n",
       " DecisionTreeRegressor(random_state=1532576145),\n",
       " DecisionTreeRegressor(random_state=1982095898),\n",
       " DecisionTreeRegressor(random_state=280845846),\n",
       " DecisionTreeRegressor(random_state=1572358144),\n",
       " DecisionTreeRegressor(random_state=198602398),\n",
       " DecisionTreeRegressor(random_state=120741769),\n",
       " DecisionTreeRegressor(random_state=860188809),\n",
       " DecisionTreeRegressor(random_state=2093968571),\n",
       " DecisionTreeRegressor(random_state=1518121755)]"
      ]
     },
     "execution_count": 7,
     "metadata": {},
     "output_type": "execute_result"
    }
   ],
   "source": [
    "# Se explora los modelos que componen el ensamble\n",
    "bagging_model.estimators_"
   ]
  },
  {
   "cell_type": "code",
   "execution_count": 8,
   "id": "22258741",
   "metadata": {},
   "outputs": [
    {
     "data": {
      "text/html": [
       "<div>\n",
       "<style scoped>\n",
       "    .dataframe tbody tr th:only-of-type {\n",
       "        vertical-align: middle;\n",
       "    }\n",
       "\n",
       "    .dataframe tbody tr th {\n",
       "        vertical-align: top;\n",
       "    }\n",
       "\n",
       "    .dataframe thead th {\n",
       "        text-align: right;\n",
       "    }\n",
       "</style>\n",
       "<table border=\"1\" class=\"dataframe\">\n",
       "  <thead>\n",
       "    <tr style=\"text-align: right;\">\n",
       "      <th></th>\n",
       "      <th>MedianHouseAge</th>\n",
       "      <th>TotalRooms</th>\n",
       "      <th>TotalBedrooms</th>\n",
       "      <th>Population</th>\n",
       "      <th>Households</th>\n",
       "      <th>Latitude</th>\n",
       "      <th>Longitude</th>\n",
       "      <th>log_MedianIncome</th>\n",
       "    </tr>\n",
       "  </thead>\n",
       "  <tbody>\n",
       "    <tr>\n",
       "      <th>16934</th>\n",
       "      <td>9.0</td>\n",
       "      <td>1150.0</td>\n",
       "      <td>287.0</td>\n",
       "      <td>377.0</td>\n",
       "      <td>243.0</td>\n",
       "      <td>37.56</td>\n",
       "      <td>-122.32</td>\n",
       "      <td>1.343309</td>\n",
       "    </tr>\n",
       "  </tbody>\n",
       "</table>\n",
       "</div>"
      ],
      "text/plain": [
       "       MedianHouseAge  TotalRooms  TotalBedrooms  Population  Households  \\\n",
       "16934             9.0      1150.0          287.0       377.0       243.0   \n",
       "\n",
       "       Latitude  Longitude  log_MedianIncome  \n",
       "16934     37.56    -122.32          1.343309  "
      ]
     },
     "execution_count": 8,
     "metadata": {},
     "output_type": "execute_result"
    }
   ],
   "source": [
    "X_test[:1]"
   ]
  },
  {
   "cell_type": "code",
   "execution_count": 36,
   "id": "445085d4",
   "metadata": {},
   "outputs": [
    {
     "name": "stderr",
     "output_type": "stream",
     "text": [
      "/home/giani/anaconda3/lib/python3.9/site-packages/sklearn/base.py:450: UserWarning: X does not have valid feature names, but BaggingRegressor was fitted with feature names\n",
      "  warnings.warn(\n"
     ]
    },
    {
     "data": {
      "image/png": "[encoded data removed]",
      "text/plain": [
       "<Figure size 576x396 with 1 Axes>"
      ]
     },
     "metadata": {},
     "output_type": "display_data"
    }
   ],
   "source": [
    "# Se explora predicciones para primer dato para cada modelo individual del ensamble\n",
    "hold_instance = [i.predict(X_test[:1].values) for i in bagging_model.estimators_]\n",
    "dec_tree_lab = [\"RegressionTree: {}\".format(i + 1) for i in range(len(bagging_model.estimators_))]\n",
    "plt.plot(hold_instance, 'o', color='dodgerblue', label='Predicción')\n",
    "plt.xticks(range(10), dec_tree_lab,rotation =90)\n",
    "plt.axhline(bagging_model.predict(X_test[:1].values), label='Predicción Bagging')\n",
    "plt.ylabel(r'$\\hat{y} = \\sum_{t=1}^{T} h_{t}(\\mathbf{x})$')\n",
    "plt.title('Predicciones específicas en observación X_test[:1]')\n",
    "plt.legend();"
   ]
  },
  {
   "cell_type": "code",
   "execution_count": 37,
   "id": "229cbf40",
   "metadata": {},
   "outputs": [
    {
     "data": {
      "text/plain": [
       "(12.408796625133172, array([12.40879663]))"
      ]
     },
     "execution_count": 37,
     "metadata": {},
     "output_type": "execute_result"
    }
   ],
   "source": [
    "# Se corrobora que el promedio de las predicciones individuales coincide con la predicción del ensamble\n",
    "np.mean(hold_instance), bagging_model.predict(X_test[:1])"
   ]
  },
  {
   "cell_type": "code",
   "execution_count": 11,
   "id": "2708b496",
   "metadata": {},
   "outputs": [
    {
     "data": {
      "text/plain": [
       "array([12.40879663, 11.75970184, 11.55976818, ..., 12.02627757,\n",
       "       11.82541945, 12.28715951])"
      ]
     },
     "execution_count": 11,
     "metadata": {},
     "output_type": "execute_result"
    }
   ],
   "source": [
    "bagging_model.predict(X_test)"
   ]
  },
  {
   "cell_type": "code",
   "execution_count": 12,
   "id": "0ddc775e",
   "metadata": {},
   "outputs": [
    {
     "data": {
      "text/plain": [
       "16934    12.377923\n",
       "Name: log_MedianHouseValue, dtype: float64"
      ]
     },
     "execution_count": 12,
     "metadata": {},
     "output_type": "execute_result"
    }
   ],
   "source": [
    "y_test[:1]"
   ]
  },
  {
   "cell_type": "markdown",
   "id": "9baa5111",
   "metadata": {},
   "source": [
    "# Random Forest\n",
    "\n",
    "- Aplica bagging y además hace una selección aleatoria de atributos, de forma que cada árbol no usa todos los atributos"
   ]
  },
  {
   "cell_type": "code",
   "execution_count": 38,
   "id": "0f6bb089",
   "metadata": {},
   "outputs": [
    {
     "data": {
      "text/html": [
       "<div>\n",
       "<style scoped>\n",
       "    .dataframe tbody tr th:only-of-type {\n",
       "        vertical-align: middle;\n",
       "    }\n",
       "\n",
       "    .dataframe tbody tr th {\n",
       "        vertical-align: top;\n",
       "    }\n",
       "\n",
       "    .dataframe thead th {\n",
       "        text-align: right;\n",
       "    }\n",
       "</style>\n",
       "<table border=\"1\" class=\"dataframe\">\n",
       "  <thead>\n",
       "    <tr style=\"text-align: right;\">\n",
       "      <th></th>\n",
       "      <th>region</th>\n",
       "      <th>population</th>\n",
       "      <th>sex</th>\n",
       "      <th>age</th>\n",
       "      <th>education</th>\n",
       "      <th>income</th>\n",
       "      <th>statusquo</th>\n",
       "      <th>vote</th>\n",
       "    </tr>\n",
       "  </thead>\n",
       "  <tbody>\n",
       "    <tr>\n",
       "      <th>0</th>\n",
       "      <td>N</td>\n",
       "      <td>175000</td>\n",
       "      <td>M</td>\n",
       "      <td>65.0</td>\n",
       "      <td>P</td>\n",
       "      <td>35000.0</td>\n",
       "      <td>1.00820</td>\n",
       "      <td>Y</td>\n",
       "    </tr>\n",
       "    <tr>\n",
       "      <th>1</th>\n",
       "      <td>N</td>\n",
       "      <td>175000</td>\n",
       "      <td>M</td>\n",
       "      <td>29.0</td>\n",
       "      <td>PS</td>\n",
       "      <td>7500.0</td>\n",
       "      <td>-1.29617</td>\n",
       "      <td>N</td>\n",
       "    </tr>\n",
       "    <tr>\n",
       "      <th>2</th>\n",
       "      <td>N</td>\n",
       "      <td>175000</td>\n",
       "      <td>F</td>\n",
       "      <td>38.0</td>\n",
       "      <td>P</td>\n",
       "      <td>15000.0</td>\n",
       "      <td>1.23072</td>\n",
       "      <td>Y</td>\n",
       "    </tr>\n",
       "    <tr>\n",
       "      <th>3</th>\n",
       "      <td>N</td>\n",
       "      <td>175000</td>\n",
       "      <td>F</td>\n",
       "      <td>49.0</td>\n",
       "      <td>P</td>\n",
       "      <td>35000.0</td>\n",
       "      <td>-1.03163</td>\n",
       "      <td>N</td>\n",
       "    </tr>\n",
       "    <tr>\n",
       "      <th>4</th>\n",
       "      <td>N</td>\n",
       "      <td>175000</td>\n",
       "      <td>F</td>\n",
       "      <td>23.0</td>\n",
       "      <td>S</td>\n",
       "      <td>35000.0</td>\n",
       "      <td>-1.10496</td>\n",
       "      <td>N</td>\n",
       "    </tr>\n",
       "  </tbody>\n",
       "</table>\n",
       "</div>"
      ],
      "text/plain": [
       "  region  population sex   age education   income  statusquo vote\n",
       "0      N      175000   M  65.0         P  35000.0    1.00820    Y\n",
       "1      N      175000   M  29.0        PS   7500.0   -1.29617    N\n",
       "2      N      175000   F  38.0         P  15000.0    1.23072    Y\n",
       "3      N      175000   F  49.0         P  35000.0   -1.03163    N\n",
       "4      N      175000   F  23.0         S  35000.0   -1.10496    N"
      ]
     },
     "execution_count": 38,
     "metadata": {},
     "output_type": "execute_result"
    }
   ],
   "source": [
    "# Se agrega imports para random forest y clasificación\n",
    "from sklearn.ensemble import RandomForestClassifier\n",
    "from sklearn.metrics import accuracy_score, roc_auc_score, classification_report\n",
    "\n",
    "# Se carga un nuevo set de datos\n",
    "df = pd.read_csv('voting.csv').drop(columns='Unnamed: 0').dropna()\n",
    "df.head()"
   ]
  },
  {
   "cell_type": "code",
   "execution_count": 39,
   "id": "5b456385",
   "metadata": {},
   "outputs": [
    {
     "data": {
      "text/html": [
       "<div>\n",
       "<style scoped>\n",
       "    .dataframe tbody tr th:only-of-type {\n",
       "        vertical-align: middle;\n",
       "    }\n",
       "\n",
       "    .dataframe tbody tr th {\n",
       "        vertical-align: top;\n",
       "    }\n",
       "\n",
       "    .dataframe thead th {\n",
       "        text-align: right;\n",
       "    }\n",
       "</style>\n",
       "<table border=\"1\" class=\"dataframe\">\n",
       "  <thead>\n",
       "    <tr style=\"text-align: right;\">\n",
       "      <th></th>\n",
       "      <th>population</th>\n",
       "      <th>age</th>\n",
       "      <th>income</th>\n",
       "      <th>statusquo</th>\n",
       "      <th>region_M</th>\n",
       "      <th>region_N</th>\n",
       "      <th>region_S</th>\n",
       "      <th>region_SA</th>\n",
       "      <th>sex_M</th>\n",
       "      <th>education_PS</th>\n",
       "      <th>education_S</th>\n",
       "      <th>vote</th>\n",
       "    </tr>\n",
       "  </thead>\n",
       "  <tbody>\n",
       "    <tr>\n",
       "      <th>0</th>\n",
       "      <td>175000</td>\n",
       "      <td>65.0</td>\n",
       "      <td>35000.0</td>\n",
       "      <td>1.00820</td>\n",
       "      <td>0</td>\n",
       "      <td>1</td>\n",
       "      <td>0</td>\n",
       "      <td>0</td>\n",
       "      <td>1</td>\n",
       "      <td>0</td>\n",
       "      <td>0</td>\n",
       "      <td>Y</td>\n",
       "    </tr>\n",
       "    <tr>\n",
       "      <th>1</th>\n",
       "      <td>175000</td>\n",
       "      <td>29.0</td>\n",
       "      <td>7500.0</td>\n",
       "      <td>-1.29617</td>\n",
       "      <td>0</td>\n",
       "      <td>1</td>\n",
       "      <td>0</td>\n",
       "      <td>0</td>\n",
       "      <td>1</td>\n",
       "      <td>1</td>\n",
       "      <td>0</td>\n",
       "      <td>N</td>\n",
       "    </tr>\n",
       "    <tr>\n",
       "      <th>2</th>\n",
       "      <td>175000</td>\n",
       "      <td>38.0</td>\n",
       "      <td>15000.0</td>\n",
       "      <td>1.23072</td>\n",
       "      <td>0</td>\n",
       "      <td>1</td>\n",
       "      <td>0</td>\n",
       "      <td>0</td>\n",
       "      <td>0</td>\n",
       "      <td>0</td>\n",
       "      <td>0</td>\n",
       "      <td>Y</td>\n",
       "    </tr>\n",
       "    <tr>\n",
       "      <th>3</th>\n",
       "      <td>175000</td>\n",
       "      <td>49.0</td>\n",
       "      <td>35000.0</td>\n",
       "      <td>-1.03163</td>\n",
       "      <td>0</td>\n",
       "      <td>1</td>\n",
       "      <td>0</td>\n",
       "      <td>0</td>\n",
       "      <td>0</td>\n",
       "      <td>0</td>\n",
       "      <td>0</td>\n",
       "      <td>N</td>\n",
       "    </tr>\n",
       "    <tr>\n",
       "      <th>4</th>\n",
       "      <td>175000</td>\n",
       "      <td>23.0</td>\n",
       "      <td>35000.0</td>\n",
       "      <td>-1.10496</td>\n",
       "      <td>0</td>\n",
       "      <td>1</td>\n",
       "      <td>0</td>\n",
       "      <td>0</td>\n",
       "      <td>0</td>\n",
       "      <td>0</td>\n",
       "      <td>1</td>\n",
       "      <td>N</td>\n",
       "    </tr>\n",
       "  </tbody>\n",
       "</table>\n",
       "</div>"
      ],
      "text/plain": [
       "   population   age   income  statusquo  region_M  region_N  region_S  \\\n",
       "0      175000  65.0  35000.0    1.00820         0         1         0   \n",
       "1      175000  29.0   7500.0   -1.29617         0         1         0   \n",
       "2      175000  38.0  15000.0    1.23072         0         1         0   \n",
       "3      175000  49.0  35000.0   -1.03163         0         1         0   \n",
       "4      175000  23.0  35000.0   -1.10496         0         1         0   \n",
       "\n",
       "   region_SA  sex_M  education_PS  education_S vote  \n",
       "0          0      1             0            0    Y  \n",
       "1          0      1             1            0    N  \n",
       "2          0      0             0            0    Y  \n",
       "3          0      0             0            0    N  \n",
       "4          0      0             0            1    N  "
      ]
     },
     "execution_count": 39,
     "metadata": {},
     "output_type": "execute_result"
    }
   ],
   "source": [
    "# Vamos a binarizar cada variable categórica, ignorando la primera categoría de referencia\n",
    "df = pd.concat([\n",
    "    pd.get_dummies(df.drop(columns=\"vote\"), drop_first=True),\n",
    "    df[[\"vote\"]]\n",
    "], axis=1)\n",
    "df.head()"
   ]
  },
  {
   "cell_type": "code",
   "execution_count": 40,
   "id": "c9f44e98",
   "metadata": {},
   "outputs": [],
   "source": [
    "# generamos las muestras definiendo la matriz de atributos\n",
    "X_train, X_test, y_train, y_test = train_test_split(\n",
    "    df.drop(columns=[\"vote\"]),\n",
    "    df['vote'],\n",
    "    test_size=.33,\n",
    "    random_state=11238\n",
    ")"
   ]
  },
  {
   "cell_type": "code",
   "execution_count": 41,
   "id": "748a2192",
   "metadata": {},
   "outputs": [],
   "source": [
    "# Se entrena random forest de clasificación, obteniendo el puntaje fuera de la bolsa\n",
    "voting_rf = RandomForestClassifier(oob_score=True, random_state=11238).fit(X_train, y_train)"
   ]
  },
  {
   "cell_type": "code",
   "execution_count": 42,
   "id": "75df0ef5",
   "metadata": {},
   "outputs": [
    {
     "name": "stdout",
     "output_type": "stream",
     "text": [
      "              precision    recall  f1-score   support\n",
      "\n",
      "           A       0.13      0.04      0.06        47\n",
      "           N       0.74      0.84      0.78       291\n",
      "           U       0.44      0.30      0.36       188\n",
      "           Y       0.69      0.82      0.75       277\n",
      "\n",
      "    accuracy                           0.66       803\n",
      "   macro avg       0.50      0.50      0.49       803\n",
      "weighted avg       0.62      0.66      0.63       803\n",
      "\n"
     ]
    }
   ],
   "source": [
    "# Se explora métricas\n",
    "print(classification_report(y_test, voting_rf.predict(X_test)))"
   ]
  },
  {
   "cell_type": "code",
   "execution_count": 18,
   "id": "6d2e7a19",
   "metadata": {},
   "outputs": [],
   "source": [
    "# Se revisa importancia de atributos\n",
    "def plot_importance(fit_model, feat_names, n=10):\n",
    "    tmp_importance = fit_model.feature_importances_\n",
    "    sort_importance = np.argsort(tmp_importance)[::-1][:n]\n",
    "    names = [feat_names[i] for i in sort_importance]\n",
    "    plt.title(\"Feature importance\")\n",
    "    plt.barh(range(n), list(reversed(tmp_importance[sort_importance])))\n",
    "    plt.yticks(range(n), list(reversed(names)), rotation=0)\n",
    "    return names"
   ]
  },
  {
   "cell_type": "code",
   "execution_count": 25,
   "id": "97d3225e",
   "metadata": {},
   "outputs": [
    {
     "data": {
      "image/png": "[encoded data removed]",
      "text/plain": [
       "<Figure size 576x396 with 1 Axes>"
      ]
     },
     "metadata": {},
     "output_type": "display_data"
    }
   ],
   "source": [
    "_ = plot_importance(voting_rf, X_train.columns)"
   ]
  },
  {
   "cell_type": "markdown",
   "id": "5c2a7dd1",
   "metadata": {},
   "source": [
    "### Selección de distintas cantidades de atributos"
   ]
  },
  {
   "cell_type": "code",
   "execution_count": 20,
   "id": "2fb179ad",
   "metadata": {},
   "outputs": [],
   "source": [
    "# generamos una serie de listas para guardar los valores\n",
    "tmp_oob_none, tmp_oob_sqrt,tmp_oob_log2 = [], [], []\n",
    "tmp_test_acc_none, tmp_test_acc_sqrt, tmp_test_acc_log = [], [], []\n",
    "n_estimators = range(20, 1000, 25)"
   ]
  },
  {
   "cell_type": "code",
   "execution_count": 46,
   "id": "898a7a24",
   "metadata": {},
   "outputs": [
    {
     "data": {
      "text/plain": [
       "[20,\n",
       " 45,\n",
       " 70,\n",
       " 95,\n",
       " 120,\n",
       " 145,\n",
       " 170,\n",
       " 195,\n",
       " 220,\n",
       " 245,\n",
       " 270,\n",
       " 295,\n",
       " 320,\n",
       " 345,\n",
       " 370,\n",
       " 395,\n",
       " 420,\n",
       " 445,\n",
       " 470,\n",
       " 495,\n",
       " 520,\n",
       " 545,\n",
       " 570,\n",
       " 595,\n",
       " 620,\n",
       " 645,\n",
       " 670,\n",
       " 695,\n",
       " 720,\n",
       " 745,\n",
       " 770,\n",
       " 795,\n",
       " 820,\n",
       " 845,\n",
       " 870,\n",
       " 895,\n",
       " 920,\n",
       " 945,\n",
       " 970,\n",
       " 995]"
      ]
     },
     "execution_count": 46,
     "metadata": {},
     "output_type": "execute_result"
    }
   ],
   "source": [
    "list(n_estimators)"
   ]
  },
  {
   "cell_type": "code",
   "execution_count": 21,
   "id": "bd404bb4",
   "metadata": {},
   "outputs": [
    {
     "name": "stdout",
     "output_type": "stream",
     "text": [
      "Requirement already satisfied: tqdm in /home/giani/anaconda3/lib/python3.9/site-packages (4.64.0)\r\n"
     ]
    }
   ],
   "source": [
    "!pip install tqdm\n",
    "from tqdm.notebook import tqdm"
   ]
  },
  {
   "cell_type": "code",
   "execution_count": 22,
   "id": "e2b98185",
   "metadata": {},
   "outputs": [
    {
     "data": {
      "application/vnd.jupyter.widget-view+json": {
       "model_id": "d01aae4e007c46ef98462fda759e8353",
       "version_major": 2,
       "version_minor": 0
      },
      "text/plain": [
       "  0%|          | 0/40 [00:00<?, ?it/s]"
      ]
     },
     "metadata": {},
     "output_type": "display_data"
    }
   ],
   "source": [
    "# para cada rango de modelos estimados\n",
    "for i in tqdm(n_estimators, total=len(n_estimators)):\n",
    "    # Implementamos una variante con todos los atributos\n",
    "    voting_rf_none = RandomForestClassifier(\n",
    "        n_estimators=i,\n",
    "        max_features=None,\n",
    "        oob_score=True,\n",
    "        random_state=123\n",
    "    ).fit(X_train, y_train)\n",
    "    \n",
    "    # Implementamos una variante donde los atributos se escogen con sqrt\n",
    "    voting_rf_sqrt = RandomForestClassifier(\n",
    "        n_estimators= i,\n",
    "        max_features=\"sqrt\",\n",
    "        warm_start=True,\n",
    "        oob_score=True,\n",
    "        random_state=123\n",
    "    ).fit(X_train, y_train)\n",
    "    \n",
    "    # Implementamos una variante donde los atributos se escogen con log\n",
    "    voting_rf_log = RandomForestClassifier(\n",
    "        n_estimators= i,\n",
    "        max_features=\"log2\",\n",
    "        warm_start=True,\n",
    "        oob_score=True,\n",
    "        random_state=123\n",
    "    ).fit(X_train, y_train)\n",
    "    \n",
    "    # Estimamos el error en OOB\n",
    "    tmp_oob_none.append(1 - voting_rf_none.oob_score_)\n",
    "    tmp_oob_sqrt.append(1 - voting_rf_sqrt.oob_score_)\n",
    "    tmp_oob_log2.append(1 - voting_rf_log.oob_score_)\n",
    "    \n",
    "    # Estimamos el error en la exactitud\n",
    "    tmp_test_acc_none.append(\n",
    "        1 - accuracy_score(y_test, voting_rf_none.predict(X_test))\n",
    "    )\n",
    "    tmp_test_acc_sqrt.append(\n",
    "        1 - accuracy_score(y_test, voting_rf_sqrt.predict(X_test))\n",
    "    )\n",
    "    tmp_test_acc_log.append(\n",
    "        1 - accuracy_score(y_test, voting_rf_log.predict(X_test))\n",
    "    )"
   ]
  },
  {
   "cell_type": "code",
   "execution_count": 23,
   "id": "e3ab03b9",
   "metadata": {},
   "outputs": [
    {
     "data": {
      "image/png": "[encoded data removed]",
      "text/plain": [
       "<Figure size 1080x720 with 3 Axes>"
      ]
     },
     "metadata": {},
     "output_type": "display_data"
    }
   ],
   "source": [
    "# Se grafican los puntajes fuera de la bolsa para cada forma de selección de atributos y cada cantidad de árboles\n",
    "fig, axs = plt.subplots(3, 1, sharex=False, sharey=True, figsize=(15, 10));\n",
    "\n",
    "# log2\n",
    "axs[0].plot(tmp_oob_log2, '.-', label='OOB error rate');\n",
    "axs[0].plot(tmp_test_acc_log, '.-', label='Test error rate');\n",
    "axs[0].set_title('Log2');\n",
    "axs[0].set_xticks(range(0, 40))\n",
    "axs[0].set_xticklabels(range(20, 1000, 25));\n",
    "\n",
    "# raíz cuadrada\n",
    "axs[1].plot(tmp_oob_sqrt,'.-', label='OOB error rate');\n",
    "axs[1].plot(tmp_test_acc_sqrt,'.-', label='Test error rate');\n",
    "axs[1].set_title('Squared Root');\n",
    "axs[1].set_xticks(range(0, 40))\n",
    "axs[1].set_xticklabels(range(20, 1000, 25));\n",
    "\n",
    "# Todos\n",
    "axs[2].plot(tmp_oob_none, '.-', label='OOB error rate');\n",
    "axs[2].plot(tmp_test_acc_none,'.-', label='Test error rate');\n",
    "axs[2].set_title('None');\n",
    "axs[2].set_xticks(range(0, 40))\n",
    "axs[2].set_xticklabels(range(20, 1000, 25));\n",
    "\n",
    "plt.tight_layout();\n",
    "plt.legend();"
   ]
  },
  {
   "cell_type": "code",
   "execution_count": null,
   "id": "de0789a7",
   "metadata": {},
   "outputs": [],
   "source": []
  }
 ],
 "metadata": {
  "kernelspec": {
   "display_name": "Python 3 (ipykernel)",
   "language": "python",
   "name": "python3"
  },
  "language_info": {
   "codemirror_mode": {
    "name": "ipython",
    "version": 3
   },
   "file_extension": ".py",
   "mimetype": "text/x-python",
   "name": "python",
   "nbconvert_exporter": "python",
   "pygments_lexer": "ipython3",
   "version": "3.9.12"
  }
 },
 "nbformat": 4,
 "nbformat_minor": 5
}
