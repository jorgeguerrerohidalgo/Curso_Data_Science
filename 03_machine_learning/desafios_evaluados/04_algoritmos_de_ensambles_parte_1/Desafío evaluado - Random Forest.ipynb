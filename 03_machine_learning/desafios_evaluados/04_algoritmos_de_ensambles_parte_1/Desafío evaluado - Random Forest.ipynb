{
 "cells": [
  {
   "cell_type": "markdown",
   "id": "cb1274cb",
   "metadata": {},
   "source": [
    "# Desafío - Random Forest\n",
    "- Para realizar este desafío debes haber estudiado previamente todo el material disponibilizado correspondiente a la unidad.\n",
    "- Una vez terminado el desafío, comprime la carpeta que contiene el desarrollo de los requerimientos solicitados y sube el .zip en el LMS.\n",
    "- Desarrollo desafío:\n",
    "    - El desafío se debe desarrollar de manera Individual.\n",
    "    - Para la realización del desafío necesitarás apoyarte del archivo Apoyo Desafío - Random Forest."
   ]
  },
  {
   "cell_type": "markdown",
   "id": "9e7f58b8",
   "metadata": {},
   "source": [
    "## Requerimientos\n",
    "- Para esta sesión trabajaremos con una base de datos sobre los precios de inmuebles en la ciudad de Ames, Iowa. La base se compone de 2930 registros y contiene un gran número de atributos.\n",
    "- Nuestro objetivo es generar un modelo que prediga de forma adecuada los precios de inmuebles, medidos con la variable Sale_Price.\n",
    "- A diferencia de otras sesiones donde implementamos el preprocesamiento a mano, **ahora haremos uso de los archivos serializados en la sesión pasada**."
   ]
  },
  {
   "cell_type": "markdown",
   "id": "f34efd54",
   "metadata": {},
   "source": [
    "### Ejercicio 1: Preparación del ambiente de trabajo\n",
    "- Importe las librerías clásicas a utilizar.\n",
    "- Para este ejercicio Random Forest de Regresión.\n",
    "- De manera adicional importe las funciones y clases necesarias para generar un desempeño de métricas en problemas de regresión.\n",
    "- Elimine la columna `Unnamed: 0` cuando cargue los datos."
   ]
  },
  {
   "cell_type": "code",
   "execution_count": 1,
   "id": "47198fb7",
   "metadata": {},
   "outputs": [],
   "source": [
    "# Utiliza esta celda para importar los módulos y cargar el dataframe original\n",
    "import pandas as pd\n",
    "import numpy as np\n",
    "\n",
    "import matplotlib.pyplot as plt\n",
    "import seaborn as sns\n",
    "\n",
    "import pickle\n",
    "\n",
    "from sklearn.tree import DecisionTreeRegressor\n",
    "from sklearn.metrics import mean_squared_error, median_absolute_error, r2_score\n",
    "from sklearn.model_selection import train_test_split, GridSearchCV\n",
    "from sklearn.ensemble import RandomForestRegressor\n",
    "import warnings\n",
    "warnings.simplefilter('ignore')\n",
    "plt.style.use('ggplot')\n"
   ]
  },
  {
   "cell_type": "code",
   "execution_count": 2,
   "id": "f167d5b3-221b-4d3a-956e-9ae35ba20b8a",
   "metadata": {},
   "outputs": [],
   "source": [
    "df = pd.read_csv('ames_housing.csv').drop(columns='Unnamed: 0')"
   ]
  },
  {
   "cell_type": "markdown",
   "id": "fd2d4940",
   "metadata": {},
   "source": [
    "### Ejercicio 2: Importación de archivos serializados\n",
    "- Importe su modelo entrenado y sus conjuntos de entrenamiento y validación serializados la sesión pasada y evalúe el desempeño del modelo de su compañero con el suyo ¿Cuál es mejor? Si no puede ejecutar el modelo, comente cuáles pueden ser los causantes.\n",
    "- No es necesario que realice diagnósticos gráficos sobre el modelo, sólo reporte sus métricas.\n",
    "- Para importar un archivo serializado, puede ocupar la siguiente línea de código:\n",
    "```python\n",
    "import pickle\n",
    "read_model = pickle.load(open(\"ignacio-soto-act07.sav\",\"rb\"))\n",
    "```"
   ]
  },
  {
   "cell_type": "code",
   "execution_count": 3,
   "id": "6e4bb4ee",
   "metadata": {},
   "outputs": [],
   "source": [
    "# Utiliza esta celda para cargar tus datos serializados (archivos csv generados de las muestras en el desafío anterior)\n",
    "r_model_jg = pickle.load(open(\"archivos/jorge_guerrero.sav\",\"rb\"))\n",
    "\n",
    "X_train_pd = pd.read_csv(\"archivos/X_train.csv\")\n",
    "X_test_pd = pd.read_csv(\"archivos/X_test.csv\")\n",
    "y_train_pd = pd.read_csv(\"archivos/y_train.csv\")\n",
    "y_test_pd = pd.read_csv(\"archivos/y_test.csv\")"
   ]
  },
  {
   "cell_type": "code",
   "execution_count": 4,
   "id": "c4522956-6e8c-44ce-a85f-6b182d53db4d",
   "metadata": {
    "tags": []
   },
   "outputs": [],
   "source": [
    "#X_test_dm = pd.concat([X_test_pd,y_test_pd], axis=1)"
   ]
  },
  {
   "cell_type": "code",
   "execution_count": 5,
   "id": "de2697ea",
   "metadata": {},
   "outputs": [],
   "source": [
    "# Utiliza esta celda para cargar el modelo serializado de un compañero\n",
    "r_model_dm= pickle.load(open(\"archivos/model_dms.sav\",\"rb\"))"
   ]
  },
  {
   "cell_type": "code",
   "execution_count": 6,
   "id": "ebcac537",
   "metadata": {},
   "outputs": [
    {
     "name": "stdout",
     "output_type": "stream",
     "text": [
      "Modelo de Jorge Guerrero - Root Mean Squared Error: 41343.56664199182\n",
      "Modelo de Jorge Guerrero - Median Absolute Error: 14488.666666666657\n",
      "Modelo de Jorge Guerrero - R2 Score: 0.6992529328422019\n"
     ]
    }
   ],
   "source": [
    "# Utiliza esta celda para realizar predicciones en tus datos con el modelo de tu compañero\n",
    "y_hat_jg = r_model_jg.predict(X_test_pd)\n",
    "\n",
    "# Utiliza esta celda para explorar las métricas de las predicciones\n",
    "print(f\"Modelo de Jorge Guerrero - Root Mean Squared Error: {np.sqrt(mean_squared_error(y_test_pd, y_hat_jg))}\")\n",
    "print(f\"Modelo de Jorge Guerrero - Median Absolute Error: {median_absolute_error(y_test_pd, y_hat_jg)}\")\n",
    "print(f\"Modelo de Jorge Guerrero - R2 Score: {r2_score(y_test_pd, y_hat_jg)}\")"
   ]
  },
  {
   "cell_type": "code",
   "execution_count": 7,
   "id": "6aca8f2d-64db-48c7-bc0c-1805a1d7a497",
   "metadata": {
    "tags": []
   },
   "outputs": [
    {
     "name": "stdout",
     "output_type": "stream",
     "text": [
      "Modelo de Daniel Mardones - Root Mean Squared Error: 44885.8235070632\n",
      "Modelo de Daniel Mardones - Median Absolute Error: 20232.710280373838\n",
      "Modelo de Daniel Mardones - R2 Score: 0.6455100589515765\n"
     ]
    }
   ],
   "source": [
    "# Utiliza esta celda para realizar predicciones en tus datos con el modelo de tu compañero\n",
    "y_hat_dm = r_model_dm.predict(X_test_pd)\n",
    "\n",
    "# Utiliza esta celda para explorar las métricas de las predicciones\n",
    "print(f\"Modelo de Daniel Mardones - Root Mean Squared Error: {np.sqrt(mean_squared_error(y_test_pd, y_hat_dm))}\")\n",
    "print(f\"Modelo de Daniel Mardones - Median Absolute Error: {median_absolute_error(y_test_pd, y_hat_dm)}\")\n",
    "print(f\"Modelo de Daniel Mardones - R2 Score: {r2_score(y_test_pd, y_hat_dm)}\")"
   ]
  },
  {
   "cell_type": "markdown",
   "id": "695a5099",
   "metadata": {},
   "source": [
    "**Comentarios**\n",
    "\n",
    "Al ejecutar el modelo de Daniel, puedo observar que presenta metricas mas debiles en relacion al R2 Score (.64 vs .69) y con mayor MAE (20232 vs 14448 = Dif 6.000 aprox). Puedo concluir que mi modelo presenta mejores metricas que el modelo de Daniel."
   ]
  },
  {
   "cell_type": "markdown",
   "id": "b8652442",
   "metadata": {},
   "source": [
    "### Ejercicio 3: Evaluación Random Forest\n",
    "- En base a los conjuntos de entrenamiento serializados, genere un modelo utilizando `sklearn.ensemble.RandomForest` sin modificar hiper parámetros, sólo declarando la semilla pseudoaleatoria.\n",
    "- Reporte su desempeño y compárelo con su modelo de la sesión pasada, así como con el de su compañero."
   ]
  },
  {
   "cell_type": "code",
   "execution_count": 8,
   "id": "9c03708d",
   "metadata": {},
   "outputs": [],
   "source": [
    "# Utiliza esta celda para entrenar el Random Forest y generar predicciones (usa las muestras divididas cargadas)\n",
    "random_forest = RandomForestRegressor(random_state = 11238).fit(X_train_pd, y_train_pd)"
   ]
  },
  {
   "cell_type": "code",
   "execution_count": 9,
   "id": "4e8abed3",
   "metadata": {},
   "outputs": [
    {
     "name": "stdout",
     "output_type": "stream",
     "text": [
      "Root Mean Squared Error: 31868.29388214922\n",
      "Median Absolute Error: 12218.959999999992\n",
      "R2 Score: 0.8213088070371369\n"
     ]
    }
   ],
   "source": [
    "# Utiliza esta celda para reportar las métricas\n",
    "y_hat_randomforest = random_forest.predict(X_test_pd)\n",
    "\n",
    "print(f\"Root Mean Squared Error: {np.sqrt(mean_squared_error(y_test_pd, y_hat_randomforest))}\")\n",
    "print(f\"Median Absolute Error: {median_absolute_error(y_test_pd, y_hat_randomforest)}\")\n",
    "print(f\"R2 Score: {r2_score(y_test_pd, y_hat_randomforest)}\")"
   ]
  },
  {
   "cell_type": "markdown",
   "id": "d4669639",
   "metadata": {},
   "source": [
    "**Comentarios**\n",
    "\n",
    "En modelo con random_forest presenta un desempeño muy superior en relación, a los modelos de la sesión, tanto el de Daniel como el mio. El R2 Score mejora en casi 12 puntos y disminuye de forma considerables el R-MSE y MAE."
   ]
  },
  {
   "cell_type": "markdown",
   "id": "fd87d2bb",
   "metadata": {},
   "source": [
    "### Ejercicio 4: Reporte las métricas de desempeño\n",
    "- Para afinar el comportamiento de nuestro modelo, evalúe su desempeño los siguientes hiper parámetros:\n",
    "    - `max_features`: `None`, `log2`, `sqrt`.\n",
    "    - `n_estimators`: Evaluar entre 20 y 1000 en pasos de 50.\n",
    "- Guarde la tasa de error en la exactitud medida con OOB.\n",
    "- Grafique el comportamiento.\n",
    "\n",
    "**Tip**: Revisar código utilizado en la sesión"
   ]
  },
  {
   "cell_type": "code",
   "execution_count": 10,
   "id": "faf65911",
   "metadata": {},
   "outputs": [],
   "source": [
    "# Utiliza esta celda para generar los arreglos vacíos\n",
    "tmp_oob_none, tmp_oob_sqrt,tmp_oob_log2 = [], [], []\n",
    "n_estimators = range(20, 1000, 50)"
   ]
  },
  {
   "cell_type": "code",
   "execution_count": 11,
   "id": "0bd4d1a0",
   "metadata": {},
   "outputs": [],
   "source": [
    "# Utiliza esta celda para generar el loop de entrenamiento con oob score\n",
    "for i in n_estimators:\n",
    "    \n",
    "    # Implementamos una variante con todos los atributos\n",
    "    rf_none = RandomForestRegressor(n_estimators = i, max_features = None, oob_score = True, \n",
    "                            n_jobs = -1, random_state = 11238).fit(X_train_pd, y_train_pd)\n",
    "    # Implementamos una variante donde los atributos se escogen con sqrt\n",
    "    rf_sqrt = RandomForestRegressor(n_estimators= i, max_features = \"sqrt\", warm_start = True, \n",
    "            n_jobs = -1, oob_score = True, random_state = 11238).fit(X_train_pd, y_train_pd)\n",
    "    # Implementamos una variante donde los atributos se escogen con log\n",
    "    rf_log = RandomForestRegressor(n_estimators = i, max_features = \"log2\", warm_start = True, \n",
    "            n_jobs = -1, oob_score = True, random_state=11238).fit(X_train_pd, y_train_pd)\n",
    "\n",
    "    # Estimamos el error en OOB\n",
    "    tmp_oob_none.append(1 - rf_none.oob_score_)\n",
    "    tmp_oob_sqrt.append(1 - rf_sqrt.oob_score_)\n",
    "    tmp_oob_log2.append(1 - rf_log.oob_score_)"
   ]
  },
  {
   "cell_type": "code",
   "execution_count": null,
   "id": "8075bc86-ac7a-4860-a5a5-ac0280723d74",
   "metadata": {},
   "outputs": [],
   "source": [
    "# Utiliza esta celda para graficar los resultados\n",
    "plt.figure(figsize = (12, 4))\n",
    "fig, axs = plt.subplots(1, 3, sharex = True, sharey = True)\n",
    "axs[0].plot(tmp_oob_log2, '.-', label = 'OOB error rate')\n",
    "axs[0].set_title('Log2')\n",
    "axs[1].plot(tmp_oob_sqrt,'.-', label = 'OOB error rate')\n",
    "axs[1].set_title('Squared Root')\n",
    "axs[2].plot(tmp_oob_none, '.-', label = 'OOB error rate')\n",
    "axs[2].set_title('None')\n",
    "plt.tight_layout()\n",
    "plt.legend()"
   ]
  },
  {
   "cell_type": "markdown",
   "id": "dad6be03",
   "metadata": {},
   "source": [
    "**Comentarios**"
   ]
  },
  {
   "cell_type": "markdown",
   "id": "37927461",
   "metadata": {},
   "source": [
    "### Ejercicio 5: Refactoriza el modelo\n",
    "- En base a la mejor combinación de hiper parámetros, reentrene el modelo y comente su desempeño."
   ]
  },
  {
   "cell_type": "code",
   "execution_count": 13,
   "id": "cb9a8c67",
   "metadata": {},
   "outputs": [],
   "source": [
    "# Utiliza esta celda para entrenar el nuevo modelo y generar predicciones\n",
    "mejor_modelo_params = RandomForestRegressor(n_estimators = 20, max_features = \"log2\", \n",
    "                                            n_jobs=-1, oob_score = True, random_state = 11238).fit(X_train_pd, y_train_pd)"
   ]
  },
  {
   "cell_type": "code",
   "execution_count": 14,
   "id": "94e81af1",
   "metadata": {},
   "outputs": [
    {
     "name": "stdout",
     "output_type": "stream",
     "text": [
      "Root Mean Squared Error: 31515.66719453401\n",
      "Median Absolute Error: 13040.0\n",
      "R2 Score: 0.8252414097560818\n"
     ]
    }
   ],
   "source": [
    "# Utiliza esta celda para mostrar las métricas\n",
    "\n",
    "y_hat_model_refact = mejor_modelo_params.predict(X_test_pd)\n",
    "\n",
    "print(f\"Root Mean Squared Error: {np.sqrt(mean_squared_error(y_test_pd, y_hat_model_refact))}\")\n",
    "print(f\"Median Absolute Error: {median_absolute_error(y_test_pd, y_hat_model_refact)}\")\n",
    "print(f\"R2 Score: {r2_score(y_test_pd, y_hat_model_refact)}\")"
   ]
  },
  {
   "cell_type": "markdown",
   "id": "3504fba3",
   "metadata": {},
   "source": [
    "**Comentarios**"
   ]
  },
  {
   "cell_type": "markdown",
   "id": "f5ce2ae3-ed1b-4904-b465-afd3cf604ea3",
   "metadata": {},
   "source": [
    "El modelo mejora levemente su desempeño en el R2 Score, pasando de un 0.8213 a un 0.8252. Por el lado de R-MSE, tambien presenta una leve mejora con relacion al modelo sin modificación de hiper parametros: 31515 vs 31868. Donde empeora levemente es en el MAE: 13040 del modelo mejorado, versus, 12218 del modelo sin modificación de hiper parametros."
   ]
  }
 ],
 "metadata": {
  "kernelspec": {
   "display_name": "Python 3 (ipykernel)",
   "language": "python",
   "name": "python3"
  },
  "language_info": {
   "codemirror_mode": {
    "name": "ipython",
    "version": 3
   },
   "file_extension": ".py",
   "mimetype": "text/x-python",
   "name": "python",
   "nbconvert_exporter": "python",
   "pygments_lexer": "ipython3",
   "version": "3.9.12"
  }
 },
 "nbformat": 4,
 "nbformat_minor": 5
}
