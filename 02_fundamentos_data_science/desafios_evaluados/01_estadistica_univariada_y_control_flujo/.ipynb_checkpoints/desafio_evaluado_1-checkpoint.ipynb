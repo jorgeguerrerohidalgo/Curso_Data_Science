{
 "cells": [
  {
   "cell_type": "code",
   "execution_count": 1,
   "id": "510dbcf2-1389-49ff-bb55-11c21be25573",
   "metadata": {},
   "outputs": [],
   "source": [
    "import pandas as pd\n",
    "import numpy as np"
   ]
  },
  {
   "cell_type": "code",
   "execution_count": null,
   "id": "a726a58f-afdf-4841-aa1e-f7890107f903",
   "metadata": {},
   "outputs": [],
   "source": [
    "# 1. Generar un par de arrays ficticios con numpy."
   ]
  },
  {
   "cell_type": "code",
   "execution_count": 30,
   "id": "2bdb2a67-fade-4e0f-b691-8dcd3f958b42",
   "metadata": {},
   "outputs": [],
   "source": [
    "array1_50 = np.linspace(1,50).astype(int)"
   ]
  },
  {
   "cell_type": "code",
   "execution_count": 28,
   "id": "ad866947-b1c5-4d7d-b616-bc97b98a5144",
   "metadata": {},
   "outputs": [],
   "source": [
    "array50_150 =np.linspace(50,150,num=100).astype(int)"
   ]
  },
  {
   "cell_type": "code",
   "execution_count": null,
   "id": "b98abc96-da0e-4da6-8c19-c4e8c0113506",
   "metadata": {},
   "outputs": [],
   "source": [
    "# 2. Ejecuta un loop que devuelva si el número en el primer array es par o impar."
   ]
  },
  {
   "cell_type": "code",
   "execution_count": 128,
   "id": "69d17d7b-e60a-462f-8ce1-fae650e700a2",
   "metadata": {
    "collapsed": true,
    "jupyter": {
     "outputs_hidden": true
    },
    "tags": []
   },
   "outputs": [
    {
     "name": "stdout",
     "output_type": "stream",
     "text": [
      "2  es par\n",
      "3  es impar\n",
      "4  es par\n",
      "5  es impar\n",
      "6  es par\n",
      "7  es impar\n",
      "8  es par\n",
      "9  es impar\n",
      "10  es par\n",
      "11  es impar\n",
      "12  es par\n",
      "13  es impar\n",
      "14  es par\n",
      "15  es impar\n",
      "16  es par\n",
      "17  es impar\n",
      "18  es par\n",
      "19  es impar\n",
      "20  es par\n",
      "21  es impar\n",
      "22  es par\n",
      "23  es impar\n",
      "24  es par\n",
      "25  es impar\n",
      "26  es par\n",
      "27  es impar\n",
      "28  es par\n",
      "29  es impar\n",
      "30  es par\n",
      "31  es impar\n",
      "32  es par\n",
      "33  es impar\n",
      "34  es par\n",
      "35  es impar\n",
      "36  es par\n",
      "37  es impar\n",
      "38  es par\n",
      "39  es impar\n",
      "40  es par\n",
      "41  es impar\n",
      "42  es par\n",
      "43  es impar\n",
      "44  es par\n",
      "45  es impar\n",
      "46  es par\n",
      "47  es impar\n",
      "48  es par\n",
      "49  es impar\n",
      "50  es par\n"
     ]
    },
    {
     "ename": "IndexError",
     "evalue": "index 50 is out of bounds for axis 0 with size 50",
     "output_type": "error",
     "traceback": [
      "\u001b[0;31m---------------------------------------------------------------------------\u001b[0m",
      "\u001b[0;31mIndexError\u001b[0m                                Traceback (most recent call last)",
      "Input \u001b[0;32mIn [128]\u001b[0m, in \u001b[0;36m<cell line: 1>\u001b[0;34m()\u001b[0m\n\u001b[1;32m      1\u001b[0m \u001b[38;5;28;01mfor\u001b[39;00m i \u001b[38;5;129;01min\u001b[39;00m array1_50:\n\u001b[0;32m----> 2\u001b[0m     \u001b[38;5;28;01mif\u001b[39;00m \u001b[43marray1_50\u001b[49m\u001b[43m[\u001b[49m\u001b[43mi\u001b[49m\u001b[43m]\u001b[49m\u001b[38;5;241m%\u001b[39m\u001b[38;5;241m2\u001b[39m\u001b[38;5;241m==\u001b[39m\u001b[38;5;241m0\u001b[39m:\n\u001b[1;32m      3\u001b[0m         \u001b[38;5;66;03m#print (i)\u001b[39;00m\n\u001b[1;32m      4\u001b[0m         \u001b[38;5;28mprint\u001b[39m (array1_50[i],\u001b[38;5;124m\"\u001b[39m\u001b[38;5;124m es par\u001b[39m\u001b[38;5;124m\"\u001b[39m)\n\u001b[1;32m      5\u001b[0m     \u001b[38;5;28;01melse\u001b[39;00m:\n\u001b[1;32m      6\u001b[0m         \u001b[38;5;66;03m#print (i)\u001b[39;00m\n",
      "\u001b[0;31mIndexError\u001b[0m: index 50 is out of bounds for axis 0 with size 50"
     ]
    }
   ],
   "source": [
    "for i in array1_50:\n",
    "    if array1_50[i]%2==0:\n",
    "        #print (i)\n",
    "        print (array1_50[i],\" es par\")\n",
    "    else:\n",
    "        #print (i)\n",
    "        print (array1_50[i],\" es impar\")"
   ]
  },
  {
   "cell_type": "code",
   "execution_count": null,
   "id": "6547bb12-aa0a-49b5-aac6-a755c4dc6373",
   "metadata": {},
   "outputs": [],
   "source": [
    "#Genere un loop con el segundo array que cuente las siguientes condiciones:\n",
    "#● Si el número es divisible por 2 o 3.\n",
    "#● Si el número es divisible por 2 y 3.\n",
    "#● Si el número es divisible por 3 pero no por 2.\n",
    "#● si el número no es divisible por 2 ni 3."
   ]
  },
  {
   "cell_type": "code",
   "execution_count": 131,
   "id": "3f11246a-7af8-48e0-a4f8-dc921218273f",
   "metadata": {},
   "outputs": [
    {
     "name": "stdout",
     "output_type": "stream",
     "text": [
      "Si el número es divisible por 2 o 3, la cantidad es:  68\n",
      "Si el número es divisible por 2 y 3, la cantidad es:  17\n",
      "Si el número es divisible por 3 pero no por 2, la cantidad es:  17\n",
      "Si el número no es divisible por 2 ni 3, la cantidad es:  32\n"
     ]
    }
   ],
   "source": [
    "count_caso1 = 0\n",
    "count_caso2 = 0\n",
    "count_caso3 = 0\n",
    "count_caso4 = 0\n",
    "\n",
    "for k in array50_150:\n",
    "    if (k % 2==0) and (k % 3==0):\n",
    "        #print ('paso 2',k)\n",
    "        count_caso2 +=1\n",
    "    if(k % 2!=0) and (k % 3==0):\n",
    "        #print ('paso 3',k)\n",
    "        count_caso3 +=1  \n",
    "    if (k % 2==0) or (k % 3==0):\n",
    "        #print ('paso 1',k)\n",
    "        count_caso1 +=1\n",
    "    if (k % 2!=0) and (k % 3!=0):\n",
    "        #print ('paso 4',k)\n",
    "        count_caso4 +=1\n",
    "\n",
    "print (\"Si el número es divisible por 2 o 3, la cantidad es: \",count_caso1)\n",
    "print (\"Si el número es divisible por 2 y 3, la cantidad es: \",count_caso2)\n",
    "print (\"Si el número es divisible por 3 pero no por 2, la cantidad es: \",count_caso3)\n",
    "print (\"Si el número no es divisible por 2 ni 3, la cantidad es: \",count_caso4)"
   ]
  },
  {
   "cell_type": "code",
   "execution_count": null,
   "id": "2ff6edb4-bffe-488c-bf3d-46cf3e6ccc91",
   "metadata": {},
   "outputs": [],
   "source": [
    "# 4. Corrección de errores: Revisa el siguiente código y encuentra los errores a corregir.\n",
    "#for i in range(100):\n",
    "#print(I**2)"
   ]
  },
  {
   "cell_type": "code",
   "execution_count": 70,
   "id": "10a88a44-61c2-4c33-adf0-c87db95dbe91",
   "metadata": {
    "collapsed": true,
    "jupyter": {
     "outputs_hidden": true
    },
    "tags": []
   },
   "outputs": [
    {
     "name": "stdout",
     "output_type": "stream",
     "text": [
      "0\n",
      "1\n",
      "4\n",
      "9\n",
      "16\n",
      "25\n",
      "36\n",
      "49\n",
      "64\n",
      "81\n",
      "100\n",
      "121\n",
      "144\n",
      "169\n",
      "196\n",
      "225\n",
      "256\n",
      "289\n",
      "324\n",
      "361\n",
      "400\n",
      "441\n",
      "484\n",
      "529\n",
      "576\n",
      "625\n",
      "676\n",
      "729\n",
      "784\n",
      "841\n",
      "900\n",
      "961\n",
      "1024\n",
      "1089\n",
      "1156\n",
      "1225\n",
      "1296\n",
      "1369\n",
      "1444\n",
      "1521\n",
      "1600\n",
      "1681\n",
      "1764\n",
      "1849\n",
      "1936\n",
      "2025\n",
      "2116\n",
      "2209\n",
      "2304\n",
      "2401\n",
      "2500\n",
      "2601\n",
      "2704\n",
      "2809\n",
      "2916\n",
      "3025\n",
      "3136\n",
      "3249\n",
      "3364\n",
      "3481\n",
      "3600\n",
      "3721\n",
      "3844\n",
      "3969\n",
      "4096\n",
      "4225\n",
      "4356\n",
      "4489\n",
      "4624\n",
      "4761\n",
      "4900\n",
      "5041\n",
      "5184\n",
      "5329\n",
      "5476\n",
      "5625\n",
      "5776\n",
      "5929\n",
      "6084\n",
      "6241\n",
      "6400\n",
      "6561\n",
      "6724\n",
      "6889\n",
      "7056\n",
      "7225\n",
      "7396\n",
      "7569\n",
      "7744\n",
      "7921\n",
      "8100\n",
      "8281\n",
      "8464\n",
      "8649\n",
      "8836\n",
      "9025\n",
      "9216\n",
      "9409\n",
      "9604\n",
      "9801\n"
     ]
    }
   ],
   "source": [
    "for i in range(100):\n",
    "    print(i**2)"
   ]
  },
  {
   "cell_type": "code",
   "execution_count": null,
   "id": "90f938c4-8e7f-4bb8-a52a-9ee8bbd0976d",
   "metadata": {},
   "outputs": [],
   "source": [
    "# 5. Utilizando la misma base flights.csv debes hacer un loop y clasificar los meses con una cantidad de pasajeros menor a la media. Para ello:"
   ]
  },
  {
   "cell_type": "code",
   "execution_count": 229,
   "id": "4820838b-daf8-44f4-9b11-b8ba2a50dfb6",
   "metadata": {},
   "outputs": [],
   "source": [
    "df=pd.read_csv('flights.csv')"
   ]
  },
  {
   "cell_type": "code",
   "execution_count": null,
   "id": "04b7cc31-d781-4dab-b66a-bbc69fcea283",
   "metadata": {},
   "outputs": [],
   "source": [
    "# Genera un nuevo objeto que represente la media de passengers."
   ]
  },
  {
   "cell_type": "code",
   "execution_count": 230,
   "id": "0e2b7cfe-d54d-449c-af61-febf134dbf0b",
   "metadata": {},
   "outputs": [],
   "source": [
    "media=np.mean(df['passengers'])"
   ]
  },
  {
   "cell_type": "code",
   "execution_count": null,
   "id": "b353b2f4-1c16-4d60-be23-1b21b86f7c25",
   "metadata": {
    "tags": []
   },
   "outputs": [],
   "source": [
    "# Genera una columna en la base de datos que se llame underperforming y asígnele 0."
   ]
  },
  {
   "cell_type": "code",
   "execution_count": 231,
   "id": "477ea92b-e701-40dd-b481-0deeebb03580",
   "metadata": {
    "tags": []
   },
   "outputs": [],
   "source": [
    "df['underperforming']=0"
   ]
  },
  {
   "cell_type": "code",
   "execution_count": null,
   "id": "f3d159eb-5f45-4d7f-9bf5-85ec5093e9f1",
   "metadata": {},
   "outputs": [],
   "source": [
    "# Ejecuta un loop que recorra cada observación de passengers, donde si la observación es menor a la media de passengers se le asigne a underperforming un 1."
   ]
  },
  {
   "cell_type": "code",
   "execution_count": 167,
   "id": "bf8347e5-067e-4445-bd7f-8d4225a130fd",
   "metadata": {},
   "outputs": [],
   "source": [
    "#for rowname, rowseries in df.iterrows():\n",
    "#    if rowseries['passengers'] < media:\n",
    "#        df.at['underperforming'] = 1"
   ]
  },
  {
   "cell_type": "code",
   "execution_count": 232,
   "id": "b3503d8c-6405-48d1-8f5f-831b18504353",
   "metadata": {
    "tags": []
   },
   "outputs": [],
   "source": [
    "for i in range(len(df)):\n",
    "    if df['passengers'].values[i]< media:\n",
    "        df['underperforming'].values[i]=1"
   ]
  },
  {
   "cell_type": "code",
   "execution_count": null,
   "id": "f9e3ef6f-d9e3-4b71-8d2c-e3ed1da11e14",
   "metadata": {
    "tags": []
   },
   "outputs": [],
   "source": [
    "# Asignar unos en la columna underperforming ya creada, para ello utilice la función at de pandas."
   ]
  },
  {
   "cell_type": "code",
   "execution_count": 233,
   "id": "903e2cc0-d573-4e23-89a1-f391c45dd893",
   "metadata": {
    "tags": []
   },
   "outputs": [],
   "source": [
    "for row in df.index:\n",
    "    df.at[row,'underperforming']=1"
   ]
  },
  {
   "cell_type": "code",
   "execution_count": null,
   "id": "78863067-4ce1-4510-8423-49eb03ae718c",
   "metadata": {},
   "outputs": [],
   "source": [
    "# 6. Por último, haz un loop que clasifique los meses donde la cantidad de pasajeros se escapa de la tendencia. Para ello:"
   ]
  },
  {
   "cell_type": "code",
   "execution_count": null,
   "id": "25bddb28-795e-4ba5-b22c-f0841cfe69a7",
   "metadata": {},
   "outputs": [],
   "source": [
    "# Genera dos objetos que guarden la media general y la desviación estándar general de passengers."
   ]
  },
  {
   "cell_type": "code",
   "execution_count": 235,
   "id": "921bb751-0959-4115-8264-9fa262deaa27",
   "metadata": {},
   "outputs": [],
   "source": [
    "mediana=np.median(df['passengers'])"
   ]
  },
  {
   "cell_type": "code",
   "execution_count": 236,
   "id": "9cb44f37-f39b-46cc-9385-6eab39971de6",
   "metadata": {},
   "outputs": [],
   "source": [
    "desviacion_estandar=np.std(df['passengers'])"
   ]
  },
  {
   "cell_type": "code",
   "execution_count": null,
   "id": "f1d6481e-0386-4442-bbc8-bbb7c92835c7",
   "metadata": {},
   "outputs": [],
   "source": [
    "# Genera una nueva columna en la tabla de datos que se llame outlier y asígnale 0."
   ]
  },
  {
   "cell_type": "code",
   "execution_count": 237,
   "id": "dbe09820-8da2-4c40-a330-145ddf98a5ea",
   "metadata": {},
   "outputs": [],
   "source": [
    "df['outlier']=0"
   ]
  },
  {
   "cell_type": "code",
   "execution_count": 189,
   "id": "fdaa5c3e-12af-41fb-b087-c7115d793857",
   "metadata": {},
   "outputs": [],
   "source": [
    "# Ejecuta un loop que recorra cada observación de passengers, donde si la observación se escapa de la tendencia sea 1, de lo contrario 0.\n",
    "#○ La observación debe ser menor a la media menos la desviación estándar, o\n",
    "#○ La observación debe ser mayor a la media más la desviación estándar.\n",
    "#○ ¿Cuántas observaciones se pueden clasificar como casos extremos?"
   ]
  },
  {
   "cell_type": "code",
   "execution_count": 239,
   "id": "b3268a94-d4ce-48d5-98c7-9e1f1a9f8d14",
   "metadata": {},
   "outputs": [],
   "source": [
    "observacion_1= mediana-desviacion_estandar"
   ]
  },
  {
   "cell_type": "code",
   "execution_count": 240,
   "id": "20c77f72-1276-49db-be12-f148315a77d9",
   "metadata": {},
   "outputs": [],
   "source": [
    "observacion_2=mediana+desviacion_estandar"
   ]
  },
  {
   "cell_type": "code",
   "execution_count": 243,
   "id": "54287bff-ee42-4f43-af5b-5e00b404162a",
   "metadata": {},
   "outputs": [],
   "source": [
    "for i in range(len(df)):\n",
    "    if df['passengers'].values[i]< observacion_1:\n",
    "        df['outlier'].values[i]=1\n",
    "    elif df['passengers'].values[i]> observacion_2:\n",
    "        df['outlier'].values[i]=1\n",
    "    else:\n",
    "        df['outlier'].values[i]=0"
   ]
  },
  {
   "cell_type": "code",
   "execution_count": 248,
   "id": "a8f1613b-a00a-4618-a092-7dff34187db9",
   "metadata": {},
   "outputs": [
    {
     "name": "stdout",
     "output_type": "stream",
     "text": [
      "Los casos extremos son:  50\n"
     ]
    }
   ],
   "source": [
    "casos_extremos=0\n",
    "for rowname, rowseries in df.iterrows():\n",
    "    if rowseries['outlier']==1:\n",
    "        casos_extremos += 1\n",
    "        \n",
    "print(\"Los casos extremos son: \",casos_extremos)"
   ]
  }
 ],
 "metadata": {
  "kernelspec": {
   "display_name": "Python 3 (ipykernel)",
   "language": "python",
   "name": "python3"
  },
  "language_info": {
   "codemirror_mode": {
    "name": "ipython",
    "version": 3
   },
   "file_extension": ".py",
   "mimetype": "text/x-python",
   "name": "python",
   "nbconvert_exporter": "python",
   "pygments_lexer": "ipython3",
   "version": "3.9.12"
  }
 },
 "nbformat": 4,
 "nbformat_minor": 5
}
