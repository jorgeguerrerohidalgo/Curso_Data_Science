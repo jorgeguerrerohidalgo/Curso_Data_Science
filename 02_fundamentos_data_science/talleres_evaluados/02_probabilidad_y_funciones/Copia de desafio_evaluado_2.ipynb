{
 "cells": [
  {
   "cell_type": "code",
   "execution_count": 91,
   "id": "a7925580-ca5d-4734-92b7-ce727ad0d181",
   "metadata": {},
   "outputs": [],
   "source": [
    "import pandas as pd\n",
    "import numpy as np"
   ]
  },
  {
   "cell_type": "code",
   "execution_count": 92,
   "id": "7e610186-38a5-4dd3-93c3-deddbd32b7d8",
   "metadata": {},
   "outputs": [],
   "source": [
    "df_worldcup = pd.read_csv('worldcup2014.csv')"
   ]
  },
  {
   "cell_type": "markdown",
   "id": "98247caf-11bc-4fab-8cf3-4454fa5e64ba",
   "metadata": {},
   "source": [
    "Desafío 1: Generación de funciones\n",
    "● Genere funciones para calcular la media y varianza de un vector. Debe cumplir con\n",
    "los siguientes requisitos:\n",
    "○ Ambas funciones deben ingresar un argumento x correspondiente al vector.\n",
    "○ Las funciones deben contener docstrings con la documentación asociada a\n",
    "la variable y retornar un valor utilizando return.\n",
    "○ La función de la varianza se debe llamar a la función de la media.\n",
    "● Utilice las funciones para reportar la información sobre goles_favor, goles_contra\n",
    "y puntos."
   ]
  },
  {
   "cell_type": "code",
   "execution_count": 93,
   "id": "db2d8d18-29e2-44b4-9594-47224082e18e",
   "metadata": {},
   "outputs": [],
   "source": [
    "def media(x):\n",
    "    median=np.mean(x)\n",
    "    return(median)"
   ]
  },
  {
   "cell_type": "code",
   "execution_count": 94,
   "id": "754d6287-00e1-45bb-b942-8392fffc16b0",
   "metadata": {},
   "outputs": [],
   "source": [
    "def var(x):\n",
    "    varianza=np.var(x)\n",
    "    return(varianza)"
   ]
  },
  {
   "cell_type": "code",
   "execution_count": 95,
   "id": "290910ca-a23c-4456-bd9f-28d54ef48b35",
   "metadata": {},
   "outputs": [],
   "source": [
    "df_goles_favor = [df_worldcup.goles_favor]\n",
    "df_goles_contra = [df_worldcup.goles_contra]\n",
    "df_puntos = [df_worldcup.puntos]"
   ]
  },
  {
   "cell_type": "code",
   "execution_count": 96,
   "id": "69018ec6-624d-408a-adfe-5abba29a58cf",
   "metadata": {},
   "outputs": [
    {
     "name": "stdout",
     "output_type": "stream",
     "text": [
      "La media de goles a favor es: 4.25\n"
     ]
    }
   ],
   "source": [
    "print('La media de goles a favor es:',media(df_goles_favor))"
   ]
  },
  {
   "cell_type": "code",
   "execution_count": 97,
   "id": "13d9146d-bf32-452b-b080-6d757e060a62",
   "metadata": {},
   "outputs": [
    {
     "name": "stdout",
     "output_type": "stream",
     "text": [
      "La varianza de goles a favor es: 5.1875\n"
     ]
    }
   ],
   "source": [
    "print('La varianza de goles a favor es:',var(df_goles_favor))"
   ]
  },
  {
   "cell_type": "code",
   "execution_count": 98,
   "id": "913b43c7-e97e-422f-92cf-cf4d0c4e6e7b",
   "metadata": {},
   "outputs": [
    {
     "name": "stdout",
     "output_type": "stream",
     "text": [
      "La media de goles en contra es: 4.25\n"
     ]
    }
   ],
   "source": [
    "print('La media de goles en contra es:',media(df_goles_contra))"
   ]
  },
  {
   "cell_type": "code",
   "execution_count": 99,
   "id": "7f6f35ec-7cbd-4efa-9d83-4f75d8c173bf",
   "metadata": {},
   "outputs": [
    {
     "name": "stdout",
     "output_type": "stream",
     "text": [
      "La varianza de goles en contra es: 4.8125\n"
     ]
    }
   ],
   "source": [
    "print('La varianza de goles en contra es:',var(df_goles_contra))"
   ]
  },
  {
   "cell_type": "code",
   "execution_count": 100,
   "id": "b623f4e5-cb5d-4a44-89aa-37d311361791",
   "metadata": {},
   "outputs": [
    {
     "name": "stdout",
     "output_type": "stream",
     "text": [
      "La media de puntos es: 4.21875\n"
     ]
    }
   ],
   "source": [
    "print('La media de puntos es:',media(df_puntos))"
   ]
  },
  {
   "cell_type": "code",
   "execution_count": 101,
   "id": "e0962f0b-35a6-4277-a3ac-e12ea7cd31e0",
   "metadata": {},
   "outputs": [
    {
     "name": "stdout",
     "output_type": "stream",
     "text": [
      "La varianza de puntos es: 8.0458984375\n"
     ]
    }
   ],
   "source": [
    "print('La varianza de puntos es:',var(df_puntos))"
   ]
  },
  {
   "cell_type": "markdown",
   "id": "72704c9d-3c06-4545-85a9-0fd2b207aca7",
   "metadata": {},
   "source": [
    "Desafío 2:\n",
    "Utilizando el método groupby de la clase DataFrame, en conjunto con la función .agg de\n",
    "pandas, calcule la media, la varianza y desviación estándar de la cantidad de goles a favor,\n",
    "en contra y de la cantidad de puntos por continente.\n",
    "● ¿En qué continente se observa una mayor cantidad de goles a favor?\n",
    "● ¿En qué continente se observa una mayor cantidad de goles en contra?\n",
    "● ¿En qué continente se observa una mayor cantidad de puntos en promedio"
   ]
  },
  {
   "cell_type": "code",
   "execution_count": 109,
   "id": "71eef317-4232-438e-ad3f-ac70f1d26c17",
   "metadata": {},
   "outputs": [],
   "source": [
    "df_mini_worldcup = df_worldcup[[\"continent\",\"goles_favor\",\"goles_contra\",\"puntos\"]]"
   ]
  },
  {
   "cell_type": "code",
   "execution_count": 116,
   "id": "ae54521e-502e-42df-99be-f3c55bc3c015",
   "metadata": {},
   "outputs": [
    {
     "data": {
      "text/html": [
       "<div>\n",
       "<style scoped>\n",
       "    .dataframe tbody tr th:only-of-type {\n",
       "        vertical-align: middle;\n",
       "    }\n",
       "\n",
       "    .dataframe tbody tr th {\n",
       "        vertical-align: top;\n",
       "    }\n",
       "\n",
       "    .dataframe thead tr th {\n",
       "        text-align: left;\n",
       "    }\n",
       "\n",
       "    .dataframe thead tr:last-of-type th {\n",
       "        text-align: right;\n",
       "    }\n",
       "</style>\n",
       "<table border=\"1\" class=\"dataframe\">\n",
       "  <thead>\n",
       "    <tr>\n",
       "      <th></th>\n",
       "      <th colspan=\"4\" halign=\"left\">goles_favor</th>\n",
       "      <th colspan=\"4\" halign=\"left\">goles_contra</th>\n",
       "      <th colspan=\"4\" halign=\"left\">puntos</th>\n",
       "    </tr>\n",
       "    <tr>\n",
       "      <th></th>\n",
       "      <th>mean</th>\n",
       "      <th>var</th>\n",
       "      <th>std</th>\n",
       "      <th>max</th>\n",
       "      <th>mean</th>\n",
       "      <th>var</th>\n",
       "      <th>std</th>\n",
       "      <th>max</th>\n",
       "      <th>mean</th>\n",
       "      <th>var</th>\n",
       "      <th>std</th>\n",
       "      <th>max</th>\n",
       "    </tr>\n",
       "    <tr>\n",
       "      <th>continent</th>\n",
       "      <th></th>\n",
       "      <th></th>\n",
       "      <th></th>\n",
       "      <th></th>\n",
       "      <th></th>\n",
       "      <th></th>\n",
       "      <th></th>\n",
       "      <th></th>\n",
       "      <th></th>\n",
       "      <th></th>\n",
       "      <th></th>\n",
       "      <th></th>\n",
       "    </tr>\n",
       "  </thead>\n",
       "  <tbody>\n",
       "    <tr>\n",
       "      <th>africa</th>\n",
       "      <td>3.600000</td>\n",
       "      <td>3.300000</td>\n",
       "      <td>1.816590</td>\n",
       "      <td>6</td>\n",
       "      <td>5.600000</td>\n",
       "      <td>4.800000</td>\n",
       "      <td>2.190890</td>\n",
       "      <td>9</td>\n",
       "      <td>2.400000</td>\n",
       "      <td>3.300000</td>\n",
       "      <td>1.816590</td>\n",
       "      <td>4</td>\n",
       "    </tr>\n",
       "    <tr>\n",
       "      <th>asia</th>\n",
       "      <td>2.250000</td>\n",
       "      <td>0.916667</td>\n",
       "      <td>0.957427</td>\n",
       "      <td>3</td>\n",
       "      <td>6.250000</td>\n",
       "      <td>4.250000</td>\n",
       "      <td>2.061553</td>\n",
       "      <td>9</td>\n",
       "      <td>0.750000</td>\n",
       "      <td>0.250000</td>\n",
       "      <td>0.500000</td>\n",
       "      <td>1</td>\n",
       "    </tr>\n",
       "    <tr>\n",
       "      <th>europe</th>\n",
       "      <td>4.769231</td>\n",
       "      <td>6.858974</td>\n",
       "      <td>2.618964</td>\n",
       "      <td>10</td>\n",
       "      <td>4.000000</td>\n",
       "      <td>3.833333</td>\n",
       "      <td>1.957890</td>\n",
       "      <td>7</td>\n",
       "      <td>4.692308</td>\n",
       "      <td>6.897436</td>\n",
       "      <td>2.626297</td>\n",
       "      <td>9</td>\n",
       "    </tr>\n",
       "    <tr>\n",
       "      <th>northamerica</th>\n",
       "      <td>3.250000</td>\n",
       "      <td>2.250000</td>\n",
       "      <td>1.500000</td>\n",
       "      <td>4</td>\n",
       "      <td>3.500000</td>\n",
       "      <td>11.000000</td>\n",
       "      <td>3.316625</td>\n",
       "      <td>8</td>\n",
       "      <td>4.500000</td>\n",
       "      <td>11.000000</td>\n",
       "      <td>3.316625</td>\n",
       "      <td>7</td>\n",
       "    </tr>\n",
       "    <tr>\n",
       "      <th>southamerica</th>\n",
       "      <td>5.666667</td>\n",
       "      <td>4.666667</td>\n",
       "      <td>2.160247</td>\n",
       "      <td>9</td>\n",
       "      <td>2.833333</td>\n",
       "      <td>0.566667</td>\n",
       "      <td>0.752773</td>\n",
       "      <td>4</td>\n",
       "      <td>6.833333</td>\n",
       "      <td>3.766667</td>\n",
       "      <td>1.940790</td>\n",
       "      <td>9</td>\n",
       "    </tr>\n",
       "  </tbody>\n",
       "</table>\n",
       "</div>"
      ],
      "text/plain": [
       "             goles_favor                         goles_contra             \\\n",
       "                    mean       var       std max         mean        var   \n",
       "continent                                                                  \n",
       "africa          3.600000  3.300000  1.816590   6     5.600000   4.800000   \n",
       "asia            2.250000  0.916667  0.957427   3     6.250000   4.250000   \n",
       "europe          4.769231  6.858974  2.618964  10     4.000000   3.833333   \n",
       "northamerica    3.250000  2.250000  1.500000   4     3.500000  11.000000   \n",
       "southamerica    5.666667  4.666667  2.160247   9     2.833333   0.566667   \n",
       "\n",
       "                              puntos                           \n",
       "                   std max      mean        var       std max  \n",
       "continent                                                      \n",
       "africa        2.190890   9  2.400000   3.300000  1.816590   4  \n",
       "asia          2.061553   9  0.750000   0.250000  0.500000   1  \n",
       "europe        1.957890   7  4.692308   6.897436  2.626297   9  \n",
       "northamerica  3.316625   8  4.500000  11.000000  3.316625   7  \n",
       "southamerica  0.752773   4  6.833333   3.766667  1.940790   9  "
      ]
     },
     "execution_count": 116,
     "metadata": {},
     "output_type": "execute_result"
    }
   ],
   "source": [
    "df_mini_worldcup.groupby(['continent']).agg((np.mean,np.var,np.std,max))"
   ]
  },
  {
   "cell_type": "markdown",
   "id": "d646720e-29a4-410a-a510-b6a53773ad20",
   "metadata": {},
   "source": [
    "● ¿En qué continente se observa una mayor cantidad de goles a favor?\n",
    "El continente Europeo se observa una mayor cantidad de goles a favor, con un promedio de 4,7 y un maximo de 10 goles a favor en una selección nacional.\n",
    "● ¿En qué continente se observa una mayor cantidad de goles en contra?\n",
    "El continente Asiatico se observa una mayor cantidad de goles en contra, con un promedio de 6,2 y un maximo de 9 goles en contra en una selección nacional.\n",
    "● ¿En qué continente se observa una mayor cantidad de puntos en promedio\n",
    "El continente SudAmericano se observa una mayor cantidad de puntos, con un promedio de 6,8 y un maximo de 9 puntos en una selección nacional."
   ]
  },
  {
   "cell_type": "markdown",
   "id": "9a53764e-1984-45bd-9057-27f74d50c93f",
   "metadata": {},
   "source": [
    "Desafío 3: Simulaciones\n",
    "● Genere una función generate_pet que devuelva de forma aleatoria un string\n",
    "'perro' o 'gato' un número n de veces. Ejecútela un par de veces.\n",
    "Tip: Puede utilizar la función np.random.choice para retornar elementos al azar.\n",
    "● Aplique la función generate_pet para generar 20 muestras.\n",
    "● ¿Cuál es la probabilidad de elegir un perro al azar? ¿Y un gato?\n",
    "● Agregue np.random.seed(2) al inicio del chunk. ¿Qué diferencia hay cuando se\n",
    "ejecuta la función varias veces luego de fijar la semilla?"
   ]
  },
  {
   "cell_type": "code",
   "execution_count": 227,
   "id": "1989c4c6-0e00-4601-9e60-afb4258018c5",
   "metadata": {},
   "outputs": [],
   "source": [
    "def generate_pet():\n",
    "    #np.random.seed(2)\n",
    "    lista = np.random.choice(('perro','gato'), size=20)\n",
    "    return lista"
   ]
  },
  {
   "cell_type": "code",
   "execution_count": 228,
   "id": "4a6f3263-76c1-4d40-8b81-13c01ca8bc42",
   "metadata": {},
   "outputs": [],
   "source": [
    "animales=generate_pet()"
   ]
  },
  {
   "cell_type": "code",
   "execution_count": 229,
   "id": "29c1f331-c144-445d-b9e7-3c46d47c46a2",
   "metadata": {},
   "outputs": [],
   "source": [
    "df=pd.DataFrame(data=animales,columns=['tipo'])"
   ]
  },
  {
   "cell_type": "code",
   "execution_count": 235,
   "id": "72e0ace2-5c21-485c-9ec1-956cc6f0a08f",
   "metadata": {},
   "outputs": [
    {
     "name": "stdout",
     "output_type": "stream",
     "text": [
      "La probabilidad de obtener perro es:  55.00000000000001\n"
     ]
    }
   ],
   "source": [
    "print(\"La probabilidad de obtener perro es: \",(len(df[df.tipo == 'perro'])/len(df))*100)"
   ]
  },
  {
   "cell_type": "code",
   "execution_count": 236,
   "id": "8cbc0e0d-36af-49ad-8733-847157aaefec",
   "metadata": {},
   "outputs": [
    {
     "name": "stdout",
     "output_type": "stream",
     "text": [
      "La probabilidad de obtener gato es:  45.0\n"
     ]
    }
   ],
   "source": [
    "print(\"La probabilidad de obtener gato es: \",(len(df[df.tipo == 'gato'])/len(df))*100)"
   ]
  },
  {
   "cell_type": "markdown",
   "id": "a7cd030e-42d5-4e54-94ec-f92c5c3b0b33",
   "metadata": {},
   "source": [
    "● Agregue np.random.seed(2) al inicio del chunk. ¿Qué diferencia hay cuando se\n",
    "ejecuta la función varias veces luego de fijar la semilla?\n",
    "Se pierde la aleatoridad de la muestra al ejecutarla en repetidas veces (Deje comentado en la funcion generate_pet el np.random.seed(2)"
   ]
  },
  {
   "cell_type": "markdown",
   "id": "72ed2292-2836-42ff-a3ac-10680a947137",
   "metadata": {},
   "source": [
    "Desafío 4: Función simuladora\n",
    "● Genere una función llamada simulate_pets_prob que tome como argumento un\n",
    "número finito de simulaciones a generar.\n",
    "● La función debe simular dos situaciones young_pet y old_pet, y contar la\n",
    "ocurrencia de los siguientes casos:\n",
    "○ De las dos mascotas simuladas (young y old), contar las ocasiones donde\n",
    "por lo menos una de las mascotas sea un perro.\n",
    "○ De las dos mascotas simuladas, contar las ocasiones donde old_pet sea un\n",
    "perro.\n",
    "○ De las dos mascotas simuladas, contar las ocasiones donde los dos sean\n",
    "perros.\n",
    "● El método debe tener una semilla pseudoaleatoria de 1.\n",
    "● El output de la función debe entregarse en términos de Probabilidad.\n",
    "● De los tres escenarios, ¿Cuál es el menos probable? ¿Cuál es el más probable? ¿Por\n",
    "qué?"
   ]
  },
  {
   "cell_type": "code",
   "execution_count": 544,
   "id": "ed150bb8-ae05-4dcc-86d6-febfadb8e4b6",
   "metadata": {},
   "outputs": [],
   "source": [
    "def simulate_pets_prob():\n",
    "    np.random.seed(1)\n",
    "    young = np.random.choice(('perro','gato'), size=20)\n",
    "    old = np.random.choice(('perro','gato'), size=20)\n",
    "    return young, old"
   ]
  },
  {
   "cell_type": "code",
   "execution_count": 545,
   "id": "04564fdc-4ac3-47f5-a1aa-350b0007bcbe",
   "metadata": {},
   "outputs": [],
   "source": [
    "lista_1,lista_2=simulate_pets_prob()"
   ]
  },
  {
   "cell_type": "code",
   "execution_count": 546,
   "id": "da175c7c-98b0-448a-bb29-1e4a8d0141f0",
   "metadata": {
    "tags": []
   },
   "outputs": [
    {
     "data": {
      "text/plain": [
       "array(['gato', 'gato', 'perro', 'perro', 'gato', 'gato', 'gato', 'gato',\n",
       "       'gato', 'perro', 'perro', 'gato', 'perro', 'gato', 'gato', 'perro',\n",
       "       'perro', 'gato', 'perro', 'perro'], dtype='<U5')"
      ]
     },
     "execution_count": 546,
     "metadata": {},
     "output_type": "execute_result"
    }
   ],
   "source": [
    "lista_1"
   ]
  },
  {
   "cell_type": "code",
   "execution_count": 547,
   "id": "30ae078b-3a0e-478a-889c-5a2f99ea8e96",
   "metadata": {
    "tags": []
   },
   "outputs": [
    {
     "data": {
      "text/plain": [
       "array(['perro', 'gato', 'perro', 'perro', 'gato', 'perro', 'perro',\n",
       "       'perro', 'gato', 'perro', 'perro', 'perro', 'gato', 'gato', 'gato',\n",
       "       'gato', 'gato', 'perro', 'perro', 'perro'], dtype='<U5')"
      ]
     },
     "execution_count": 547,
     "metadata": {},
     "output_type": "execute_result"
    }
   ],
   "source": [
    "lista_2"
   ]
  },
  {
   "cell_type": "code",
   "execution_count": 548,
   "id": "9c2a1ea8-d240-41d0-b1f3-3903f3536dc2",
   "metadata": {},
   "outputs": [],
   "source": [
    "datos={'young':lista_1,'old':lista_2}"
   ]
  },
  {
   "cell_type": "code",
   "execution_count": 549,
   "id": "35630511-e2fc-4816-b665-6fba75b4a912",
   "metadata": {
    "tags": []
   },
   "outputs": [],
   "source": [
    "df_prob=pd.DataFrame(datos)"
   ]
  },
  {
   "cell_type": "markdown",
   "id": "738d1eae-de69-4d6f-ae75-93119f8a960e",
   "metadata": {},
   "source": [
    "○ De las dos mascotas simuladas (young y old), contar las ocasiones donde\n",
    "por lo menos una de las mascotas sea un perro."
   ]
  },
  {
   "cell_type": "code",
   "execution_count": 542,
   "id": "9b2758f4-a8df-4f5a-91c4-3d3c4ddf7c4c",
   "metadata": {},
   "outputs": [],
   "source": [
    "al_menos_1_perro = df_prob[(df_prob.young == 'perro') | (df_prob.old == 'perro')].count()"
   ]
  },
  {
   "cell_type": "code",
   "execution_count": 543,
   "id": "6d787539-0207-4b4e-8197-5baa85813079",
   "metadata": {},
   "outputs": [
    {
     "data": {
      "text/plain": [
       "young    15\n",
       "old      15\n",
       "or       15\n",
       "and      15\n",
       "dtype: int64"
      ]
     },
     "execution_count": 543,
     "metadata": {},
     "output_type": "execute_result"
    }
   ],
   "source": [
    "al_menos_1_perro"
   ]
  },
  {
   "cell_type": "code",
   "execution_count": 512,
   "id": "6f2ad4b1-91af-4e86-b079-5a1ea9b635c0",
   "metadata": {},
   "outputs": [
    {
     "data": {
      "text/plain": [
       "young    15\n",
       "old      15\n",
       "dtype: int64"
      ]
     },
     "execution_count": 512,
     "metadata": {},
     "output_type": "execute_result"
    }
   ],
   "source": [
    "(df_prob[df_prob.young=='perro'].count()+df_prob[df_prob.old=='perro'].count())-(df_prob[(df_prob.young == 'perro') & (df_prob.old == 'perro')].count())"
   ]
  },
  {
   "cell_type": "code",
   "execution_count": 550,
   "id": "1459fc62-dc58-46d3-bd00-18c2bb055f79",
   "metadata": {},
   "outputs": [],
   "source": [
    "a=(df_prob.young == 'perro') | (df_prob.old == 'perro')"
   ]
  },
  {
   "cell_type": "code",
   "execution_count": 551,
   "id": "132ec39e-0928-4470-8b63-e47ada679d44",
   "metadata": {},
   "outputs": [],
   "source": [
    "b=(df_prob.young == 'perro') & (df_prob.old == 'perro')"
   ]
  },
  {
   "cell_type": "code",
   "execution_count": 552,
   "id": "1d4fd4d6-f167-41ce-a97b-b9e0122109c4",
   "metadata": {},
   "outputs": [],
   "source": [
    "df_prob['cond_or']=a"
   ]
  },
  {
   "cell_type": "code",
   "execution_count": 553,
   "id": "eb1d33da-a110-409c-8a6f-770be1ac5d7b",
   "metadata": {},
   "outputs": [],
   "source": [
    "df_prob['cond_and']=b"
   ]
  },
  {
   "cell_type": "code",
   "execution_count": 554,
   "id": "c5509483-1bdc-4880-82fe-9db40655967a",
   "metadata": {},
   "outputs": [
    {
     "data": {
      "text/html": [
       "<div>\n",
       "<style scoped>\n",
       "    .dataframe tbody tr th:only-of-type {\n",
       "        vertical-align: middle;\n",
       "    }\n",
       "\n",
       "    .dataframe tbody tr th {\n",
       "        vertical-align: top;\n",
       "    }\n",
       "\n",
       "    .dataframe thead th {\n",
       "        text-align: right;\n",
       "    }\n",
       "</style>\n",
       "<table border=\"1\" class=\"dataframe\">\n",
       "  <thead>\n",
       "    <tr style=\"text-align: right;\">\n",
       "      <th></th>\n",
       "      <th>young</th>\n",
       "      <th>old</th>\n",
       "      <th>cond_or</th>\n",
       "      <th>cond_and</th>\n",
       "    </tr>\n",
       "  </thead>\n",
       "  <tbody>\n",
       "    <tr>\n",
       "      <th>0</th>\n",
       "      <td>gato</td>\n",
       "      <td>perro</td>\n",
       "      <td>True</td>\n",
       "      <td>False</td>\n",
       "    </tr>\n",
       "    <tr>\n",
       "      <th>1</th>\n",
       "      <td>gato</td>\n",
       "      <td>gato</td>\n",
       "      <td>False</td>\n",
       "      <td>False</td>\n",
       "    </tr>\n",
       "    <tr>\n",
       "      <th>2</th>\n",
       "      <td>perro</td>\n",
       "      <td>perro</td>\n",
       "      <td>True</td>\n",
       "      <td>True</td>\n",
       "    </tr>\n",
       "    <tr>\n",
       "      <th>3</th>\n",
       "      <td>perro</td>\n",
       "      <td>perro</td>\n",
       "      <td>True</td>\n",
       "      <td>True</td>\n",
       "    </tr>\n",
       "    <tr>\n",
       "      <th>4</th>\n",
       "      <td>gato</td>\n",
       "      <td>gato</td>\n",
       "      <td>False</td>\n",
       "      <td>False</td>\n",
       "    </tr>\n",
       "    <tr>\n",
       "      <th>5</th>\n",
       "      <td>gato</td>\n",
       "      <td>perro</td>\n",
       "      <td>True</td>\n",
       "      <td>False</td>\n",
       "    </tr>\n",
       "    <tr>\n",
       "      <th>6</th>\n",
       "      <td>gato</td>\n",
       "      <td>perro</td>\n",
       "      <td>True</td>\n",
       "      <td>False</td>\n",
       "    </tr>\n",
       "    <tr>\n",
       "      <th>7</th>\n",
       "      <td>gato</td>\n",
       "      <td>perro</td>\n",
       "      <td>True</td>\n",
       "      <td>False</td>\n",
       "    </tr>\n",
       "    <tr>\n",
       "      <th>8</th>\n",
       "      <td>gato</td>\n",
       "      <td>gato</td>\n",
       "      <td>False</td>\n",
       "      <td>False</td>\n",
       "    </tr>\n",
       "    <tr>\n",
       "      <th>9</th>\n",
       "      <td>perro</td>\n",
       "      <td>perro</td>\n",
       "      <td>True</td>\n",
       "      <td>True</td>\n",
       "    </tr>\n",
       "    <tr>\n",
       "      <th>10</th>\n",
       "      <td>perro</td>\n",
       "      <td>perro</td>\n",
       "      <td>True</td>\n",
       "      <td>True</td>\n",
       "    </tr>\n",
       "    <tr>\n",
       "      <th>11</th>\n",
       "      <td>gato</td>\n",
       "      <td>perro</td>\n",
       "      <td>True</td>\n",
       "      <td>False</td>\n",
       "    </tr>\n",
       "    <tr>\n",
       "      <th>12</th>\n",
       "      <td>perro</td>\n",
       "      <td>gato</td>\n",
       "      <td>True</td>\n",
       "      <td>False</td>\n",
       "    </tr>\n",
       "    <tr>\n",
       "      <th>13</th>\n",
       "      <td>gato</td>\n",
       "      <td>gato</td>\n",
       "      <td>False</td>\n",
       "      <td>False</td>\n",
       "    </tr>\n",
       "    <tr>\n",
       "      <th>14</th>\n",
       "      <td>gato</td>\n",
       "      <td>gato</td>\n",
       "      <td>False</td>\n",
       "      <td>False</td>\n",
       "    </tr>\n",
       "    <tr>\n",
       "      <th>15</th>\n",
       "      <td>perro</td>\n",
       "      <td>gato</td>\n",
       "      <td>True</td>\n",
       "      <td>False</td>\n",
       "    </tr>\n",
       "    <tr>\n",
       "      <th>16</th>\n",
       "      <td>perro</td>\n",
       "      <td>gato</td>\n",
       "      <td>True</td>\n",
       "      <td>False</td>\n",
       "    </tr>\n",
       "    <tr>\n",
       "      <th>17</th>\n",
       "      <td>gato</td>\n",
       "      <td>perro</td>\n",
       "      <td>True</td>\n",
       "      <td>False</td>\n",
       "    </tr>\n",
       "    <tr>\n",
       "      <th>18</th>\n",
       "      <td>perro</td>\n",
       "      <td>perro</td>\n",
       "      <td>True</td>\n",
       "      <td>True</td>\n",
       "    </tr>\n",
       "    <tr>\n",
       "      <th>19</th>\n",
       "      <td>perro</td>\n",
       "      <td>perro</td>\n",
       "      <td>True</td>\n",
       "      <td>True</td>\n",
       "    </tr>\n",
       "  </tbody>\n",
       "</table>\n",
       "</div>"
      ],
      "text/plain": [
       "    young    old  cond_or  cond_and\n",
       "0    gato  perro     True     False\n",
       "1    gato   gato    False     False\n",
       "2   perro  perro     True      True\n",
       "3   perro  perro     True      True\n",
       "4    gato   gato    False     False\n",
       "5    gato  perro     True     False\n",
       "6    gato  perro     True     False\n",
       "7    gato  perro     True     False\n",
       "8    gato   gato    False     False\n",
       "9   perro  perro     True      True\n",
       "10  perro  perro     True      True\n",
       "11   gato  perro     True     False\n",
       "12  perro   gato     True     False\n",
       "13   gato   gato    False     False\n",
       "14   gato   gato    False     False\n",
       "15  perro   gato     True     False\n",
       "16  perro   gato     True     False\n",
       "17   gato  perro     True     False\n",
       "18  perro  perro     True      True\n",
       "19  perro  perro     True      True"
      ]
     },
     "execution_count": 554,
     "metadata": {},
     "output_type": "execute_result"
    }
   ],
   "source": [
    "df_prob"
   ]
  },
  {
   "cell_type": "code",
   "execution_count": 567,
   "id": "4e4f0826-14d9-4043-9275-a708b9ae1599",
   "metadata": {},
   "outputs": [],
   "source": [
    "pp = df_prob[df_prob.cond_and == True].cond_and.count()"
   ]
  },
  {
   "cell_type": "code",
   "execution_count": 568,
   "id": "00a79863-5ae2-4be2-859c-dda7aaa3f994",
   "metadata": {},
   "outputs": [
    {
     "data": {
      "text/plain": [
       "6"
      ]
     },
     "execution_count": 568,
     "metadata": {},
     "output_type": "execute_result"
    }
   ],
   "source": [
    "pp"
   ]
  },
  {
   "cell_type": "code",
   "execution_count": 566,
   "id": "f0851250-9964-4539-ae1d-e072d07be3f6",
   "metadata": {},
   "outputs": [
    {
     "name": "stdout",
     "output_type": "stream",
     "text": [
      "La probabilidad de ocaciones donde al menos sea perro entre young u old es: 75.0\n"
     ]
    }
   ],
   "source": [
    "print('La probabilidad de ocaciones donde al menos sea perro entre young u old es:',(df_prob[df_prob.cond_or == True].cond_or.count())*100/len(df_prob))"
   ]
  },
  {
   "cell_type": "markdown",
   "id": "2a7481e5-b3f7-49f2-ba29-f4e59645ece8",
   "metadata": {},
   "source": [
    "○ De las dos mascotas simuladas, contar las ocasiones donde old_pet sea un\n",
    "perro."
   ]
  },
  {
   "cell_type": "code",
   "execution_count": 462,
   "id": "8020cec8-9362-4592-93a1-252586e06c13",
   "metadata": {},
   "outputs": [],
   "source": [
    "perro_old = df_prob[df_prob.old=='perro'].old.count()/len(df_prob)"
   ]
  },
  {
   "cell_type": "code",
   "execution_count": 571,
   "id": "7ed9e2c2-c9e8-40b8-860d-3555f4573e4f",
   "metadata": {},
   "outputs": [
    {
     "name": "stdout",
     "output_type": "stream",
     "text": [
      "La probabilidad de ocaciones donde perro es old es: 60.0\n"
     ]
    }
   ],
   "source": [
    "print('La probabilidad de ocaciones donde perro es old es:',(df_prob[df_prob.old=='perro'].old.count())*100/len(df_prob))"
   ]
  },
  {
   "cell_type": "markdown",
   "id": "012dd4e0-aa6b-463e-8129-416ca1d789a2",
   "metadata": {},
   "source": [
    "○ De las dos mascotas simuladas, contar las ocasiones donde los dos sean\n",
    "perros."
   ]
  },
  {
   "cell_type": "code",
   "execution_count": 455,
   "id": "37011630-5dd0-41d8-8f2b-ca8bb3013c9e",
   "metadata": {},
   "outputs": [],
   "source": [
    "dos_perros = df_prob[(df_prob.young == 'perro') & (df_prob.old == 'perrro')].old.count()"
   ]
  },
  {
   "cell_type": "code",
   "execution_count": 570,
   "id": "75a29f9b-7ee7-453b-af95-125eb36b3e63",
   "metadata": {},
   "outputs": [
    {
     "name": "stdout",
     "output_type": "stream",
     "text": [
      "La ocaciones donde ambos casos son perro es: 30.0\n"
     ]
    }
   ],
   "source": [
    "print('La probabilidad de ocaciones donde ambos casos son perro es:',(df_prob[df_prob.cond_and == True].cond_and.count())*100/len(df_prob))"
   ]
  }
 ],
 "metadata": {
  "kernelspec": {
   "display_name": "Python 3 (ipykernel)",
   "language": "python",
   "name": "python3"
  },
  "language_info": {
   "codemirror_mode": {
    "name": "ipython",
    "version": 3
   },
   "file_extension": ".py",
   "mimetype": "text/x-python",
   "name": "python",
   "nbconvert_exporter": "python",
   "pygments_lexer": "ipython3",
   "version": "3.9.12"
  }
 },
 "nbformat": 4,
 "nbformat_minor": 5
}
