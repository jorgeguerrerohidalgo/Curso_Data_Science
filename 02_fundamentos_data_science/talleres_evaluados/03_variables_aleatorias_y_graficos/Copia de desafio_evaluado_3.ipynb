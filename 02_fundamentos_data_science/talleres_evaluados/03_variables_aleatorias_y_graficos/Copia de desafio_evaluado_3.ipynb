{
 "cells": [
  {
   "cell_type": "code",
   "execution_count": 31,
   "id": "d1ae9958-79b9-42fe-9a60-80a7d4d90220",
   "metadata": {},
   "outputs": [],
   "source": [
    "%matplotlib inline\n",
    "import pandas as pd\n",
    "import numpy as np\n",
    "import matplotlib.pyplot as plt \n",
    "import scipy.stats as stats"
   ]
  },
  {
   "cell_type": "code",
   "execution_count": 15,
   "id": "85f65e09-39c5-43b9-a353-79a9258249ff",
   "metadata": {},
   "outputs": [],
   "source": [
    "df_sample = pd.read_csv(\"subsample_am_demo.csv\")"
   ]
  },
  {
   "cell_type": "code",
   "execution_count": 16,
   "id": "d1ed40f7-1e59-42bc-bfaf-2cf0eab24f1d",
   "metadata": {},
   "outputs": [],
   "source": [
    "df = pd.read_csv(\"qog_std_cs_jan18.csv\")"
   ]
  },
  {
   "cell_type": "code",
   "execution_count": 17,
   "id": "87523504-0348-40f0-86a5-6972542d9330",
   "metadata": {},
   "outputs": [],
   "source": [
    "from ancilliary_funcs import fetch_descriptives\n",
    "from ancilliary_funcs import fetch_null_cases\n",
    "from ancilliary_funcs import plot_histograma\n",
    "from ancilliary_funcs import dotplot"
   ]
  },
  {
   "cell_type": "code",
   "execution_count": 18,
   "id": "8ad93433-08e5-4209-bb6d-669d8c1eaf1c",
   "metadata": {
    "collapsed": true,
    "jupyter": {
     "outputs_hidden": true
    },
    "tags": []
   },
   "outputs": [
    {
     "name": "stdout",
     "output_type": "stream",
     "text": [
      "count     97.000000\n",
      "mean      95.711340\n",
      "std       58.971384\n",
      "min        0.000000\n",
      "25%       43.000000\n",
      "50%       95.000000\n",
      "75%      146.000000\n",
      "max      192.000000\n",
      "Name: Unnamed: 0, dtype: float64\n",
      "count                       97\n",
      "unique                      97\n",
      "top       United Arab Emirates\n",
      "freq                         1\n",
      "Name: cname, dtype: object\n",
      "count      97\n",
      "unique     97\n",
      "top       ARE\n",
      "freq        1\n",
      "Name: ccodealp, dtype: object\n",
      "count                97\n",
      "unique               10\n",
      "top       SouthEastAsia\n",
      "freq                 24\n",
      "Name: ht_region, dtype: object\n",
      "count        97.000000\n",
      "mean      13588.708153\n",
      "std       16873.853282\n",
      "min         324.160000\n",
      "25%        2113.060100\n",
      "50%        7259.520000\n",
      "75%       18310.811000\n",
      "max      104049.440000\n",
      "Name: gle_cgdpc, dtype: float64\n",
      "count    93.000000\n",
      "mean      0.694677\n",
      "std       0.157557\n",
      "min       0.351000\n",
      "25%       0.555000\n",
      "50%       0.723000\n",
      "75%       0.823000\n",
      "max       0.948000\n",
      "Name: undp_hdi, dtype: float64\n",
      "count     71.000000\n",
      "mean      32.661929\n",
      "std       60.442563\n",
      "min        0.011000\n",
      "25%        3.504500\n",
      "50%        9.468000\n",
      "75%       29.785501\n",
      "max      318.789001\n",
      "Name: imf_pop, dtype: float64\n",
      "count    90.000000\n",
      "mean      5.366667\n",
      "std       2.144709\n",
      "min       1.000000\n",
      "25%       3.500000\n",
      "50%       5.650000\n",
      "75%       7.100000\n",
      "max       9.200000\n",
      "Name: ffp_hf, dtype: float64\n",
      "count    74.000000\n",
      "mean      3.725361\n",
      "std       0.970991\n",
      "min       1.874972\n",
      "25%       2.989380\n",
      "50%       3.603522\n",
      "75%       4.366674\n",
      "max       5.859115\n",
      "Name: wef_qes, dtype: float64\n",
      "count    70.000000\n",
      "mean      4.618369\n",
      "std       1.523985\n",
      "min       1.901970\n",
      "25%       3.494215\n",
      "50%       4.629610\n",
      "75%       5.497910\n",
      "max       8.429330\n",
      "Name: wdi_expedu, dtype: float64\n",
      "count    68.000000\n",
      "mean     74.833504\n",
      "std      21.123102\n",
      "min      15.665040\n",
      "25%      64.452681\n",
      "50%      82.108925\n",
      "75%      90.895559\n",
      "max      99.573357\n",
      "Name: wdi_ners, dtype: float64\n",
      "count        97\n",
      "unique        2\n",
      "top       False\n",
      "freq         74\n",
      "Name: flagnull, dtype: object\n"
     ]
    }
   ],
   "source": [
    " fetch_descriptives(df_sample)"
   ]
  },
  {
   "cell_type": "code",
   "execution_count": 19,
   "id": "4f506283-98fa-4302-a3e7-a36bf48683bb",
   "metadata": {
    "collapsed": true,
    "jupyter": {
     "outputs_hidden": true
    },
    "tags": []
   },
   "outputs": [
    {
     "name": "stdout",
     "output_type": "stream",
     "text": [
      "\n",
      "Casos perdidos para Unnamed: 0:\n",
      "Cantidad de Casos: 0\n",
      "Porcentaje de la muestra 0.0\n",
      "\n",
      "Casos perdidos para cname:\n",
      "Cantidad de Casos: 0\n",
      "Porcentaje de la muestra 0.0\n",
      "\n",
      "Casos perdidos para ccodealp:\n",
      "Cantidad de Casos: 0\n",
      "Porcentaje de la muestra 0.0\n",
      "\n",
      "Casos perdidos para ht_region:\n",
      "Cantidad de Casos: 0\n",
      "Porcentaje de la muestra 0.0\n",
      "\n",
      "Casos perdidos para gle_cgdpc:\n",
      "Cantidad de Casos: 0\n",
      "Porcentaje de la muestra 0.0\n",
      "\n",
      "Casos perdidos para undp_hdi:\n",
      "Cantidad de Casos: 4\n",
      "Porcentaje de la muestra 4.123711340206185\n",
      "\n",
      "Casos perdidos para imf_pop:\n",
      "Cantidad de Casos: 26\n",
      "Porcentaje de la muestra 26.804123711340207\n",
      "\n",
      "Casos perdidos para ffp_hf:\n",
      "Cantidad de Casos: 7\n",
      "Porcentaje de la muestra 7.216494845360824\n",
      "\n",
      "Casos perdidos para wef_qes:\n",
      "Cantidad de Casos: 23\n",
      "Porcentaje de la muestra 23.711340206185564\n",
      "\n",
      "Casos perdidos para wdi_expedu:\n",
      "Cantidad de Casos: 27\n",
      "Porcentaje de la muestra 27.835051546391753\n",
      "\n",
      "Casos perdidos para wdi_ners:\n",
      "Cantidad de Casos: 29\n",
      "Porcentaje de la muestra 29.896907216494846\n",
      "\n",
      "Casos perdidos para flagnull:\n",
      "Cantidad de Casos: 0\n",
      "Porcentaje de la muestra 0.0\n"
     ]
    }
   ],
   "source": [
    "for i in df_sample.columns:\n",
    "    fetch_null_cases(df_sample, i, print_list=False)"
   ]
  },
  {
   "cell_type": "code",
   "execution_count": 20,
   "id": "06a942d7-b827-4115-82cb-0d61625f5002",
   "metadata": {
    "collapsed": true,
    "jupyter": {
     "outputs_hidden": true
    },
    "tags": []
   },
   "outputs": [
    {
     "name": "stdout",
     "output_type": "stream",
     "text": [
      "United Arab Emirates\n",
      "Senegal\n",
      "Solomon Islands\n",
      "Congo\n",
      "Angola\n",
      "Turkmenistan\n",
      "Mongolia\n",
      "Botswana\n",
      "Nicaragua\n",
      "Montenegro\n",
      "Congo, Democratic Republic\n",
      "Kiribati\n",
      "Cambodia\n",
      "Singapore\n",
      "Russia\n",
      "Djibouti\n",
      "Somalia\n",
      "Papua New Guinea\n",
      "Austria\n",
      "Liberia\n",
      "Libya\n",
      "Tanzania\n",
      "Czech Republic\n",
      "Uganda\n",
      "Togo\n",
      "Nigeria\n",
      "Sierra Leone\n",
      "Bosnia and Herzegovina\n",
      "Tunisia\n",
      "\n",
      "Casos perdidos para wdi_ners:\n",
      "Cantidad de Casos: 29\n",
      "Porcentaje de la muestra 29.896907216494846\n",
      "Países sin registros de wdi_ners\n",
      "\n",
      "United Arab Emirates\n",
      "Egypt\n",
      "Solomon Islands\n",
      "Marshall Islands\n",
      "Congo\n",
      "Angola\n",
      "Botswana\n",
      "Nicaragua\n",
      "Montenegro\n",
      "Kiribati\n",
      "Tuvalu\n",
      "Djibouti\n",
      "Dominican Republic\n",
      "Somalia\n",
      "Tonga\n",
      "Papua New Guinea\n",
      "Korea, North\n",
      "Libya\n",
      "Yemen\n",
      "Dominica\n",
      "Grenada\n",
      "Uzbekistan\n",
      "Nigeria\n",
      "Bosnia and Herzegovina\n",
      "Saudi Arabia\n",
      "Lesotho\n",
      "Greece\n",
      "\n",
      "Casos perdidos para wdi_expedu:\n",
      "Cantidad de Casos: 27\n",
      "Porcentaje de la muestra 27.835051546391753\n",
      "Países sin registros de wdi_expedu\n",
      "\n",
      "Afghanistan\n",
      "Solomon Islands\n",
      "Marshall Islands\n",
      "Congo\n",
      "Turkmenistan\n",
      "St Kitts and Nevis\n",
      "Kiribati\n",
      "Tuvalu\n",
      "Belarus\n",
      "Djibouti\n",
      "Somalia\n",
      "Tonga\n",
      "Papua New Guinea\n",
      "Korea, North\n",
      "Comoros\n",
      "St Lucia\n",
      "Niger\n",
      "Dominica\n",
      "Grenada\n",
      "Uzbekistan\n",
      "Togo\n",
      "Fiji\n",
      "Sao Tome and Principe\n",
      "\n",
      "Casos perdidos para wef_qes:\n",
      "Cantidad de Casos: 23\n",
      "Porcentaje de la muestra 23.711340206185564\n",
      "Países sin registros de wef_qes\n",
      "\n"
     ]
    }
   ],
   "source": [
    "for i in ['wdi_ners', 'wdi_expedu', 'wef_qes']:\n",
    "    fetch_null_cases(df_sample, i, print_list=True)"
   ]
  },
  {
   "cell_type": "code",
   "execution_count": 21,
   "id": "2fed4e6e-9050-4883-8cf1-bb48aa3942b5",
   "metadata": {},
   "outputs": [
    {
     "data": {
      "image/png": "[encoded data removed]",
      "text/plain": [
       "<Figure size 432x288 with 1 Axes>"
      ]
     },
     "metadata": {
      "needs_background": "light"
     },
     "output_type": "display_data"
    }
   ],
   "source": [
    "plot_histograma(df_sample,'undp_hdi', df, media_df_peque=True, media_df_total=True)"
   ]
  },
  {
   "cell_type": "code",
   "execution_count": 9,
   "id": "03b94dbd-b7a0-4723-92f8-bcc0ae4f4e7b",
   "metadata": {},
   "outputs": [
    {
     "data": {
      "image/png": "[encoded data removed]",
      "text/plain": [
       "<Figure size 432x288 with 1 Axes>"
      ]
     },
     "metadata": {
      "needs_background": "light"
     },
     "output_type": "display_data"
    }
   ],
   "source": [
    "dotplot(df, plot_var='imf_pop', plot_by='ht_region',global_stat=True, statistic='median')"
   ]
  },
  {
   "cell_type": "code",
   "execution_count": 22,
   "id": "9ceccb6d-c2f2-49d0-83ea-fda175cfcf72",
   "metadata": {},
   "outputs": [],
   "source": [
    "df_sample['z']=(df_sample['gle_cgdpc']-df_sample['gle_cgdpc'].mean())/df_sample['gle_cgdpc'].std()"
   ]
  },
  {
   "cell_type": "code",
   "execution_count": 23,
   "id": "b43a2038-a30d-4701-a951-260d2735bfdf",
   "metadata": {},
   "outputs": [],
   "source": [
    "df_sample=df_sample.sort_values(by='gle_cgdpc').dropna(subset=['gle_cgdpc'])"
   ]
  },
  {
   "cell_type": "code",
   "execution_count": 24,
   "id": "5cda9724-9442-41da-a472-5c331358de52",
   "metadata": {},
   "outputs": [
    {
     "data": {
      "text/html": [
       "<div>\n",
       "<style scoped>\n",
       "    .dataframe tbody tr th:only-of-type {\n",
       "        vertical-align: middle;\n",
       "    }\n",
       "\n",
       "    .dataframe tbody tr th {\n",
       "        vertical-align: top;\n",
       "    }\n",
       "\n",
       "    .dataframe thead th {\n",
       "        text-align: right;\n",
       "    }\n",
       "</style>\n",
       "<table border=\"1\" class=\"dataframe\">\n",
       "  <thead>\n",
       "    <tr style=\"text-align: right;\">\n",
       "      <th></th>\n",
       "      <th>Unnamed: 0</th>\n",
       "      <th>cname</th>\n",
       "      <th>ccodealp</th>\n",
       "      <th>ht_region</th>\n",
       "      <th>gle_cgdpc</th>\n",
       "      <th>undp_hdi</th>\n",
       "      <th>imf_pop</th>\n",
       "      <th>ffp_hf</th>\n",
       "      <th>wef_qes</th>\n",
       "      <th>wdi_expedu</th>\n",
       "      <th>wdi_ners</th>\n",
       "      <th>flagnull</th>\n",
       "      <th>z</th>\n",
       "    </tr>\n",
       "  </thead>\n",
       "  <tbody>\n",
       "    <tr>\n",
       "      <th>27</th>\n",
       "      <td>41</td>\n",
       "      <td>Congo, Democratic Republic</td>\n",
       "      <td>COD</td>\n",
       "      <td>SouthEastAsia</td>\n",
       "      <td>324.16000</td>\n",
       "      <td>0.425</td>\n",
       "      <td>NaN</td>\n",
       "      <td>7.1</td>\n",
       "      <td>2.957447</td>\n",
       "      <td>2.24535</td>\n",
       "      <td>NaN</td>\n",
       "      <td>False</td>\n",
       "      <td>-0.786101</td>\n",
       "    </tr>\n",
       "    <tr>\n",
       "      <th>61</th>\n",
       "      <td>52</td>\n",
       "      <td>El Salvador</td>\n",
       "      <td>SLV</td>\n",
       "      <td>SubSaharian</td>\n",
       "      <td>332.26999</td>\n",
       "      <td>0.678</td>\n",
       "      <td>NaN</td>\n",
       "      <td>6.9</td>\n",
       "      <td>3.804579</td>\n",
       "      <td>3.44857</td>\n",
       "      <td>70.171722</td>\n",
       "      <td>False</td>\n",
       "      <td>-0.785620</td>\n",
       "    </tr>\n",
       "    <tr>\n",
       "      <th>47</th>\n",
       "      <td>97</td>\n",
       "      <td>Liberia</td>\n",
       "      <td>LBR</td>\n",
       "      <td>SouthEastAsia</td>\n",
       "      <td>488.26999</td>\n",
       "      <td>0.427</td>\n",
       "      <td>NaN</td>\n",
       "      <td>6.6</td>\n",
       "      <td>3.472222</td>\n",
       "      <td>2.75756</td>\n",
       "      <td>NaN</td>\n",
       "      <td>False</td>\n",
       "      <td>-0.776375</td>\n",
       "    </tr>\n",
       "    <tr>\n",
       "      <th>50</th>\n",
       "      <td>125</td>\n",
       "      <td>Niger</td>\n",
       "      <td>NER</td>\n",
       "      <td>SouthEastAsia</td>\n",
       "      <td>644.53998</td>\n",
       "      <td>0.351</td>\n",
       "      <td>NaN</td>\n",
       "      <td>6.9</td>\n",
       "      <td>NaN</td>\n",
       "      <td>6.70941</td>\n",
       "      <td>15.665040</td>\n",
       "      <td>True</td>\n",
       "      <td>-0.767114</td>\n",
       "    </tr>\n",
       "    <tr>\n",
       "      <th>40</th>\n",
       "      <td>26</td>\n",
       "      <td>Burundi</td>\n",
       "      <td>BDI</td>\n",
       "      <td>SouthEastAsia</td>\n",
       "      <td>663.57001</td>\n",
       "      <td>0.406</td>\n",
       "      <td>NaN</td>\n",
       "      <td>6.8</td>\n",
       "      <td>2.595249</td>\n",
       "      <td>5.41642</td>\n",
       "      <td>24.948179</td>\n",
       "      <td>False</td>\n",
       "      <td>-0.765986</td>\n",
       "    </tr>\n",
       "    <tr>\n",
       "      <th>37</th>\n",
       "      <td>103</td>\n",
       "      <td>Malawi</td>\n",
       "      <td>MWI</td>\n",
       "      <td>SouthEastAsia</td>\n",
       "      <td>938.34998</td>\n",
       "      <td>0.473</td>\n",
       "      <td>17.604</td>\n",
       "      <td>8.1</td>\n",
       "      <td>3.185532</td>\n",
       "      <td>4.84254</td>\n",
       "      <td>32.942291</td>\n",
       "      <td>False</td>\n",
       "      <td>-0.749702</td>\n",
       "    </tr>\n",
       "    <tr>\n",
       "      <th>46</th>\n",
       "      <td>39</td>\n",
       "      <td>Comoros</td>\n",
       "      <td>COM</td>\n",
       "      <td>SouthEastAsia</td>\n",
       "      <td>972.35999</td>\n",
       "      <td>0.498</td>\n",
       "      <td>0.776</td>\n",
       "      <td>7.8</td>\n",
       "      <td>NaN</td>\n",
       "      <td>4.86862</td>\n",
       "      <td>43.934471</td>\n",
       "      <td>True</td>\n",
       "      <td>-0.747686</td>\n",
       "    </tr>\n",
       "    <tr>\n",
       "      <th>81</th>\n",
       "      <td>154</td>\n",
       "      <td>Sierra Leone</td>\n",
       "      <td>SLE</td>\n",
       "      <td>SouthEastAsia</td>\n",
       "      <td>979.95001</td>\n",
       "      <td>0.431</td>\n",
       "      <td>6.232</td>\n",
       "      <td>8.4</td>\n",
       "      <td>2.986086</td>\n",
       "      <td>2.66167</td>\n",
       "      <td>NaN</td>\n",
       "      <td>False</td>\n",
       "      <td>-0.747236</td>\n",
       "    </tr>\n",
       "    <tr>\n",
       "      <th>68</th>\n",
       "      <td>70</td>\n",
       "      <td>Guinea</td>\n",
       "      <td>GIN</td>\n",
       "      <td>SouthEastAsia</td>\n",
       "      <td>993.83002</td>\n",
       "      <td>0.414</td>\n",
       "      <td>11.745</td>\n",
       "      <td>7.2</td>\n",
       "      <td>2.425785</td>\n",
       "      <td>3.20817</td>\n",
       "      <td>31.788179</td>\n",
       "      <td>False</td>\n",
       "      <td>-0.746414</td>\n",
       "    </tr>\n",
       "    <tr>\n",
       "      <th>74</th>\n",
       "      <td>172</td>\n",
       "      <td>Togo</td>\n",
       "      <td>TGO</td>\n",
       "      <td>SouthEastAsia</td>\n",
       "      <td>1036.28000</td>\n",
       "      <td>0.484</td>\n",
       "      <td>6.929</td>\n",
       "      <td>7.3</td>\n",
       "      <td>NaN</td>\n",
       "      <td>4.86846</td>\n",
       "      <td>NaN</td>\n",
       "      <td>True</td>\n",
       "      <td>-0.743898</td>\n",
       "    </tr>\n",
       "  </tbody>\n",
       "</table>\n",
       "</div>"
      ],
      "text/plain": [
       "    Unnamed: 0                       cname ccodealp      ht_region  \\\n",
       "27          41  Congo, Democratic Republic      COD  SouthEastAsia   \n",
       "61          52                 El Salvador      SLV    SubSaharian   \n",
       "47          97                     Liberia      LBR  SouthEastAsia   \n",
       "50         125                       Niger      NER  SouthEastAsia   \n",
       "40          26                     Burundi      BDI  SouthEastAsia   \n",
       "37         103                      Malawi      MWI  SouthEastAsia   \n",
       "46          39                     Comoros      COM  SouthEastAsia   \n",
       "81         154                Sierra Leone      SLE  SouthEastAsia   \n",
       "68          70                      Guinea      GIN  SouthEastAsia   \n",
       "74         172                        Togo      TGO  SouthEastAsia   \n",
       "\n",
       "     gle_cgdpc  undp_hdi  imf_pop  ffp_hf   wef_qes  wdi_expedu   wdi_ners  \\\n",
       "27   324.16000     0.425      NaN     7.1  2.957447     2.24535        NaN   \n",
       "61   332.26999     0.678      NaN     6.9  3.804579     3.44857  70.171722   \n",
       "47   488.26999     0.427      NaN     6.6  3.472222     2.75756        NaN   \n",
       "50   644.53998     0.351      NaN     6.9       NaN     6.70941  15.665040   \n",
       "40   663.57001     0.406      NaN     6.8  2.595249     5.41642  24.948179   \n",
       "37   938.34998     0.473   17.604     8.1  3.185532     4.84254  32.942291   \n",
       "46   972.35999     0.498    0.776     7.8       NaN     4.86862  43.934471   \n",
       "81   979.95001     0.431    6.232     8.4  2.986086     2.66167        NaN   \n",
       "68   993.83002     0.414   11.745     7.2  2.425785     3.20817  31.788179   \n",
       "74  1036.28000     0.484    6.929     7.3       NaN     4.86846        NaN   \n",
       "\n",
       "    flagnull         z  \n",
       "27     False -0.786101  \n",
       "61     False -0.785620  \n",
       "47     False -0.776375  \n",
       "50      True -0.767114  \n",
       "40     False -0.765986  \n",
       "37     False -0.749702  \n",
       "46      True -0.747686  \n",
       "81     False -0.747236  \n",
       "68     False -0.746414  \n",
       "74      True -0.743898  "
      ]
     },
     "execution_count": 24,
     "metadata": {},
     "output_type": "execute_result"
    }
   ],
   "source": [
    "df_sample.head(10)"
   ]
  },
  {
   "cell_type": "code",
   "execution_count": 25,
   "id": "b7e5a745-3f70-4ded-9fa6-d538559b98df",
   "metadata": {},
   "outputs": [
    {
     "data": {
      "image/png": "[encoded data removed]",
      "text/plain": [
       "<Figure size 432x288 with 1 Axes>"
      ]
     },
     "metadata": {
      "needs_background": "light"
     },
     "output_type": "display_data"
    }
   ],
   "source": [
    "dotplot(df_sample, plot_var='z', plot_by='ht_region',global_stat=True, statistic='median')"
   ]
  },
  {
   "cell_type": "code",
   "execution_count": 54,
   "id": "006a510e-3c5c-4903-87eb-c1ee1de77462",
   "metadata": {},
   "outputs": [],
   "source": [
    "def plot_histo(dataframe,valor):\n",
    "    temporal = dataframe[valor].dropna()\n",
    "    xs = np.linspace(dataframe[valor].min(),dataframe[valor].max(),100)\n",
    "    yx = stats.norm.pdf(xs, loc = dataframe[valor].mean(), scale = dataframe[valor].std())\n",
    "    plt.hist(dataframe[valor],density = True, label = 'Diameter Data')\n",
    "    plt.plot(xs,yx, label = 'Normal Dist')\n",
    "    plt.legend(loc = 'best')\n",
    "    plt.grid()\n",
    "    plt.show()"
   ]
  },
  {
   "cell_type": "code",
   "execution_count": 55,
   "id": "4b02e208-adbf-4203-a9dc-972fc5596ed9",
   "metadata": {},
   "outputs": [
    {
     "data": {
      "image/png": "[encoded data removed]",
      "text/plain": [
       "<Figure size 432x288 with 1 Axes>"
      ]
     },
     "metadata": {
      "needs_background": "light"
     },
     "output_type": "display_data"
    }
   ],
   "source": [
    "plot_histo(df_sample,'imf_pop')"
   ]
  },
  {
   "cell_type": "code",
   "execution_count": 56,
   "id": "5b99464c-26ab-4a50-81b3-dfd15673de3f",
   "metadata": {},
   "outputs": [
    {
     "data": {
      "image/png": "[encoded data removed]",
      "text/plain": [
       "<Figure size 432x288 with 1 Axes>"
      ]
     },
     "metadata": {
      "needs_background": "light"
     },
     "output_type": "display_data"
    }
   ],
   "source": [
    "plot_histo(df_sample,'gle_cgdpc')"
   ]
  },
  {
   "cell_type": "code",
   "execution_count": 59,
   "id": "065c4428-4773-42b2-b831-7e91c5cffa87",
   "metadata": {},
   "outputs": [
    {
     "data": {
      "image/png": "[encoded data removed]",
      "text/plain": [
       "<Figure size 432x288 with 1 Axes>"
      ]
     },
     "metadata": {
      "needs_background": "light"
     },
     "output_type": "display_data"
    }
   ],
   "source": [
    "plot_histo(df_sample,'wdi_expedu')"
   ]
  },
  {
   "cell_type": "code",
   "execution_count": 58,
   "id": "2856d764-8039-4143-a33d-64707aafd9b6",
   "metadata": {},
   "outputs": [
    {
     "data": {
      "text/html": [
       "<div>\n",
       "<style scoped>\n",
       "    .dataframe tbody tr th:only-of-type {\n",
       "        vertical-align: middle;\n",
       "    }\n",
       "\n",
       "    .dataframe tbody tr th {\n",
       "        vertical-align: top;\n",
       "    }\n",
       "\n",
       "    .dataframe thead th {\n",
       "        text-align: right;\n",
       "    }\n",
       "</style>\n",
       "<table border=\"1\" class=\"dataframe\">\n",
       "  <thead>\n",
       "    <tr style=\"text-align: right;\">\n",
       "      <th></th>\n",
       "      <th>Unnamed: 0</th>\n",
       "      <th>cname</th>\n",
       "      <th>ccodealp</th>\n",
       "      <th>ht_region</th>\n",
       "      <th>gle_cgdpc</th>\n",
       "      <th>undp_hdi</th>\n",
       "      <th>imf_pop</th>\n",
       "      <th>ffp_hf</th>\n",
       "      <th>wef_qes</th>\n",
       "      <th>wdi_expedu</th>\n",
       "      <th>wdi_ners</th>\n",
       "      <th>flagnull</th>\n",
       "      <th>z</th>\n",
       "    </tr>\n",
       "  </thead>\n",
       "  <tbody>\n",
       "    <tr>\n",
       "      <th>27</th>\n",
       "      <td>41</td>\n",
       "      <td>Congo, Democratic Republic</td>\n",
       "      <td>COD</td>\n",
       "      <td>SouthEastAsia</td>\n",
       "      <td>324.16000</td>\n",
       "      <td>0.425</td>\n",
       "      <td>NaN</td>\n",
       "      <td>7.1</td>\n",
       "      <td>2.957447</td>\n",
       "      <td>2.24535</td>\n",
       "      <td>NaN</td>\n",
       "      <td>False</td>\n",
       "      <td>-0.786101</td>\n",
       "    </tr>\n",
       "    <tr>\n",
       "      <th>61</th>\n",
       "      <td>52</td>\n",
       "      <td>El Salvador</td>\n",
       "      <td>SLV</td>\n",
       "      <td>SubSaharian</td>\n",
       "      <td>332.26999</td>\n",
       "      <td>0.678</td>\n",
       "      <td>NaN</td>\n",
       "      <td>6.9</td>\n",
       "      <td>3.804579</td>\n",
       "      <td>3.44857</td>\n",
       "      <td>70.171722</td>\n",
       "      <td>False</td>\n",
       "      <td>-0.785620</td>\n",
       "    </tr>\n",
       "    <tr>\n",
       "      <th>47</th>\n",
       "      <td>97</td>\n",
       "      <td>Liberia</td>\n",
       "      <td>LBR</td>\n",
       "      <td>SouthEastAsia</td>\n",
       "      <td>488.26999</td>\n",
       "      <td>0.427</td>\n",
       "      <td>NaN</td>\n",
       "      <td>6.6</td>\n",
       "      <td>3.472222</td>\n",
       "      <td>2.75756</td>\n",
       "      <td>NaN</td>\n",
       "      <td>False</td>\n",
       "      <td>-0.776375</td>\n",
       "    </tr>\n",
       "    <tr>\n",
       "      <th>50</th>\n",
       "      <td>125</td>\n",
       "      <td>Niger</td>\n",
       "      <td>NER</td>\n",
       "      <td>SouthEastAsia</td>\n",
       "      <td>644.53998</td>\n",
       "      <td>0.351</td>\n",
       "      <td>NaN</td>\n",
       "      <td>6.9</td>\n",
       "      <td>NaN</td>\n",
       "      <td>6.70941</td>\n",
       "      <td>15.665040</td>\n",
       "      <td>True</td>\n",
       "      <td>-0.767114</td>\n",
       "    </tr>\n",
       "    <tr>\n",
       "      <th>40</th>\n",
       "      <td>26</td>\n",
       "      <td>Burundi</td>\n",
       "      <td>BDI</td>\n",
       "      <td>SouthEastAsia</td>\n",
       "      <td>663.57001</td>\n",
       "      <td>0.406</td>\n",
       "      <td>NaN</td>\n",
       "      <td>6.8</td>\n",
       "      <td>2.595249</td>\n",
       "      <td>5.41642</td>\n",
       "      <td>24.948179</td>\n",
       "      <td>False</td>\n",
       "      <td>-0.765986</td>\n",
       "    </tr>\n",
       "    <tr>\n",
       "      <th>...</th>\n",
       "      <td>...</td>\n",
       "      <td>...</td>\n",
       "      <td>...</td>\n",
       "      <td>...</td>\n",
       "      <td>...</td>\n",
       "      <td>...</td>\n",
       "      <td>...</td>\n",
       "      <td>...</td>\n",
       "      <td>...</td>\n",
       "      <td>...</td>\n",
       "      <td>...</td>\n",
       "      <td>...</td>\n",
       "      <td>...</td>\n",
       "    </tr>\n",
       "    <tr>\n",
       "      <th>65</th>\n",
       "      <td>80</td>\n",
       "      <td>Ireland</td>\n",
       "      <td>IRL</td>\n",
       "      <td>SouthAsia</td>\n",
       "      <td>46422.07000</td>\n",
       "      <td>0.920</td>\n",
       "      <td>4.621000</td>\n",
       "      <td>2.8</td>\n",
       "      <td>5.434197</td>\n",
       "      <td>5.32457</td>\n",
       "      <td>99.573357</td>\n",
       "      <td>False</td>\n",
       "      <td>1.945813</td>\n",
       "    </tr>\n",
       "    <tr>\n",
       "      <th>25</th>\n",
       "      <td>186</td>\n",
       "      <td>United States</td>\n",
       "      <td>USA</td>\n",
       "      <td>SouthAsia</td>\n",
       "      <td>47769.69900</td>\n",
       "      <td>0.918</td>\n",
       "      <td>318.789001</td>\n",
       "      <td>1.5</td>\n",
       "      <td>4.564571</td>\n",
       "      <td>5.38078</td>\n",
       "      <td>90.462288</td>\n",
       "      <td>False</td>\n",
       "      <td>2.025678</td>\n",
       "    </tr>\n",
       "    <tr>\n",
       "      <th>35</th>\n",
       "      <td>155</td>\n",
       "      <td>Singapore</td>\n",
       "      <td>SGP</td>\n",
       "      <td>LatAm</td>\n",
       "      <td>54268.14800</td>\n",
       "      <td>0.924</td>\n",
       "      <td>5.470000</td>\n",
       "      <td>3.3</td>\n",
       "      <td>5.797279</td>\n",
       "      <td>2.91579</td>\n",
       "      <td>NaN</td>\n",
       "      <td>False</td>\n",
       "      <td>2.410797</td>\n",
       "    </tr>\n",
       "    <tr>\n",
       "      <th>2</th>\n",
       "      <td>127</td>\n",
       "      <td>Norway</td>\n",
       "      <td>NOR</td>\n",
       "      <td>SouthAsia</td>\n",
       "      <td>57634.77000</td>\n",
       "      <td>0.948</td>\n",
       "      <td>5.156000</td>\n",
       "      <td>1.6</td>\n",
       "      <td>5.048264</td>\n",
       "      <td>7.37329</td>\n",
       "      <td>95.201927</td>\n",
       "      <td>False</td>\n",
       "      <td>2.610314</td>\n",
       "    </tr>\n",
       "    <tr>\n",
       "      <th>62</th>\n",
       "      <td>141</td>\n",
       "      <td>Qatar</td>\n",
       "      <td>QAT</td>\n",
       "      <td>EastAsia</td>\n",
       "      <td>104049.44000</td>\n",
       "      <td>0.855</td>\n",
       "      <td>2.045000</td>\n",
       "      <td>3.1</td>\n",
       "      <td>5.820522</td>\n",
       "      <td>3.60719</td>\n",
       "      <td>72.464622</td>\n",
       "      <td>False</td>\n",
       "      <td>5.361000</td>\n",
       "    </tr>\n",
       "  </tbody>\n",
       "</table>\n",
       "<p>97 rows × 13 columns</p>\n",
       "</div>"
      ],
      "text/plain": [
       "    Unnamed: 0                       cname ccodealp      ht_region  \\\n",
       "27          41  Congo, Democratic Republic      COD  SouthEastAsia   \n",
       "61          52                 El Salvador      SLV    SubSaharian   \n",
       "47          97                     Liberia      LBR  SouthEastAsia   \n",
       "50         125                       Niger      NER  SouthEastAsia   \n",
       "40          26                     Burundi      BDI  SouthEastAsia   \n",
       "..         ...                         ...      ...            ...   \n",
       "65          80                     Ireland      IRL      SouthAsia   \n",
       "25         186               United States      USA      SouthAsia   \n",
       "35         155                   Singapore      SGP          LatAm   \n",
       "2          127                      Norway      NOR      SouthAsia   \n",
       "62         141                       Qatar      QAT       EastAsia   \n",
       "\n",
       "       gle_cgdpc  undp_hdi     imf_pop  ffp_hf   wef_qes  wdi_expedu  \\\n",
       "27     324.16000     0.425         NaN     7.1  2.957447     2.24535   \n",
       "61     332.26999     0.678         NaN     6.9  3.804579     3.44857   \n",
       "47     488.26999     0.427         NaN     6.6  3.472222     2.75756   \n",
       "50     644.53998     0.351         NaN     6.9       NaN     6.70941   \n",
       "40     663.57001     0.406         NaN     6.8  2.595249     5.41642   \n",
       "..           ...       ...         ...     ...       ...         ...   \n",
       "65   46422.07000     0.920    4.621000     2.8  5.434197     5.32457   \n",
       "25   47769.69900     0.918  318.789001     1.5  4.564571     5.38078   \n",
       "35   54268.14800     0.924    5.470000     3.3  5.797279     2.91579   \n",
       "2    57634.77000     0.948    5.156000     1.6  5.048264     7.37329   \n",
       "62  104049.44000     0.855    2.045000     3.1  5.820522     3.60719   \n",
       "\n",
       "     wdi_ners  flagnull         z  \n",
       "27        NaN     False -0.786101  \n",
       "61  70.171722     False -0.785620  \n",
       "47        NaN     False -0.776375  \n",
       "50  15.665040      True -0.767114  \n",
       "40  24.948179     False -0.765986  \n",
       "..        ...       ...       ...  \n",
       "65  99.573357     False  1.945813  \n",
       "25  90.462288     False  2.025678  \n",
       "35        NaN     False  2.410797  \n",
       "2   95.201927     False  2.610314  \n",
       "62  72.464622     False  5.361000  \n",
       "\n",
       "[97 rows x 13 columns]"
      ]
     },
     "execution_count": 58,
     "metadata": {},
     "output_type": "execute_result"
    }
   ],
   "source": [
    "df_sample"
   ]
  },
  {
   "cell_type": "code",
   "execution_count": 40,
   "id": "27b204bb-cd84-4955-bd57-b2e5e367cb8b",
   "metadata": {},
   "outputs": [],
   "source": [
    "xs = np.linspace(df_sample.imf_pop.min(),df_sample.imf_pop.max(),100)\n",
    "yx = stats.norm.pdf(xs, loc = df_sample.imf_pop.mean(), scale = df_sample.imf_pop.std())\n",
    "log = stats.lognorm.pdf(xs, s = 0.1, loc= df_sample.imf_pop.mean())\n",
    "exp = stats.expon.pdf(xs, loc = df_sample.imf_pop.min())"
   ]
  },
  {
   "cell_type": "code",
   "execution_count": 43,
   "id": "e66c29d3-e3ac-4c21-9926-5e6410878205",
   "metadata": {},
   "outputs": [
    {
     "data": {
      "image/png": "[encoded data removed]",
      "text/plain": [
       "<Figure size 864x576 with 1 Axes>"
      ]
     },
     "metadata": {
      "needs_background": "light"
     },
     "output_type": "display_data"
    }
   ],
   "source": [
    "plt.figure(figsize =(12,8))\n",
    "plt.hist(df_sample.imf_pop,density = True, label = 'Diameter Data')\n",
    "plt.plot(xs,yx, label = 'Normal Dist')\n",
    "#plt.plot(xs,log, label = 'Lognorm Dist')\n",
    "#plt.plot(xs,exp, label = 'Exponential Dist')\n",
    "plt.legend(loc = 'best')\n",
    "plt.grid()\n",
    "plt.show()"
   ]
  },
  {
   "cell_type": "code",
   "execution_count": 53,
   "id": "7a08237b-c5a7-4210-a258-f9cf51d98e88",
   "metadata": {},
   "outputs": [
    {
     "ename": "RuntimeError",
     "evalue": "The data contains non-finite values.",
     "output_type": "error",
     "traceback": [
      "\u001b[0;31m---------------------------------------------------------------------------\u001b[0m",
      "\u001b[0;31mRuntimeError\u001b[0m                              Traceback (most recent call last)",
      "Input \u001b[0;32mIn [53]\u001b[0m, in \u001b[0;36m<cell line: 1>\u001b[0;34m()\u001b[0m\n\u001b[0;32m----> 1\u001b[0m norm_fit \u001b[38;5;241m=\u001b[39m \u001b[43mstats\u001b[49m\u001b[38;5;241;43m.\u001b[39;49m\u001b[43mnorm\u001b[49m\u001b[38;5;241;43m.\u001b[39;49m\u001b[43mfit\u001b[49m\u001b[43m(\u001b[49m\u001b[43mdf_sample\u001b[49m\u001b[38;5;241;43m.\u001b[39;49m\u001b[43mimf_pop\u001b[49m\u001b[43m)\u001b[49m\n\u001b[1;32m      2\u001b[0m lognorm_fit \u001b[38;5;241m=\u001b[39m stats\u001b[38;5;241m.\u001b[39mlognorm\u001b[38;5;241m.\u001b[39mfit(df_sample\u001b[38;5;241m.\u001b[39mimf_pop)\n\u001b[1;32m      3\u001b[0m exp_fit \u001b[38;5;241m=\u001b[39m stats\u001b[38;5;241m.\u001b[39mexpon\u001b[38;5;241m.\u001b[39mfit(df_sample\u001b[38;5;241m.\u001b[39mimf_pop)\n",
      "File \u001b[0;32m~/opt/anaconda3/lib/python3.9/site-packages/scipy/stats/_continuous_distns.py:62\u001b[0m, in \u001b[0;36m_call_super_mom.<locals>.wrapper\u001b[0;34m(self, *args, **kwds)\u001b[0m\n\u001b[1;32m     60\u001b[0m     \u001b[38;5;28;01mreturn\u001b[39;00m \u001b[38;5;28msuper\u001b[39m(\u001b[38;5;28mtype\u001b[39m(\u001b[38;5;28mself\u001b[39m), \u001b[38;5;28mself\u001b[39m)\u001b[38;5;241m.\u001b[39mfit(\u001b[38;5;241m*\u001b[39margs, \u001b[38;5;241m*\u001b[39m\u001b[38;5;241m*\u001b[39mkwds)\n\u001b[1;32m     61\u001b[0m \u001b[38;5;28;01melse\u001b[39;00m:\n\u001b[0;32m---> 62\u001b[0m     \u001b[38;5;28;01mreturn\u001b[39;00m \u001b[43mfun\u001b[49m\u001b[43m(\u001b[49m\u001b[38;5;28;43mself\u001b[39;49m\u001b[43m,\u001b[49m\u001b[43m \u001b[49m\u001b[38;5;241;43m*\u001b[39;49m\u001b[43margs\u001b[49m\u001b[43m,\u001b[49m\u001b[43m \u001b[49m\u001b[38;5;241;43m*\u001b[39;49m\u001b[38;5;241;43m*\u001b[39;49m\u001b[43mkwds\u001b[49m\u001b[43m)\u001b[49m\n",
      "File \u001b[0;32m~/opt/anaconda3/lib/python3.9/site-packages/scipy/stats/_continuous_distns.py:363\u001b[0m, in \u001b[0;36mnorm_gen.fit\u001b[0;34m(self, data, **kwds)\u001b[0m\n\u001b[1;32m    360\u001b[0m data \u001b[38;5;241m=\u001b[39m np\u001b[38;5;241m.\u001b[39masarray(data)\n\u001b[1;32m    362\u001b[0m \u001b[38;5;28;01mif\u001b[39;00m \u001b[38;5;129;01mnot\u001b[39;00m np\u001b[38;5;241m.\u001b[39misfinite(data)\u001b[38;5;241m.\u001b[39mall():\n\u001b[0;32m--> 363\u001b[0m     \u001b[38;5;28;01mraise\u001b[39;00m \u001b[38;5;167;01mRuntimeError\u001b[39;00m(\u001b[38;5;124m\"\u001b[39m\u001b[38;5;124mThe data contains non-finite values.\u001b[39m\u001b[38;5;124m\"\u001b[39m)\n\u001b[1;32m    365\u001b[0m \u001b[38;5;28;01mif\u001b[39;00m floc \u001b[38;5;129;01mis\u001b[39;00m \u001b[38;5;28;01mNone\u001b[39;00m:\n\u001b[1;32m    366\u001b[0m     loc \u001b[38;5;241m=\u001b[39m data\u001b[38;5;241m.\u001b[39mmean()\n",
      "\u001b[0;31mRuntimeError\u001b[0m: The data contains non-finite values."
     ]
    }
   ],
   "source": [
    "df[!df.columns.isna()]\n",
    "norm_fit = stats.norm.fit(df_sample.imf_pop)\n",
    "lognorm_fit = stats.lognorm.fit(df_sample.imf_pop)\n",
    "exp_fit = stats.expon.fit(df_sample.imf_pop)"
   ]
  },
  {
   "cell_type": "code",
   "execution_count": 52,
   "id": "bac1a06f-c7c6-4168-ad00-f14b15fd64a1",
   "metadata": {},
   "outputs": [
    {
     "ename": "NameError",
     "evalue": "name 'st' is not defined",
     "output_type": "error",
     "traceback": [
      "\u001b[0;31m---------------------------------------------------------------------------\u001b[0m",
      "\u001b[0;31mNameError\u001b[0m                                 Traceback (most recent call last)",
      "Input \u001b[0;32mIn [52]\u001b[0m, in \u001b[0;36m<cell line: 3>\u001b[0;34m()\u001b[0m\n\u001b[1;32m      1\u001b[0m fig \u001b[38;5;241m=\u001b[39m plt\u001b[38;5;241m.\u001b[39mfigure()\n\u001b[1;32m      2\u001b[0m ax \u001b[38;5;241m=\u001b[39m fig\u001b[38;5;241m.\u001b[39madd_subplot(\u001b[38;5;241m111\u001b[39m)\n\u001b[0;32m----> 3\u001b[0m \u001b[43mst\u001b[49m\u001b[38;5;241m.\u001b[39mprobplot(df_sample[\u001b[38;5;124m'\u001b[39m\u001b[38;5;124mimf_pop\u001b[39m\u001b[38;5;124m'\u001b[39m], sparams \u001b[38;5;241m=\u001b[39m (\u001b[38;5;241m0.001\u001b[39m,),dist \u001b[38;5;241m=\u001b[39m st\u001b[38;5;241m.\u001b[39mlognorm, plot \u001b[38;5;241m=\u001b[39m ax)\n\u001b[1;32m      4\u001b[0m plt\u001b[38;5;241m.\u001b[39mshow()\n",
      "\u001b[0;31mNameError\u001b[0m: name 'st' is not defined"
     ]
    },
    {
     "data": {
      "image/png": "[encoded data removed]",
      "text/plain": [
       "<Figure size 432x288 with 1 Axes>"
      ]
     },
     "metadata": {
      "needs_background": "light"
     },
     "output_type": "display_data"
    }
   ],
   "source": [
    "fig = plt.figure()\n",
    "ax = fig.add_subplot(111)\n",
    "st.probplot(df_sample['imf_pop'], sparams = (0.001,),dist = st.lognorm, plot = ax)\n",
    "plt.show()"
   ]
  },
  {
   "cell_type": "code",
   "execution_count": null,
   "id": "0e0bc89b-44a3-4284-8970-7a5535cd0f53",
   "metadata": {},
   "outputs": [],
   "source": []
  },
  {
   "cell_type": "code",
   "execution_count": null,
   "id": "338f3fb2-de10-42ae-a1b0-f60833868548",
   "metadata": {},
   "outputs": [],
   "source": []
  },
  {
   "cell_type": "code",
   "execution_count": 34,
   "id": "6b30e8cf-6d88-43f2-ac88-05dce767ea74",
   "metadata": {},
   "outputs": [],
   "source": [
    "norm_fit=stats.norm.fit(df_sample['gle_cgdpc'])\n",
    "lognorm_fit=stats.lognorm.fit(df_sample['gle_cgdpc'])\n",
    "exp_fit=stats.expon.fit(df_sample['gle_cgdpc'])"
   ]
  },
  {
   "cell_type": "code",
   "execution_count": 36,
   "id": "5b6364ff-6083-4dfa-8b80-d445e41ab266",
   "metadata": {},
   "outputs": [],
   "source": [
    "\n",
    "pl=stats.probplot(df_sample['gle_cgdpc'],dist='norm',fit=stats.lognorm.fit, plot=ax)\n",
    "plt.show()"
   ]
  }
 ],
 "metadata": {
  "kernelspec": {
   "display_name": "Python 3 (ipykernel)",
   "language": "python",
   "name": "python3"
  },
  "language_info": {
   "codemirror_mode": {
    "name": "ipython",
    "version": 3
   },
   "file_extension": ".py",
   "mimetype": "text/x-python",
   "name": "python",
   "nbconvert_exporter": "python",
   "pygments_lexer": "ipython3",
   "version": "3.9.12"
  }
 },
 "nbformat": 4,
 "nbformat_minor": 5
}
