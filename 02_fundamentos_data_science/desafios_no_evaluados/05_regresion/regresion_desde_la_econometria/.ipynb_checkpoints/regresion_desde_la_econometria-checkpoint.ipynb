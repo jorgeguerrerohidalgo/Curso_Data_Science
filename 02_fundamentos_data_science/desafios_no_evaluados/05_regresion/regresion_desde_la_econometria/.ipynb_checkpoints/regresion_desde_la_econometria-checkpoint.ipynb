{
 "cells": [
  {
   "cell_type": "markdown",
   "metadata": {},
   "source": [
    "# <center> Regresión desde la econometría\n",
    "----\n",
    "## <center> por Daniel Zúñiga"
   ]
  },
  {
   "cell_type": "markdown",
   "metadata": {},
   "source": [
    "----\n",
    "### Desafío 1: Prepare el ambiente de trabajo"
   ]
  },
  {
   "cell_type": "markdown",
   "metadata": {},
   "source": [
    "#### Importe las librerías básicas para el análisis de datos.\n",
    "#### Incluya los import base de statsmodels .\n",
    "#### Importe la base de datos Credit.csv y elimine la columna Unnamed: 0 .\n",
    "#### Siguiendo las buenas prácticas, genere variables binarias para capturar el efecto del grupo minoritario en cada variable. Para el caso de Ethnicity , genere binarias para AfricanAmerican y Asian .\n",
    "* tip: Utilice value_counts() para revisar la cantidad de casos en las variables categóricas.\n",
    "\n",
    "$$ Y = b_0 + b_1 * x_1$$\n",
    "\n",
    "$$ \\left( \\frac{a}{b} \\right) ^{2} $$"
   ]
  },
  {
   "cell_type": "code",
   "execution_count": 1,
   "metadata": {
    "ExecuteTime": {
     "end_time": "2021-03-04T00:23:41.452675Z",
     "start_time": "2021-03-04T00:23:39.270676Z"
    }
   },
   "outputs": [],
   "source": [
    "#importamos las librerías de siempre\n",
    "import pandas as pd\n",
    "import numpy as np\n",
    "import scipy.stats as stats\n",
    "import matplotlib.pyplot as plt\n",
    "import statsmodels.api as sm\n",
    "import statsmodels.formula.api as smf\n",
    "import seaborn as sns\n",
    "import warnings\n",
    "warnings.filterwarnings(\"ignore\", category=DeprecationWarning)\n"
   ]
  },
  {
   "cell_type": "code",
   "execution_count": 2,
   "metadata": {
    "ExecuteTime": {
     "end_time": "2021-03-04T00:23:41.482676Z",
     "start_time": "2021-03-04T00:23:41.458682Z"
    }
   },
   "outputs": [
    {
     "data": {
      "text/html": [
       "<div>\n",
       "<style scoped>\n",
       "    .dataframe tbody tr th:only-of-type {\n",
       "        vertical-align: middle;\n",
       "    }\n",
       "\n",
       "    .dataframe tbody tr th {\n",
       "        vertical-align: top;\n",
       "    }\n",
       "\n",
       "    .dataframe thead th {\n",
       "        text-align: right;\n",
       "    }\n",
       "</style>\n",
       "<table border=\"1\" class=\"dataframe\">\n",
       "  <thead>\n",
       "    <tr style=\"text-align: right;\">\n",
       "      <th></th>\n",
       "      <th>Unnamed: 0</th>\n",
       "      <th>Income</th>\n",
       "      <th>Limit</th>\n",
       "      <th>Rating</th>\n",
       "      <th>Cards</th>\n",
       "      <th>Age</th>\n",
       "      <th>Education</th>\n",
       "      <th>Gender</th>\n",
       "      <th>Student</th>\n",
       "      <th>Married</th>\n",
       "      <th>Ethnicity</th>\n",
       "      <th>Balance</th>\n",
       "    </tr>\n",
       "  </thead>\n",
       "  <tbody>\n",
       "    <tr>\n",
       "      <th>0</th>\n",
       "      <td>1</td>\n",
       "      <td>14.891</td>\n",
       "      <td>3606</td>\n",
       "      <td>283</td>\n",
       "      <td>2</td>\n",
       "      <td>34</td>\n",
       "      <td>11</td>\n",
       "      <td>Male</td>\n",
       "      <td>No</td>\n",
       "      <td>Yes</td>\n",
       "      <td>Caucasian</td>\n",
       "      <td>333</td>\n",
       "    </tr>\n",
       "    <tr>\n",
       "      <th>1</th>\n",
       "      <td>2</td>\n",
       "      <td>106.025</td>\n",
       "      <td>6645</td>\n",
       "      <td>483</td>\n",
       "      <td>3</td>\n",
       "      <td>82</td>\n",
       "      <td>15</td>\n",
       "      <td>Female</td>\n",
       "      <td>Yes</td>\n",
       "      <td>Yes</td>\n",
       "      <td>Asian</td>\n",
       "      <td>903</td>\n",
       "    </tr>\n",
       "    <tr>\n",
       "      <th>2</th>\n",
       "      <td>3</td>\n",
       "      <td>104.593</td>\n",
       "      <td>7075</td>\n",
       "      <td>514</td>\n",
       "      <td>4</td>\n",
       "      <td>71</td>\n",
       "      <td>11</td>\n",
       "      <td>Male</td>\n",
       "      <td>No</td>\n",
       "      <td>No</td>\n",
       "      <td>Asian</td>\n",
       "      <td>580</td>\n",
       "    </tr>\n",
       "    <tr>\n",
       "      <th>3</th>\n",
       "      <td>4</td>\n",
       "      <td>148.924</td>\n",
       "      <td>9504</td>\n",
       "      <td>681</td>\n",
       "      <td>3</td>\n",
       "      <td>36</td>\n",
       "      <td>11</td>\n",
       "      <td>Female</td>\n",
       "      <td>No</td>\n",
       "      <td>No</td>\n",
       "      <td>Asian</td>\n",
       "      <td>964</td>\n",
       "    </tr>\n",
       "    <tr>\n",
       "      <th>4</th>\n",
       "      <td>5</td>\n",
       "      <td>55.882</td>\n",
       "      <td>4897</td>\n",
       "      <td>357</td>\n",
       "      <td>2</td>\n",
       "      <td>68</td>\n",
       "      <td>16</td>\n",
       "      <td>Male</td>\n",
       "      <td>No</td>\n",
       "      <td>Yes</td>\n",
       "      <td>Caucasian</td>\n",
       "      <td>331</td>\n",
       "    </tr>\n",
       "  </tbody>\n",
       "</table>\n",
       "</div>"
      ],
      "text/plain": [
       "   Unnamed: 0   Income  Limit  Rating  Cards  Age  Education  Gender Student  \\\n",
       "0           1   14.891   3606     283      2   34         11    Male      No   \n",
       "1           2  106.025   6645     483      3   82         15  Female     Yes   \n",
       "2           3  104.593   7075     514      4   71         11    Male      No   \n",
       "3           4  148.924   9504     681      3   36         11  Female      No   \n",
       "4           5   55.882   4897     357      2   68         16    Male      No   \n",
       "\n",
       "  Married  Ethnicity  Balance  \n",
       "0     Yes  Caucasian      333  \n",
       "1     Yes      Asian      903  \n",
       "2      No      Asian      580  \n",
       "3      No      Asian      964  \n",
       "4     Yes  Caucasian      331  "
      ]
     },
     "execution_count": 2,
     "metadata": {},
     "output_type": "execute_result"
    }
   ],
   "source": [
    "#importamos el dataframe\n",
    "df=pd.read_csv(w"
   ]
  },
  {
   "cell_type": "code",
   "execution_count": 3,
   "metadata": {
    "ExecuteTime": {
     "end_time": "2021-03-04T00:23:41.514679Z",
     "start_time": "2021-03-04T00:23:41.487678Z"
    }
   },
   "outputs": [],
   "source": [
    "#eliminamos la columna 'Unnamed: 0' \n",
    "df = df.drop(columns='Unnamed: 0')"
   ]
  },
  {
   "cell_type": "code",
   "execution_count": 4,
   "metadata": {
    "ExecuteTime": {
     "end_time": "2021-03-04T00:23:41.545676Z",
     "start_time": "2021-03-04T00:23:41.517679Z"
    }
   },
   "outputs": [
    {
     "data": {
      "text/html": [
       "<div>\n",
       "<style scoped>\n",
       "    .dataframe tbody tr th:only-of-type {\n",
       "        vertical-align: middle;\n",
       "    }\n",
       "\n",
       "    .dataframe tbody tr th {\n",
       "        vertical-align: top;\n",
       "    }\n",
       "\n",
       "    .dataframe thead th {\n",
       "        text-align: right;\n",
       "    }\n",
       "</style>\n",
       "<table border=\"1\" class=\"dataframe\">\n",
       "  <thead>\n",
       "    <tr style=\"text-align: right;\">\n",
       "      <th></th>\n",
       "      <th>Income</th>\n",
       "      <th>Limit</th>\n",
       "      <th>Rating</th>\n",
       "      <th>Cards</th>\n",
       "      <th>Age</th>\n",
       "      <th>Education</th>\n",
       "      <th>Gender</th>\n",
       "      <th>Student</th>\n",
       "      <th>Married</th>\n",
       "      <th>Ethnicity</th>\n",
       "      <th>Balance</th>\n",
       "    </tr>\n",
       "  </thead>\n",
       "  <tbody>\n",
       "    <tr>\n",
       "      <th>0</th>\n",
       "      <td>14.891</td>\n",
       "      <td>3606</td>\n",
       "      <td>283</td>\n",
       "      <td>2</td>\n",
       "      <td>34</td>\n",
       "      <td>11</td>\n",
       "      <td>Male</td>\n",
       "      <td>No</td>\n",
       "      <td>Yes</td>\n",
       "      <td>Caucasian</td>\n",
       "      <td>333</td>\n",
       "    </tr>\n",
       "    <tr>\n",
       "      <th>1</th>\n",
       "      <td>106.025</td>\n",
       "      <td>6645</td>\n",
       "      <td>483</td>\n",
       "      <td>3</td>\n",
       "      <td>82</td>\n",
       "      <td>15</td>\n",
       "      <td>Female</td>\n",
       "      <td>Yes</td>\n",
       "      <td>Yes</td>\n",
       "      <td>Asian</td>\n",
       "      <td>903</td>\n",
       "    </tr>\n",
       "    <tr>\n",
       "      <th>2</th>\n",
       "      <td>104.593</td>\n",
       "      <td>7075</td>\n",
       "      <td>514</td>\n",
       "      <td>4</td>\n",
       "      <td>71</td>\n",
       "      <td>11</td>\n",
       "      <td>Male</td>\n",
       "      <td>No</td>\n",
       "      <td>No</td>\n",
       "      <td>Asian</td>\n",
       "      <td>580</td>\n",
       "    </tr>\n",
       "    <tr>\n",
       "      <th>3</th>\n",
       "      <td>148.924</td>\n",
       "      <td>9504</td>\n",
       "      <td>681</td>\n",
       "      <td>3</td>\n",
       "      <td>36</td>\n",
       "      <td>11</td>\n",
       "      <td>Female</td>\n",
       "      <td>No</td>\n",
       "      <td>No</td>\n",
       "      <td>Asian</td>\n",
       "      <td>964</td>\n",
       "    </tr>\n",
       "    <tr>\n",
       "      <th>4</th>\n",
       "      <td>55.882</td>\n",
       "      <td>4897</td>\n",
       "      <td>357</td>\n",
       "      <td>2</td>\n",
       "      <td>68</td>\n",
       "      <td>16</td>\n",
       "      <td>Male</td>\n",
       "      <td>No</td>\n",
       "      <td>Yes</td>\n",
       "      <td>Caucasian</td>\n",
       "      <td>331</td>\n",
       "    </tr>\n",
       "  </tbody>\n",
       "</table>\n",
       "</div>"
      ],
      "text/plain": [
       "    Income  Limit  Rating  Cards  Age  Education  Gender Student Married  \\\n",
       "0   14.891   3606     283      2   34         11    Male      No     Yes   \n",
       "1  106.025   6645     483      3   82         15  Female     Yes     Yes   \n",
       "2  104.593   7075     514      4   71         11    Male      No      No   \n",
       "3  148.924   9504     681      3   36         11  Female      No      No   \n",
       "4   55.882   4897     357      2   68         16    Male      No     Yes   \n",
       "\n",
       "   Ethnicity  Balance  \n",
       "0  Caucasian      333  \n",
       "1      Asian      903  \n",
       "2      Asian      580  \n",
       "3      Asian      964  \n",
       "4  Caucasian      331  "
      ]
     },
     "execution_count": 4,
     "metadata": {},
     "output_type": "execute_result"
    }
   ],
   "source": [
    "#inspeccionamos\n",
    "df.head()"
   ]
  },
  {
   "cell_type": "code",
   "execution_count": 5,
   "metadata": {
    "ExecuteTime": {
     "end_time": "2021-03-04T00:23:41.592674Z",
     "start_time": "2021-03-04T00:23:41.554676Z"
    }
   },
   "outputs": [
    {
     "name": "stdout",
     "output_type": "stream",
     "text": [
      "<class 'pandas.core.frame.DataFrame'>\n",
      "RangeIndex: 400 entries, 0 to 399\n",
      "Data columns (total 11 columns):\n",
      " #   Column     Non-Null Count  Dtype  \n",
      "---  ------     --------------  -----  \n",
      " 0   Income     400 non-null    float64\n",
      " 1   Limit      400 non-null    int64  \n",
      " 2   Rating     400 non-null    int64  \n",
      " 3   Cards      400 non-null    int64  \n",
      " 4   Age        400 non-null    int64  \n",
      " 5   Education  400 non-null    int64  \n",
      " 6   Gender     400 non-null    object \n",
      " 7   Student    400 non-null    object \n",
      " 8   Married    400 non-null    object \n",
      " 9   Ethnicity  400 non-null    object \n",
      " 10  Balance    400 non-null    int64  \n",
      "dtypes: float64(1), int64(6), object(4)\n",
      "memory usage: 34.5+ KB\n"
     ]
    }
   ],
   "source": [
    "df.info()"
   ]
  },
  {
   "cell_type": "code",
   "execution_count": 6,
   "metadata": {
    "ExecuteTime": {
     "end_time": "2021-03-04T00:23:41.623676Z",
     "start_time": "2021-03-04T00:23:41.610676Z"
    }
   },
   "outputs": [
    {
     "data": {
      "text/plain": [
       "['Gender', 'Student', 'Married', 'Ethnicity']"
      ]
     },
     "execution_count": 6,
     "metadata": {},
     "output_type": "execute_result"
    }
   ],
   "source": [
    "#definimos la variables categóricas\n",
    "variables_categoricas = []\n",
    "for n, i in enumerate(df):\n",
    "    if df[i].dtypes ==\"object\":\n",
    "        variables_categoricas.append(i)\n",
    "variables_categoricas    "
   ]
  },
  {
   "cell_type": "code",
   "execution_count": 7,
   "metadata": {
    "ExecuteTime": {
     "end_time": "2021-03-04T00:23:41.699674Z",
     "start_time": "2021-03-04T00:23:41.633676Z"
    }
   },
   "outputs": [
    {
     "name": "stdout",
     "output_type": "stream",
     "text": [
      "\n",
      " Gender\n",
      "Female    207\n",
      " Male     193\n",
      "Name: Gender, dtype: int64\n",
      "Female    0.5175\n",
      " Male     0.4825\n",
      "Name: Gender, dtype: float64\n",
      "\n",
      " Student\n",
      "No     360\n",
      "Yes     40\n",
      "Name: Student, dtype: int64\n",
      "No     0.9\n",
      "Yes    0.1\n",
      "Name: Student, dtype: float64\n",
      "\n",
      " Married\n",
      "Yes    245\n",
      "No     155\n",
      "Name: Married, dtype: int64\n",
      "Yes    0.6125\n",
      "No     0.3875\n",
      "Name: Married, dtype: float64\n",
      "\n",
      " Ethnicity\n",
      "Caucasian           199\n",
      "Asian               102\n",
      "African American     99\n",
      "Name: Ethnicity, dtype: int64\n",
      "Caucasian           0.4975\n",
      "Asian               0.2550\n",
      "African American    0.2475\n",
      "Name: Ethnicity, dtype: float64\n"
     ]
    }
   ],
   "source": [
    "#inspeccionamos la variables categóricas para identificar el grupo minoritario\n",
    "for i in variables_categoricas:\n",
    "    print(\"\\n\",i)\n",
    "    print(df[i].value_counts())\n",
    "    print((df[i].value_counts()/len(df[i])))"
   ]
  },
  {
   "cell_type": "code",
   "execution_count": 8,
   "metadata": {
    "ExecuteTime": {
     "end_time": "2021-03-04T00:23:41.730675Z",
     "start_time": "2021-03-04T00:23:41.709687Z"
    }
   },
   "outputs": [
    {
     "data": {
      "text/plain": [
       "' Male'"
      ]
     },
     "execution_count": 8,
     "metadata": {},
     "output_type": "execute_result"
    }
   ],
   "source": [
    "#revisamos la variable 'Gender'\n",
    "df['Gender'][0]"
   ]
  },
  {
   "cell_type": "code",
   "execution_count": 9,
   "metadata": {
    "ExecuteTime": {
     "end_time": "2021-03-04T00:23:41.746675Z",
     "start_time": "2021-03-04T00:23:41.732676Z"
    }
   },
   "outputs": [],
   "source": [
    "#limpiamos la variable 'Gender' de los espacios en blanco\n",
    "df['Gender'] = df['Gender'].str.strip()"
   ]
  },
  {
   "cell_type": "code",
   "execution_count": 10,
   "metadata": {
    "ExecuteTime": {
     "end_time": "2021-03-04T00:23:41.776677Z",
     "start_time": "2021-03-04T00:23:41.751674Z"
    }
   },
   "outputs": [],
   "source": [
    "df['Is_Male']= np.where(df['Gender'] == 'Male',1,0 )\n",
    "df['Is_Student']= np.where(df['Student'] == 'Yes',1,0 )\n",
    "df['Not_Married']= np.where(df['Married'] == 'No',1,0 )\n",
    "df['Is_African_American']= np.where(df['Ethnicity'] == 'African American',1,0 )\n",
    "df['Is_Asian']= np.where(df['Ethnicity'] == 'Asian',1,0 )"
   ]
  },
  {
   "cell_type": "code",
   "execution_count": 11,
   "metadata": {
    "ExecuteTime": {
     "end_time": "2021-03-04T00:23:41.791675Z",
     "start_time": "2021-03-04T00:23:41.778676Z"
    }
   },
   "outputs": [],
   "source": [
    "#dummies = pd.get_dummies(df['Gender']).rename(columns=lambda x: 'Gender_' + str(x).strip())\n",
    "#df = df.drop(columns=['Is_Male', 'Is_Student', 'Not_Married', 'Is_AfricanAmerican', 'Is_Asian'])"
   ]
  },
  {
   "cell_type": "code",
   "execution_count": 12,
   "metadata": {
    "ExecuteTime": {
     "end_time": "2021-03-04T00:23:41.823677Z",
     "start_time": "2021-03-04T00:23:41.793674Z"
    }
   },
   "outputs": [
    {
     "data": {
      "text/html": [
       "<div>\n",
       "<style scoped>\n",
       "    .dataframe tbody tr th:only-of-type {\n",
       "        vertical-align: middle;\n",
       "    }\n",
       "\n",
       "    .dataframe tbody tr th {\n",
       "        vertical-align: top;\n",
       "    }\n",
       "\n",
       "    .dataframe thead th {\n",
       "        text-align: right;\n",
       "    }\n",
       "</style>\n",
       "<table border=\"1\" class=\"dataframe\">\n",
       "  <thead>\n",
       "    <tr style=\"text-align: right;\">\n",
       "      <th></th>\n",
       "      <th>Income</th>\n",
       "      <th>Limit</th>\n",
       "      <th>Rating</th>\n",
       "      <th>Cards</th>\n",
       "      <th>Age</th>\n",
       "      <th>Education</th>\n",
       "      <th>Gender</th>\n",
       "      <th>Student</th>\n",
       "      <th>Married</th>\n",
       "      <th>Ethnicity</th>\n",
       "      <th>Balance</th>\n",
       "      <th>Is_Male</th>\n",
       "      <th>Is_Student</th>\n",
       "      <th>Not_Married</th>\n",
       "      <th>Is_African_American</th>\n",
       "      <th>Is_Asian</th>\n",
       "    </tr>\n",
       "  </thead>\n",
       "  <tbody>\n",
       "    <tr>\n",
       "      <th>0</th>\n",
       "      <td>14.891</td>\n",
       "      <td>3606</td>\n",
       "      <td>283</td>\n",
       "      <td>2</td>\n",
       "      <td>34</td>\n",
       "      <td>11</td>\n",
       "      <td>Male</td>\n",
       "      <td>No</td>\n",
       "      <td>Yes</td>\n",
       "      <td>Caucasian</td>\n",
       "      <td>333</td>\n",
       "      <td>1</td>\n",
       "      <td>0</td>\n",
       "      <td>0</td>\n",
       "      <td>0</td>\n",
       "      <td>0</td>\n",
       "    </tr>\n",
       "    <tr>\n",
       "      <th>1</th>\n",
       "      <td>106.025</td>\n",
       "      <td>6645</td>\n",
       "      <td>483</td>\n",
       "      <td>3</td>\n",
       "      <td>82</td>\n",
       "      <td>15</td>\n",
       "      <td>Female</td>\n",
       "      <td>Yes</td>\n",
       "      <td>Yes</td>\n",
       "      <td>Asian</td>\n",
       "      <td>903</td>\n",
       "      <td>0</td>\n",
       "      <td>1</td>\n",
       "      <td>0</td>\n",
       "      <td>0</td>\n",
       "      <td>1</td>\n",
       "    </tr>\n",
       "    <tr>\n",
       "      <th>2</th>\n",
       "      <td>104.593</td>\n",
       "      <td>7075</td>\n",
       "      <td>514</td>\n",
       "      <td>4</td>\n",
       "      <td>71</td>\n",
       "      <td>11</td>\n",
       "      <td>Male</td>\n",
       "      <td>No</td>\n",
       "      <td>No</td>\n",
       "      <td>Asian</td>\n",
       "      <td>580</td>\n",
       "      <td>1</td>\n",
       "      <td>0</td>\n",
       "      <td>1</td>\n",
       "      <td>0</td>\n",
       "      <td>1</td>\n",
       "    </tr>\n",
       "    <tr>\n",
       "      <th>3</th>\n",
       "      <td>148.924</td>\n",
       "      <td>9504</td>\n",
       "      <td>681</td>\n",
       "      <td>3</td>\n",
       "      <td>36</td>\n",
       "      <td>11</td>\n",
       "      <td>Female</td>\n",
       "      <td>No</td>\n",
       "      <td>No</td>\n",
       "      <td>Asian</td>\n",
       "      <td>964</td>\n",
       "      <td>0</td>\n",
       "      <td>0</td>\n",
       "      <td>1</td>\n",
       "      <td>0</td>\n",
       "      <td>1</td>\n",
       "    </tr>\n",
       "    <tr>\n",
       "      <th>4</th>\n",
       "      <td>55.882</td>\n",
       "      <td>4897</td>\n",
       "      <td>357</td>\n",
       "      <td>2</td>\n",
       "      <td>68</td>\n",
       "      <td>16</td>\n",
       "      <td>Male</td>\n",
       "      <td>No</td>\n",
       "      <td>Yes</td>\n",
       "      <td>Caucasian</td>\n",
       "      <td>331</td>\n",
       "      <td>1</td>\n",
       "      <td>0</td>\n",
       "      <td>0</td>\n",
       "      <td>0</td>\n",
       "      <td>0</td>\n",
       "    </tr>\n",
       "  </tbody>\n",
       "</table>\n",
       "</div>"
      ],
      "text/plain": [
       "    Income  Limit  Rating  Cards  Age  Education  Gender Student Married  \\\n",
       "0   14.891   3606     283      2   34         11    Male      No     Yes   \n",
       "1  106.025   6645     483      3   82         15  Female     Yes     Yes   \n",
       "2  104.593   7075     514      4   71         11    Male      No      No   \n",
       "3  148.924   9504     681      3   36         11  Female      No      No   \n",
       "4   55.882   4897     357      2   68         16    Male      No     Yes   \n",
       "\n",
       "   Ethnicity  Balance  Is_Male  Is_Student  Not_Married  Is_African_American  \\\n",
       "0  Caucasian      333        1           0            0                    0   \n",
       "1      Asian      903        0           1            0                    0   \n",
       "2      Asian      580        1           0            1                    0   \n",
       "3      Asian      964        0           0            1                    0   \n",
       "4  Caucasian      331        1           0            0                    0   \n",
       "\n",
       "   Is_Asian  \n",
       "0         0  \n",
       "1         1  \n",
       "2         1  \n",
       "3         1  \n",
       "4         0  "
      ]
     },
     "execution_count": 12,
     "metadata": {},
     "output_type": "execute_result"
    }
   ],
   "source": [
    "#verificamos\n",
    "df.head()"
   ]
  },
  {
   "cell_type": "markdown",
   "metadata": {},
   "source": [
    "----\n",
    "### Desafío 2: Genere gráficos descriptivos para las variables contínuas"
   ]
  },
  {
   "cell_type": "markdown",
   "metadata": {},
   "source": [
    "* Genere una función llamada plot_hist que genere un histograma de la variable e indique la\n",
    "media y mediana de la misma. Agrege una legenda para indicar qué representa cada línea."
   ]
  },
  {
   "cell_type": "code",
   "execution_count": 13,
   "metadata": {
    "ExecuteTime": {
     "end_time": "2021-03-04T00:23:41.842677Z",
     "start_time": "2021-03-04T00:23:41.825677Z"
    }
   },
   "outputs": [],
   "source": [
    "#generamos la función\n",
    "def plot_hist(dataframe, variable):\n",
    "    df_temp = dataframe\n",
    "    sns.distplot(df_temp[variable])\n",
    "    mean=df_temp[variable].mean()\n",
    "    median=df_temp[variable].median()\n",
    "    plt.axvline(mean, color='tomato')\n",
    "    plt.axvline(median, color='green')\n",
    "    plt.legend({'Media':mean,'Mediana':median})\n",
    "    "
   ]
  },
  {
   "cell_type": "markdown",
   "metadata": {},
   "source": [
    "* ¿Cuál es el comportamiento de Balance , Income , Cards y Rating ?"
   ]
  },
  {
   "cell_type": "code",
   "execution_count": 14,
   "metadata": {
    "ExecuteTime": {
     "end_time": "2021-03-04T00:23:42.184680Z",
     "start_time": "2021-03-04T00:23:41.847675Z"
    }
   },
   "outputs": [
    {
     "data": {
      "image/png": "[encoded data removed]",
      "text/plain": [
       "<Figure size 432x288 with 1 Axes>"
      ]
     },
     "metadata": {
      "needs_background": "light"
     },
     "output_type": "display_data"
    }
   ],
   "source": [
    "plot_hist(df, 'Balance')"
   ]
  },
  {
   "cell_type": "markdown",
   "metadata": {},
   "source": [
    "#### <span style=\"color:blue\"> Se observa una distribución bimodal con sesgo positivo (hacia la derecha)"
   ]
  },
  {
   "cell_type": "markdown",
   "metadata": {},
   "source": [
    "#### <span style=\"color:blue\"></span>"
   ]
  },
  {
   "cell_type": "code",
   "execution_count": 15,
   "metadata": {
    "ExecuteTime": {
     "end_time": "2021-03-04T00:23:42.524675Z",
     "start_time": "2021-03-04T00:23:42.191679Z"
    }
   },
   "outputs": [
    {
     "data": {
      "image/png": "[encoded data removed]",
      "text/plain": [
       "<Figure size 432x288 with 1 Axes>"
      ]
     },
     "metadata": {
      "needs_background": "light"
     },
     "output_type": "display_data"
    }
   ],
   "source": [
    "plot_hist(df, 'Income')"
   ]
  },
  {
   "cell_type": "markdown",
   "metadata": {},
   "source": [
    "#### <span style=\"color:blue\"> Se observa una distribución con sesgo positivo"
   ]
  },
  {
   "cell_type": "code",
   "execution_count": 16,
   "metadata": {
    "ExecuteTime": {
     "end_time": "2021-03-04T00:23:42.806680Z",
     "start_time": "2021-03-04T00:23:42.530675Z"
    }
   },
   "outputs": [
    {
     "data": {
      "image/png": "[encoded data removed]",
      "text/plain": [
       "<Figure size 432x288 with 1 Axes>"
      ]
     },
     "metadata": {
      "needs_background": "light"
     },
     "output_type": "display_data"
    }
   ],
   "source": [
    "plot_hist(df, 'Cards')"
   ]
  },
  {
   "cell_type": "markdown",
   "metadata": {},
   "source": [
    "#### <span style=\"color:blue\"> Se observa una distribución bimodal con tenue sesgo positivo"
   ]
  },
  {
   "cell_type": "code",
   "execution_count": 17,
   "metadata": {
    "ExecuteTime": {
     "end_time": "2021-03-04T00:23:43.162679Z",
     "start_time": "2021-03-04T00:23:42.811679Z"
    }
   },
   "outputs": [
    {
     "data": {
      "image/png": "[encoded data removed]",
      "text/plain": [
       "<Figure size 432x288 with 1 Axes>"
      ]
     },
     "metadata": {
      "needs_background": "light"
     },
     "output_type": "display_data"
    }
   ],
   "source": [
    "plot_hist(df, 'Rating')"
   ]
  },
  {
   "cell_type": "markdown",
   "metadata": {},
   "source": [
    "#### <span style=\"color:blue\"> Se observa una distribución con un ligero sesgo positivo"
   ]
  },
  {
   "cell_type": "markdown",
   "metadata": {},
   "source": [
    "----\n",
    "### Desafío 3: Regresión Lineal Simple"
   ]
  },
  {
   "cell_type": "markdown",
   "metadata": {},
   "source": [
    "#### A continuación generaremos una serie de modelos simples:\n",
    "* $Balance = \\beta_{0} + \\beta{1} \\times Student + \\epsilon$\n",
    "* $Balance = \\beta_{0} + \\beta{1} \\times Income + \\epsilon$\n",
    "* $Balance = \\beta_{0} + \\beta{1} \\times Rating + \\epsilon$\n",
    "#### Utilizando statsmodels , comente brevemente los siguientes puntos:"
   ]
  },
  {
   "cell_type": "code",
   "execution_count": 18,
   "metadata": {
    "ExecuteTime": {
     "end_time": "2021-03-04T00:23:43.333682Z",
     "start_time": "2021-03-04T00:23:43.165680Z"
    }
   },
   "outputs": [
    {
     "name": "stdout",
     "output_type": "stream",
     "text": [
      "\n",
      "\n",
      "\n",
      "Summary2 Modelo \u001b[1mBalance ~ Student\u001b[0m:\n",
      "\n",
      "                  Results: Ordinary least squares\n",
      "===================================================================\n",
      "Model:              OLS              Adj. R-squared:     0.065     \n",
      "Dependent Variable: Balance          AIC:                6014.9327 \n",
      "Date:               2021-03-03 21:23 BIC:                6022.9156 \n",
      "No. Observations:   400              Log-Likelihood:     -3005.5   \n",
      "Df Model:           1                F-statistic:        28.62     \n",
      "Df Residuals:       398              Prob (F-statistic): 1.49e-07  \n",
      "R-squared:          0.067            Scale:              1.9769e+05\n",
      "-------------------------------------------------------------------\n",
      "                  Coef.   Std.Err.    t    P>|t|   [0.025   0.975] \n",
      "-------------------------------------------------------------------\n",
      "Intercept        480.3694  23.4338 20.4990 0.0000 434.2998 526.4390\n",
      "Student[T.Yes]   396.4556  74.1043  5.3500 0.0000 250.7707 542.1404\n",
      "-------------------------------------------------------------------\n",
      "Omnibus:              20.866        Durbin-Watson:           1.950 \n",
      "Prob(Omnibus):        0.000         Jarque-Bera (JB):        21.920\n",
      "Skew:                 0.544         Prob(JB):                0.000 \n",
      "Kurtosis:             2.637         Condition No.:           3     \n",
      "===================================================================\n",
      "\n",
      "\n",
      "\n",
      "\n",
      "Summary2 Modelo \u001b[1mBalance ~ Income\u001b[0m:\n",
      "\n",
      "                  Results: Ordinary least squares\n",
      "===================================================================\n",
      "Model:              OLS              Adj. R-squared:     0.213     \n",
      "Dependent Variable: Balance          AIC:                5945.8942 \n",
      "Date:               2021-03-03 21:23 BIC:                5953.8772 \n",
      "No. Observations:   400              Log-Likelihood:     -2970.9   \n",
      "Df Model:           1                F-statistic:        109.0     \n",
      "Df Residuals:       398              Prob (F-statistic): 1.03e-22  \n",
      "R-squared:          0.215            Scale:              1.6635e+05\n",
      "--------------------------------------------------------------------\n",
      "              Coef.    Std.Err.     t     P>|t|    [0.025    0.975] \n",
      "--------------------------------------------------------------------\n",
      "Intercept    246.5148   33.1993   7.4253  0.0000  181.2467  311.7828\n",
      "Income         6.0484    0.5794  10.4399  0.0000    4.9094    7.1873\n",
      "-------------------------------------------------------------------\n",
      "Omnibus:              42.505        Durbin-Watson:           1.951 \n",
      "Prob(Omnibus):        0.000         Jarque-Bera (JB):        20.975\n",
      "Skew:                 0.384         Prob(JB):                0.000 \n",
      "Kurtosis:             2.182         Condition No.:           93    \n",
      "===================================================================\n",
      "\n",
      "\n",
      "\n",
      "\n",
      "Summary2 Modelo \u001b[1mBalance ~ Rating\u001b[0m:\n",
      "\n",
      "                 Results: Ordinary least squares\n",
      "==================================================================\n",
      "Model:              OLS              Adj. R-squared:     0.745    \n",
      "Dependent Variable: Balance          AIC:                5494.7815\n",
      "Date:               2021-03-03 21:23 BIC:                5502.7645\n",
      "No. Observations:   400              Log-Likelihood:     -2745.4  \n",
      "Df Model:           1                F-statistic:        1168.    \n",
      "Df Residuals:       398              Prob (F-statistic): 1.90e-120\n",
      "R-squared:          0.746            Scale:              53857.   \n",
      "------------------------------------------------------------------\n",
      "              Coef.   Std.Err.    t     P>|t|    [0.025    0.975] \n",
      "------------------------------------------------------------------\n",
      "Intercept   -390.8463  29.0685 -13.4457 0.0000 -447.9934 -333.6993\n",
      "Rating         2.5662   0.0751  34.1759 0.0000    2.4186    2.7139\n",
      "------------------------------------------------------------------\n",
      "Omnibus:               23.223       Durbin-Watson:          1.966 \n",
      "Prob(Omnibus):         0.000        Jarque-Bera (JB):       38.802\n",
      "Skew:                  0.390        Prob(JB):               0.000 \n",
      "Kurtosis:              4.311        Condition No.:          970   \n",
      "==================================================================\n",
      "\n"
     ]
    }
   ],
   "source": [
    "#Creamos los modelos respectivos\n",
    "variables = ['Student', 'Income', 'Rating']\n",
    "modelos = {}\n",
    "for v in variables:\n",
    "    modelos[v] = smf.ols('Balance ~ '+v,df).fit()\n",
    "    print(\"\\n\\n\")\n",
    "    print(f\"Summary2 Modelo \\033[1mBalance ~ {v}\\033[0m:\\n\")\n",
    "    print(modelos[v].summary2())    "
   ]
  },
  {
   "cell_type": "markdown",
   "metadata": {},
   "source": [
    "#### ¿Qué variable presenta un mayor poder explicativo de la variabilidad de Balance ?"
   ]
  },
  {
   "cell_type": "markdown",
   "metadata": {},
   "source": [
    "#### <span style=\"color:blue\"> La variable que mejor explica la variabilidad de 'Balance' es 'Rating', pues el $R²$ del modelo 'Balance ~ Rating' es de 0.746, notoriamente superior al de los otros 2 modelos.\n",
    "    \n",
    "#### <span style=\"color:blue\">No obstante lo expuesto, llama la atención que el coeficiente de 'Student' sea significativamente alto (396.4556), especialmente considerando que hay muy pocos estudiantes (10% del total)"
   ]
  },
  {
   "cell_type": "markdown",
   "metadata": {},
   "source": [
    "#### ¿Qué podemos decir sobre el comportamiento de Student ?\n",
    "* ¿Qué pasa si aplicamos una prueba de hipótesis para muestras independientes de Balance entre aquellos que son y no son estudiantes?"
   ]
  },
  {
   "cell_type": "code",
   "execution_count": 19,
   "metadata": {
    "ExecuteTime": {
     "end_time": "2021-03-04T00:23:43.348678Z",
     "start_time": "2021-03-04T00:23:43.335675Z"
    }
   },
   "outputs": [],
   "source": [
    "#creamos nuestra función para la prueba de hipótesis\n",
    "def prueba_de_hipotesis(dataframe, variable, binarize):\n",
    "    df_grupo1 = dataframe[dataframe[binarize]==1]\n",
    "    df_grupo0 = dataframe[dataframe[binarize]==0]\n",
    "    tests = stats.ttest_ind(df_grupo1[variable].dropna(),df_grupo0[variable].dropna())\n",
    "    valor_t = round(tests[0], 6)\n",
    "    valor_p = round(tests[1], 6)\n",
    "    media1 = round(df_grupo1[variable].mean(), 2)\n",
    "    media0 = round(df_grupo0[variable].mean(), 2)\n",
    "    diferencia_absoluta_medias = round(abs(media0 - media1), 6)\n",
    "    print(f\"\\n\\033[1mVariable '{variable}'\\033[0m, con \\033[1mindicador de binarización '{binarize}'\\033[0m:\")\n",
    "    print(f\"\\tMedia grupo 0: {media0}, Media grupo 1: {media1}\")\n",
    "    print(f\"\\tValor absoluto de la diferencia entre las medias: {diferencia_absoluta_medias}\")\n",
    "    print(f\"\\tValor t: {valor_t}, Valor p: {valor_p}\")"
   ]
  },
  {
   "cell_type": "code",
   "execution_count": 20,
   "metadata": {
    "ExecuteTime": {
     "end_time": "2021-03-04T00:23:43.363673Z",
     "start_time": "2021-03-04T00:23:43.350677Z"
    }
   },
   "outputs": [
    {
     "name": "stdout",
     "output_type": "stream",
     "text": [
      "\n",
      "\u001b[1mVariable 'Balance'\u001b[0m, con \u001b[1mindicador de binarización 'Is_Student'\u001b[0m:\n",
      "\tMedia grupo 0: 480.37, Media grupo 1: 876.83\n",
      "\tValor absoluto de la diferencia entre las medias: 396.46\n",
      "\tValor t: 5.349964, Valor p: 0.0\n"
     ]
    }
   ],
   "source": [
    "prueba_de_hipotesis(df, 'Balance', 'Is_Student')"
   ]
  },
  {
   "cell_type": "markdown",
   "metadata": {},
   "source": [
    "#### <span style=\"color:blue\"> "
   ]
  },
  {
   "cell_type": "markdown",
   "metadata": {},
   "source": [
    "#### <span style=\"color:blue\"> Al realizar la prueba de hipótesis comprobamos que existe evidencia estadística para rechazar la hipótesis nula de que los montos de 'balance' de los no estudiantes y de los estudiantes son similares, y en base a este rechazo podemos aceptar la hipótesis alternativa de que los valores de 'balance' (promedio de las deudas en tarjetas de crédito) de los estudiantes y no estudiantes son significativamente diferentes."
   ]
  },
  {
   "cell_type": "markdown",
   "metadata": {},
   "source": [
    "----\n",
    "### Desafío 4: Genere un modelo que incluya todos los regresores\n",
    "$Balance_{i} = \\beta_{0} + \\sum_j^N\\beta_{j}\\times X_{ij} + \\epsilon_{i}$"
   ]
  },
  {
   "cell_type": "code",
   "execution_count": 21,
   "metadata": {
    "ExecuteTime": {
     "end_time": "2021-03-04T00:23:43.379673Z",
     "start_time": "2021-03-04T00:23:43.366674Z"
    }
   },
   "outputs": [
    {
     "name": "stdout",
     "output_type": "stream",
     "text": [
      "<class 'pandas.core.frame.DataFrame'>\n",
      "RangeIndex: 400 entries, 0 to 399\n",
      "Data columns (total 16 columns):\n",
      " #   Column               Non-Null Count  Dtype  \n",
      "---  ------               --------------  -----  \n",
      " 0   Income               400 non-null    float64\n",
      " 1   Limit                400 non-null    int64  \n",
      " 2   Rating               400 non-null    int64  \n",
      " 3   Cards                400 non-null    int64  \n",
      " 4   Age                  400 non-null    int64  \n",
      " 5   Education            400 non-null    int64  \n",
      " 6   Gender               400 non-null    object \n",
      " 7   Student              400 non-null    object \n",
      " 8   Married              400 non-null    object \n",
      " 9   Ethnicity            400 non-null    object \n",
      " 10  Balance              400 non-null    int64  \n",
      " 11  Is_Male              400 non-null    int32  \n",
      " 12  Is_Student           400 non-null    int32  \n",
      " 13  Not_Married          400 non-null    int32  \n",
      " 14  Is_African_American  400 non-null    int32  \n",
      " 15  Is_Asian             400 non-null    int32  \n",
      "dtypes: float64(1), int32(5), int64(6), object(4)\n",
      "memory usage: 42.3+ KB\n"
     ]
    }
   ],
   "source": [
    "df.info()"
   ]
  },
  {
   "cell_type": "code",
   "execution_count": 22,
   "metadata": {
    "ExecuteTime": {
     "end_time": "2021-03-04T00:23:43.395674Z",
     "start_time": "2021-03-04T00:23:43.380674Z"
    }
   },
   "outputs": [
    {
     "data": {
      "text/plain": [
       "'Income+Limit+Rating+Cards+Age+Education+Is_Male+Is_Student+Not_Married+Is_African_American+Is_Asian'"
      ]
     },
     "execution_count": 22,
     "metadata": {},
     "output_type": "execute_result"
    }
   ],
   "source": [
    "#definimos la variables no categóricas\n",
    "variables_no_categoricas = []\n",
    "for n, i in enumerate(df):\n",
    "    if (i !='Balance' and df[i].dtypes !=\"object\"):\n",
    "        variables_no_categoricas.append(i)\n",
    "variables_independientes = \"+\".join(variables_no_categoricas)\n",
    "variables_independientes"
   ]
  },
  {
   "cell_type": "code",
   "execution_count": 23,
   "metadata": {
    "ExecuteTime": {
     "end_time": "2021-03-04T00:23:43.490682Z",
     "start_time": "2021-03-04T00:23:43.402682Z"
    }
   },
   "outputs": [
    {
     "data": {
      "text/html": [
       "<table class=\"simpletable\">\n",
       "<tr>\n",
       "        <td>Model:</td>               <td>OLS</td>         <td>Adj. R-squared:</td>     <td>0.954</td>  \n",
       "</tr>\n",
       "<tr>\n",
       "  <td>Dependent Variable:</td>      <td>Balance</td>            <td>AIC:</td>         <td>4821.3704</td>\n",
       "</tr>\n",
       "<tr>\n",
       "         <td>Date:</td>        <td>2021-03-03 21:23</td>        <td>BIC:</td>         <td>4869.2680</td>\n",
       "</tr>\n",
       "<tr>\n",
       "   <td>No. Observations:</td>         <td>400</td>         <td>Log-Likelihood:</td>    <td>-2398.7</td> \n",
       "</tr>\n",
       "<tr>\n",
       "       <td>Df Model:</td>             <td>11</td>           <td>F-statistic:</td>       <td>750.3</td>  \n",
       "</tr>\n",
       "<tr>\n",
       "     <td>Df Residuals:</td>           <td>388</td>       <td>Prob (F-statistic):</td> <td>1.11e-253</td>\n",
       "</tr>\n",
       "<tr>\n",
       "      <td>R-squared:</td>            <td>0.955</td>            <td>Scale:</td>         <td>9759.6</td>  \n",
       "</tr>\n",
       "</table>\n",
       "<table class=\"simpletable\">\n",
       "<tr>\n",
       "           <td></td>             <th>Coef.</th>   <th>Std.Err.</th>     <th>t</th>     <th>P>|t|</th>  <th>[0.025</th>    <th>0.975]</th>  \n",
       "</tr>\n",
       "<tr>\n",
       "  <th>Intercept</th>           <td>-488.2880</td>  <td>34.8161</td> <td>-14.0248</td> <td>0.0000</td> <td>-556.7397</td> <td>-419.8362</td>\n",
       "</tr>\n",
       "<tr>\n",
       "  <th>Income</th>               <td>-7.8031</td>   <td>0.2342</td>  <td>-33.3136</td> <td>0.0000</td>  <td>-8.2636</td>   <td>-7.3426</td> \n",
       "</tr>\n",
       "<tr>\n",
       "  <th>Limit</th>                <td>0.1909</td>    <td>0.0328</td>   <td>5.8241</td>  <td>0.0000</td>  <td>0.1265</td>    <td>0.2554</td>  \n",
       "</tr>\n",
       "<tr>\n",
       "  <th>Rating</th>               <td>1.1365</td>    <td>0.4909</td>   <td>2.3152</td>  <td>0.0211</td>  <td>0.1714</td>    <td>2.1017</td>  \n",
       "</tr>\n",
       "<tr>\n",
       "  <th>Cards</th>                <td>17.7245</td>   <td>4.3410</td>   <td>4.0830</td>  <td>0.0001</td>  <td>9.1896</td>    <td>26.2594</td> \n",
       "</tr>\n",
       "<tr>\n",
       "  <th>Age</th>                  <td>-0.6139</td>   <td>0.2940</td>   <td>-2.0882</td> <td>0.0374</td>  <td>-1.1919</td>   <td>-0.0359</td> \n",
       "</tr>\n",
       "<tr>\n",
       "  <th>Education</th>            <td>-1.0989</td>   <td>1.5980</td>   <td>-0.6877</td> <td>0.4921</td>  <td>-4.2406</td>   <td>2.0429</td>  \n",
       "</tr>\n",
       "<tr>\n",
       "  <th>Is_Male</th>              <td>10.6532</td>   <td>9.9140</td>   <td>1.0746</td>  <td>0.2832</td>  <td>-8.8386</td>   <td>30.1451</td> \n",
       "</tr>\n",
       "<tr>\n",
       "  <th>Is_Student</th>          <td>425.7474</td>   <td>16.7226</td>  <td>25.4594</td> <td>0.0000</td> <td>392.8691</td>  <td>458.6256</td> \n",
       "</tr>\n",
       "<tr>\n",
       "  <th>Not_Married</th>          <td>8.5339</td>    <td>10.3629</td>  <td>0.8235</td>  <td>0.4107</td> <td>-11.8405</td>   <td>28.9083</td> \n",
       "</tr>\n",
       "<tr>\n",
       "  <th>Is_African_American</th> <td>-10.1070</td>   <td>12.2099</td>  <td>-0.8278</td> <td>0.4083</td> <td>-34.1129</td>   <td>13.8989</td> \n",
       "</tr>\n",
       "<tr>\n",
       "  <th>Is_Asian</th>             <td>6.6972</td>    <td>12.1224</td>  <td>0.5525</td>  <td>0.5810</td> <td>-17.1367</td>   <td>30.5310</td> \n",
       "</tr>\n",
       "</table>\n",
       "<table class=\"simpletable\">\n",
       "<tr>\n",
       "     <td>Omnibus:</td>    <td>34.899</td>  <td>Durbin-Watson:</td>    <td>1.968</td>\n",
       "</tr>\n",
       "<tr>\n",
       "  <td>Prob(Omnibus):</td>  <td>0.000</td> <td>Jarque-Bera (JB):</td> <td>41.766</td>\n",
       "</tr>\n",
       "<tr>\n",
       "       <td>Skew:</td>      <td>0.782</td>     <td>Prob(JB):</td>      <td>0.000</td>\n",
       "</tr>\n",
       "<tr>\n",
       "     <td>Kurtosis:</td>    <td>3.241</td>  <td>Condition No.:</td>    <td>37395</td>\n",
       "</tr>\n",
       "</table>"
      ],
      "text/plain": [
       "<class 'statsmodels.iolib.summary2.Summary'>\n",
       "\"\"\"\n",
       "                     Results: Ordinary least squares\n",
       "==========================================================================\n",
       "Model:                  OLS                Adj. R-squared:       0.954    \n",
       "Dependent Variable:     Balance            AIC:                  4821.3704\n",
       "Date:                   2021-03-03 21:23   BIC:                  4869.2680\n",
       "No. Observations:       400                Log-Likelihood:       -2398.7  \n",
       "Df Model:               11                 F-statistic:          750.3    \n",
       "Df Residuals:           388                Prob (F-statistic):   1.11e-253\n",
       "R-squared:              0.955              Scale:                9759.6   \n",
       "--------------------------------------------------------------------------\n",
       "                      Coef.   Std.Err.    t     P>|t|    [0.025    0.975] \n",
       "--------------------------------------------------------------------------\n",
       "Intercept           -488.2880  34.8161 -14.0248 0.0000 -556.7397 -419.8362\n",
       "Income                -7.8031   0.2342 -33.3136 0.0000   -8.2636   -7.3426\n",
       "Limit                  0.1909   0.0328   5.8241 0.0000    0.1265    0.2554\n",
       "Rating                 1.1365   0.4909   2.3152 0.0211    0.1714    2.1017\n",
       "Cards                 17.7245   4.3410   4.0830 0.0001    9.1896   26.2594\n",
       "Age                   -0.6139   0.2940  -2.0882 0.0374   -1.1919   -0.0359\n",
       "Education             -1.0989   1.5980  -0.6877 0.4921   -4.2406    2.0429\n",
       "Is_Male               10.6532   9.9140   1.0746 0.2832   -8.8386   30.1451\n",
       "Is_Student           425.7474  16.7226  25.4594 0.0000  392.8691  458.6256\n",
       "Not_Married            8.5339  10.3629   0.8235 0.4107  -11.8405   28.9083\n",
       "Is_African_American  -10.1070  12.2099  -0.8278 0.4083  -34.1129   13.8989\n",
       "Is_Asian               6.6972  12.1224   0.5525 0.5810  -17.1367   30.5310\n",
       "--------------------------------------------------------------------------\n",
       "Omnibus:                 34.899          Durbin-Watson:             1.968 \n",
       "Prob(Omnibus):           0.000           Jarque-Bera (JB):          41.766\n",
       "Skew:                    0.782           Prob(JB):                  0.000 \n",
       "Kurtosis:                3.241           Condition No.:             37395 \n",
       "==========================================================================\n",
       "* The condition number is large (4e+04). This might indicate\n",
       "strong multicollinearity or other numerical problems.\n",
       "\"\"\""
      ]
     },
     "execution_count": 23,
     "metadata": {},
     "output_type": "execute_result"
    }
   ],
   "source": [
    "#creamos el modelo saturado\n",
    "modelo_saturado = smf.ols('Balance ~ '+variables_independientes, data=df)\n",
    "modelo_saturado = modelo_saturado.fit()\n",
    "modelo_saturado.summary2()"
   ]
  },
  {
   "cell_type": "markdown",
   "metadata": {},
   "source": [
    "#### Comente brevemente sobre el poder explicativo en la varianza de y las principales características de los predictores"
   ]
  },
  {
   "cell_type": "markdown",
   "metadata": {},
   "source": [
    "#### <span style=\"color:blue\"> Se observa que el modelo saturado explica en un 0.955 la varianza de la variable 'Balance', sin embargo se aprecia que en las variables 'Age', 'Education', 'Is_Male', 'Not_Married', 'Is_African_American' y 'Is_Asian' no aportan significativamente a la predicción del valor de la variable dependiente."
   ]
  },
  {
   "cell_type": "markdown",
   "metadata": {},
   "source": [
    "### Desafío 5: Depure el modelo e incluya sólo los predictores significativo"
   ]
  },
  {
   "cell_type": "markdown",
   "metadata": {},
   "source": [
    "#### En base al modelo anterior, refactorize e incluya sólo las variables con un nivel de significancia $p - value \\leq 0.025$"
   ]
  },
  {
   "cell_type": "code",
   "execution_count": 24,
   "metadata": {
    "ExecuteTime": {
     "end_time": "2021-03-04T00:23:43.506676Z",
     "start_time": "2021-03-04T00:23:43.492676Z"
    }
   },
   "outputs": [
    {
     "data": {
      "text/plain": [
       "['Income',\n",
       " 'Limit',\n",
       " 'Rating',\n",
       " 'Cards',\n",
       " 'Age',\n",
       " 'Education',\n",
       " 'Is_Male',\n",
       " 'Is_Student',\n",
       " 'Not_Married',\n",
       " 'Is_African_American',\n",
       " 'Is_Asian']"
      ]
     },
     "execution_count": 24,
     "metadata": {},
     "output_type": "execute_result"
    }
   ],
   "source": [
    "variables_no_categoricas"
   ]
  },
  {
   "cell_type": "code",
   "execution_count": 25,
   "metadata": {
    "ExecuteTime": {
     "end_time": "2021-03-04T00:23:43.522681Z",
     "start_time": "2021-03-04T00:23:43.510674Z"
    }
   },
   "outputs": [],
   "source": [
    "#eliminamos las variables con una significancia >= 0.025\n",
    "variables_no_categoricas.remove('Age')\n",
    "variables_no_categoricas.remove('Education')\n",
    "variables_no_categoricas.remove('Is_Male')\n",
    "variables_no_categoricas.remove('Not_Married')\n",
    "variables_no_categoricas.remove('Is_African_American')\n",
    "variables_no_categoricas.remove('Is_Asian')"
   ]
  },
  {
   "cell_type": "code",
   "execution_count": 26,
   "metadata": {
    "ExecuteTime": {
     "end_time": "2021-03-04T00:23:43.538675Z",
     "start_time": "2021-03-04T00:23:43.525685Z"
    },
    "scrolled": true
   },
   "outputs": [
    {
     "data": {
      "text/plain": [
       "['Income', 'Limit', 'Rating', 'Cards', 'Is_Student']"
      ]
     },
     "execution_count": 26,
     "metadata": {},
     "output_type": "execute_result"
    }
   ],
   "source": [
    "#verificamos\n",
    "variables_no_categoricas"
   ]
  },
  {
   "cell_type": "code",
   "execution_count": 27,
   "metadata": {
    "ExecuteTime": {
     "end_time": "2021-03-04T00:23:43.554674Z",
     "start_time": "2021-03-04T00:23:43.540675Z"
    }
   },
   "outputs": [
    {
     "data": {
      "text/plain": [
       "'Income+Limit+Rating+Cards+Is_Student'"
      ]
     },
     "execution_count": 27,
     "metadata": {},
     "output_type": "execute_result"
    }
   ],
   "source": [
    "variables_independientes = \"+\".join(variables_no_categoricas)\n",
    "variables_independientes"
   ]
  },
  {
   "cell_type": "code",
   "execution_count": 28,
   "metadata": {
    "ExecuteTime": {
     "end_time": "2021-03-04T00:23:43.650676Z",
     "start_time": "2021-03-04T00:23:43.557680Z"
    }
   },
   "outputs": [
    {
     "data": {
      "text/html": [
       "<table class=\"simpletable\">\n",
       "<tr>\n",
       "        <td>Model:</td>               <td>OLS</td>         <td>Adj. R-squared:</td>     <td>0.954</td>  \n",
       "</tr>\n",
       "<tr>\n",
       "  <td>Dependent Variable:</td>      <td>Balance</td>            <td>AIC:</td>         <td>4817.6668</td>\n",
       "</tr>\n",
       "<tr>\n",
       "         <td>Date:</td>        <td>2021-03-03 21:23</td>        <td>BIC:</td>         <td>4841.6156</td>\n",
       "</tr>\n",
       "<tr>\n",
       "   <td>No. Observations:</td>         <td>400</td>         <td>Log-Likelihood:</td>    <td>-2402.8</td> \n",
       "</tr>\n",
       "<tr>\n",
       "       <td>Df Model:</td>              <td>5</td>           <td>F-statistic:</td>       <td>1640.</td>  \n",
       "</tr>\n",
       "<tr>\n",
       "     <td>Df Residuals:</td>           <td>394</td>       <td>Prob (F-statistic):</td> <td>3.60e-261</td>\n",
       "</tr>\n",
       "<tr>\n",
       "      <td>R-squared:</td>            <td>0.954</td>            <td>Scale:</td>         <td>9812.4</td>  \n",
       "</tr>\n",
       "</table>\n",
       "<table class=\"simpletable\">\n",
       "<tr>\n",
       "       <td></td>        <th>Coef.</th>   <th>Std.Err.</th>     <th>t</th>     <th>P>|t|</th>  <th>[0.025</th>    <th>0.975]</th>  \n",
       "</tr>\n",
       "<tr>\n",
       "  <th>Intercept</th>  <td>-526.1555</td>  <td>19.7466</td> <td>-26.6454</td> <td>0.0000</td> <td>-564.9774</td> <td>-487.3336</td>\n",
       "</tr>\n",
       "<tr>\n",
       "  <th>Income</th>      <td>-7.8749</td>   <td>0.2315</td>  <td>-34.0236</td> <td>0.0000</td>  <td>-8.3300</td>   <td>-7.4199</td> \n",
       "</tr>\n",
       "<tr>\n",
       "  <th>Limit</th>       <td>0.1944</td>    <td>0.0325</td>   <td>5.9768</td>  <td>0.0000</td>  <td>0.1305</td>    <td>0.2584</td>  \n",
       "</tr>\n",
       "<tr>\n",
       "  <th>Rating</th>      <td>1.0879</td>    <td>0.4870</td>   <td>2.2339</td>  <td>0.0260</td>  <td>0.1305</td>    <td>2.0453</td>  \n",
       "</tr>\n",
       "<tr>\n",
       "  <th>Cards</th>       <td>17.8517</td>   <td>4.3349</td>   <td>4.1182</td>  <td>0.0000</td>  <td>9.3293</td>    <td>26.3741</td> \n",
       "</tr>\n",
       "<tr>\n",
       "  <th>Is_Student</th> <td>426.8501</td>   <td>16.5740</td>  <td>25.7542</td> <td>0.0000</td> <td>394.2656</td>  <td>459.4347</td> \n",
       "</tr>\n",
       "</table>\n",
       "<table class=\"simpletable\">\n",
       "<tr>\n",
       "     <td>Omnibus:</td>    <td>30.263</td>  <td>Durbin-Watson:</td>    <td>1.949</td>\n",
       "</tr>\n",
       "<tr>\n",
       "  <td>Prob(Omnibus):</td>  <td>0.000</td> <td>Jarque-Bera (JB):</td> <td>35.257</td>\n",
       "</tr>\n",
       "<tr>\n",
       "       <td>Skew:</td>      <td>0.722</td>     <td>Prob(JB):</td>      <td>0.000</td>\n",
       "</tr>\n",
       "<tr>\n",
       "     <td>Kurtosis:</td>    <td>3.179</td>  <td>Condition No.:</td>    <td>21155</td>\n",
       "</tr>\n",
       "</table>"
      ],
      "text/plain": [
       "<class 'statsmodels.iolib.summary2.Summary'>\n",
       "\"\"\"\n",
       "                 Results: Ordinary least squares\n",
       "==================================================================\n",
       "Model:              OLS              Adj. R-squared:     0.954    \n",
       "Dependent Variable: Balance          AIC:                4817.6668\n",
       "Date:               2021-03-03 21:23 BIC:                4841.6156\n",
       "No. Observations:   400              Log-Likelihood:     -2402.8  \n",
       "Df Model:           5                F-statistic:        1640.    \n",
       "Df Residuals:       394              Prob (F-statistic): 3.60e-261\n",
       "R-squared:          0.954            Scale:              9812.4   \n",
       "------------------------------------------------------------------\n",
       "              Coef.   Std.Err.    t     P>|t|    [0.025    0.975] \n",
       "------------------------------------------------------------------\n",
       "Intercept   -526.1555  19.7466 -26.6454 0.0000 -564.9774 -487.3336\n",
       "Income        -7.8749   0.2315 -34.0236 0.0000   -8.3300   -7.4199\n",
       "Limit          0.1944   0.0325   5.9768 0.0000    0.1305    0.2584\n",
       "Rating         1.0879   0.4870   2.2339 0.0260    0.1305    2.0453\n",
       "Cards         17.8517   4.3349   4.1182 0.0000    9.3293   26.3741\n",
       "Is_Student   426.8501  16.5740  25.7542 0.0000  394.2656  459.4347\n",
       "------------------------------------------------------------------\n",
       "Omnibus:               30.263       Durbin-Watson:          1.949 \n",
       "Prob(Omnibus):         0.000        Jarque-Bera (JB):       35.257\n",
       "Skew:                  0.722        Prob(JB):               0.000 \n",
       "Kurtosis:              3.179        Condition No.:          21155 \n",
       "==================================================================\n",
       "* The condition number is large (2e+04). This might indicate\n",
       "strong multicollinearity or other numerical problems.\n",
       "\"\"\""
      ]
     },
     "execution_count": 28,
     "metadata": {},
     "output_type": "execute_result"
    }
   ],
   "source": [
    "modelo_depurado = smf.ols('Balance ~ '+variables_independientes, data=df)\n",
    "modelo_depurado = modelo_depurado.fit()\n",
    "modelo_depurado.summary2()"
   ]
  },
  {
   "cell_type": "markdown",
   "metadata": {},
   "source": [
    "#### Comente brevemente sobre el poder explicativo en la varianza de $y$ y las principales características de los predictores."
   ]
  },
  {
   "cell_type": "markdown",
   "metadata": {},
   "source": [
    "#### <span style=\"color:blue\"> Depurado el modelo, se mantiene el mismo $R^2$, comprobándose que las variables eliminadas no son significativas para predecir 'Balance'.\n",
    "#### <span style=\"color:blue\"> Respecto de los predictores:\n",
    "* <span style=\"color:blue\"> 'Income': Se aprecia una relación inversamente proporcional con 'Balance'\n",
    "* <span style=\"color:blue\"> 'Limit': Se aprecia un bajo aporte marginal al incremento de 'Balance'\n",
    "* <span style=\"color:blue\"> 'Rating': Luego de la depuración del modelo, su $p\\_value$ aumentó a 0.026\n",
    "* <span style=\"color:blue\"> 'Cards': Se aprecia una relación directamente proporcional con 'Balance', siendo la segunda variable con mayor aporte marginal.\n",
    "* <span style=\"color:blue\"> 'Is_Student': Variable binaria con el mayor aporte marginal a 'Balance'"
   ]
  },
  {
   "cell_type": "markdown",
   "metadata": {},
   "source": [
    "#### ¿Mejoró o empeoró el modelo con la reducción de regresores?"
   ]
  },
  {
   "cell_type": "markdown",
   "metadata": {},
   "source": [
    "#### <span style=\"color:blue\"> Aun cuando se haya mantenido el mismo $R^2$, el modelo depurado contiene menos variables, lo que permite que sea mas generalista para la realización de predicciones."
   ]
  },
  {
   "cell_type": "markdown",
   "metadata": {},
   "source": [
    "### Desafío 6:\n",
    "#### Utilizando lmplot de seaborn , inspeccione el comportamiento de los tres principales determinantes."
   ]
  },
  {
   "cell_type": "code",
   "execution_count": 29,
   "metadata": {
    "ExecuteTime": {
     "end_time": "2021-03-04T00:23:44.379676Z",
     "start_time": "2021-03-04T00:23:43.651675Z"
    }
   },
   "outputs": [
    {
     "data": {
      "text/plain": [
       "<seaborn.axisgrid.FacetGrid at 0x240fa836af0>"
      ]
     },
     "execution_count": 29,
     "metadata": {},
     "output_type": "execute_result"
    },
    {
     "data": {
      "image/png": "[encoded data removed]",
      "text/plain": [
       "<Figure size 360x360 with 1 Axes>"
      ]
     },
     "metadata": {
      "needs_background": "light"
     },
     "output_type": "display_data"
    }
   ],
   "source": [
    "sns.lmplot(x=\"Balance\", y=\"Is_Student\", data=df)"
   ]
  },
  {
   "cell_type": "code",
   "execution_count": 30,
   "metadata": {
    "ExecuteTime": {
     "end_time": "2021-03-04T00:23:45.411782Z",
     "start_time": "2021-03-04T00:23:44.381679Z"
    }
   },
   "outputs": [
    {
     "data": {
      "text/plain": [
       "<seaborn.axisgrid.FacetGrid at 0x240fc238550>"
      ]
     },
     "execution_count": 30,
     "metadata": {},
     "output_type": "execute_result"
    },
    {
     "data": {
      "image/png": "[encoded data removed]",
      "text/plain": [
       "<Figure size 360x360 with 1 Axes>"
      ]
     },
     "metadata": {
      "needs_background": "light"
     },
     "output_type": "display_data"
    }
   ],
   "source": [
    "sns.lmplot(x=\"Balance\", y=\"Cards\", data=df)"
   ]
  },
  {
   "cell_type": "code",
   "execution_count": 31,
   "metadata": {
    "ExecuteTime": {
     "end_time": "2021-03-04T00:23:45.899781Z",
     "start_time": "2021-03-04T00:23:45.413783Z"
    }
   },
   "outputs": [
    {
     "data": {
      "text/plain": [
       "<seaborn.axisgrid.FacetGrid at 0x240fa31e520>"
      ]
     },
     "execution_count": 31,
     "metadata": {},
     "output_type": "execute_result"
    },
    {
     "data": {
      "image/png": "[encoded data removed]",
      "text/plain": [
       "<Figure size 360x360 with 1 Axes>"
      ]
     },
     "metadata": {
      "needs_background": "light"
     },
     "output_type": "display_data"
    }
   ],
   "source": [
    "sns.lmplot(x=\"Balance\", y=\"Income\", data=df)"
   ]
  },
  {
   "cell_type": "code",
   "execution_count": 32,
   "metadata": {
    "ExecuteTime": {
     "end_time": "2021-03-04T00:23:46.355788Z",
     "start_time": "2021-03-04T00:23:45.902782Z"
    }
   },
   "outputs": [
    {
     "data": {
      "text/plain": [
       "<seaborn.axisgrid.FacetGrid at 0x240fa31e820>"
      ]
     },
     "execution_count": 32,
     "metadata": {},
     "output_type": "execute_result"
    },
    {
     "data": {
      "image/png": "[encoded data removed]",
      "text/plain": [
       "<Figure size 360x360 with 1 Axes>"
      ]
     },
     "metadata": {
      "needs_background": "light"
     },
     "output_type": "display_data"
    }
   ],
   "source": [
    "sns.lmplot(x=\"Balance\", y=\"Rating\", data=df)"
   ]
  }
 ],
 "metadata": {
  "kernelspec": {
   "display_name": "Python 3 (ipykernel)",
   "language": "python",
   "name": "python3"
  },
  "language_info": {
   "codemirror_mode": {
    "name": "ipython",
    "version": 3
   },
   "file_extension": ".py",
   "mimetype": "text/x-python",
   "name": "python",
   "nbconvert_exporter": "python",
   "pygments_lexer": "ipython3",
   "version": "3.9.7"
  }
 },
 "nbformat": 4,
 "nbformat_minor": 2
}
