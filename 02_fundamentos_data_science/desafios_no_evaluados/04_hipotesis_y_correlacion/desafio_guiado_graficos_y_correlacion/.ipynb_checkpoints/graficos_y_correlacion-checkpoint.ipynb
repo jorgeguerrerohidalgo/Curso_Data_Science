{
 "cells": [
  {
   "cell_type": "markdown",
   "metadata": {},
   "source": [
    "# <center> Desafío Gráficos y correlación\n",
    "----\n",
    "## <center> por Daniel Zúñiga"
   ]
  },
  {
   "cell_type": "markdown",
   "metadata": {},
   "source": [
    "----\n",
    "### Desafío 1: Importar librerías y .csv"
   ]
  },
  {
   "cell_type": "code",
   "execution_count": 1,
   "metadata": {
    "ExecuteTime": {
     "end_time": "2020-11-14T01:21:26.299805Z",
     "start_time": "2020-11-14T01:21:26.297402Z"
    }
   },
   "outputs": [],
   "source": [
    "#evitamos los warnings\n",
    "import warnings\n",
    "warnings.simplefilter('ignore')"
   ]
  },
  {
   "cell_type": "code",
   "execution_count": 2,
   "metadata": {
    "ExecuteTime": {
     "end_time": "2020-11-14T01:21:27.358830Z",
     "start_time": "2020-11-14T01:21:26.301731Z"
    }
   },
   "outputs": [],
   "source": [
    "import pandas as pd #version\n",
    "import numpy as np #version\n",
    "import matplotlib.pyplot as plt\n",
    "import seaborn as sns\n",
    "import scipy.stats as stats"
   ]
  },
  {
   "cell_type": "code",
   "execution_count": 3,
   "metadata": {
    "ExecuteTime": {
     "end_time": "2020-11-14T01:21:27.368356Z",
     "start_time": "2020-11-14T01:21:27.361628Z"
    }
   },
   "outputs": [],
   "source": [
    "df = pd.read_csv('nations.csv', encoding='latin-1')\n",
    "#evitamos el error, cambiando la codificación de los datos a 'latin-1'"
   ]
  },
  {
   "cell_type": "code",
   "execution_count": 4,
   "metadata": {
    "ExecuteTime": {
     "end_time": "2020-11-14T01:21:27.375612Z",
     "start_time": "2020-11-14T01:21:27.370609Z"
    }
   },
   "outputs": [
    {
     "data": {
      "text/plain": [
       "Index(['Unnamed: 0', 'country', 'region', 'gdp', 'school', 'adfert',\n",
       "       'chldmort', 'life', 'pop', 'urban', 'femlab', 'literacy', 'co2',\n",
       "       'gini'],\n",
       "      dtype='object')"
      ]
     },
     "execution_count": 4,
     "metadata": {},
     "output_type": "execute_result"
    }
   ],
   "source": [
    "#consulto las columnas del df\n",
    "df.columns"
   ]
  },
  {
   "cell_type": "code",
   "execution_count": 5,
   "metadata": {},
   "outputs": [
    {
     "data": {
      "text/html": [
       "<div>\n",
       "<style scoped>\n",
       "    .dataframe tbody tr th:only-of-type {\n",
       "        vertical-align: middle;\n",
       "    }\n",
       "\n",
       "    .dataframe tbody tr th {\n",
       "        vertical-align: top;\n",
       "    }\n",
       "\n",
       "    .dataframe thead th {\n",
       "        text-align: right;\n",
       "    }\n",
       "</style>\n",
       "<table border=\"1\" class=\"dataframe\">\n",
       "  <thead>\n",
       "    <tr style=\"text-align: right;\">\n",
       "      <th></th>\n",
       "      <th>Unnamed: 0</th>\n",
       "      <th>country</th>\n",
       "      <th>region</th>\n",
       "      <th>gdp</th>\n",
       "      <th>school</th>\n",
       "      <th>adfert</th>\n",
       "      <th>chldmort</th>\n",
       "      <th>life</th>\n",
       "      <th>pop</th>\n",
       "      <th>urban</th>\n",
       "      <th>femlab</th>\n",
       "      <th>literacy</th>\n",
       "      <th>co2</th>\n",
       "      <th>gini</th>\n",
       "    </tr>\n",
       "  </thead>\n",
       "  <tbody>\n",
       "    <tr>\n",
       "      <th>0</th>\n",
       "      <td>1</td>\n",
       "      <td>Algeria</td>\n",
       "      <td>Africa</td>\n",
       "      <td>7300.399902</td>\n",
       "      <td>6.716667</td>\n",
       "      <td>7.300000</td>\n",
       "      <td>34.75</td>\n",
       "      <td>72.316666</td>\n",
       "      <td>34172236</td>\n",
       "      <td>64.933334</td>\n",
       "      <td>0.4522</td>\n",
       "      <td>72.599998</td>\n",
       "      <td>15.0</td>\n",
       "      <td>NaN</td>\n",
       "    </tr>\n",
       "    <tr>\n",
       "      <th>1</th>\n",
       "      <td>2</td>\n",
       "      <td>Benin</td>\n",
       "      <td>Africa</td>\n",
       "      <td>1338.800049</td>\n",
       "      <td>3.100000</td>\n",
       "      <td>111.699997</td>\n",
       "      <td>122.75</td>\n",
       "      <td>54.733334</td>\n",
       "      <td>8237634</td>\n",
       "      <td>41.000000</td>\n",
       "      <td>0.8482</td>\n",
       "      <td>41.700001</td>\n",
       "      <td>1.2</td>\n",
       "      <td>NaN</td>\n",
       "    </tr>\n",
       "    <tr>\n",
       "      <th>2</th>\n",
       "      <td>3</td>\n",
       "      <td>Botswana</td>\n",
       "      <td>Africa</td>\n",
       "      <td>12307.400391</td>\n",
       "      <td>8.600000</td>\n",
       "      <td>52.099998</td>\n",
       "      <td>60.25</td>\n",
       "      <td>52.250000</td>\n",
       "      <td>1941233</td>\n",
       "      <td>59.250000</td>\n",
       "      <td>0.8870</td>\n",
       "      <td>84.099998</td>\n",
       "      <td>9.2</td>\n",
       "      <td>NaN</td>\n",
       "    </tr>\n",
       "    <tr>\n",
       "      <th>3</th>\n",
       "      <td>4</td>\n",
       "      <td>Burkina Faso</td>\n",
       "      <td>Africa</td>\n",
       "      <td>1063.400024</td>\n",
       "      <td>1.300000</td>\n",
       "      <td>124.800003</td>\n",
       "      <td>170.50</td>\n",
       "      <td>53.783333</td>\n",
       "      <td>15308383</td>\n",
       "      <td>23.583334</td>\n",
       "      <td>0.8584</td>\n",
       "      <td>23.600000</td>\n",
       "      <td>0.2</td>\n",
       "      <td>NaN</td>\n",
       "    </tr>\n",
       "    <tr>\n",
       "      <th>4</th>\n",
       "      <td>5</td>\n",
       "      <td>Burundi</td>\n",
       "      <td>Africa</td>\n",
       "      <td>349.200012</td>\n",
       "      <td>2.483333</td>\n",
       "      <td>18.600000</td>\n",
       "      <td>168.50</td>\n",
       "      <td>48.866665</td>\n",
       "      <td>7821783</td>\n",
       "      <td>10.250000</td>\n",
       "      <td>1.0344</td>\n",
       "      <td>66.599998</td>\n",
       "      <td>0.1</td>\n",
       "      <td>33.299999</td>\n",
       "    </tr>\n",
       "  </tbody>\n",
       "</table>\n",
       "</div>"
      ],
      "text/plain": [
       "   Unnamed: 0       country  region           gdp    school      adfert  \\\n",
       "0           1       Algeria  Africa   7300.399902  6.716667    7.300000   \n",
       "1           2         Benin  Africa   1338.800049  3.100000  111.699997   \n",
       "2           3      Botswana  Africa  12307.400391  8.600000   52.099998   \n",
       "3           4  Burkina Faso  Africa   1063.400024  1.300000  124.800003   \n",
       "4           5       Burundi  Africa    349.200012  2.483333   18.600000   \n",
       "\n",
       "   chldmort       life       pop      urban  femlab   literacy   co2  \\\n",
       "0     34.75  72.316666  34172236  64.933334  0.4522  72.599998  15.0   \n",
       "1    122.75  54.733334   8237634  41.000000  0.8482  41.700001   1.2   \n",
       "2     60.25  52.250000   1941233  59.250000  0.8870  84.099998   9.2   \n",
       "3    170.50  53.783333  15308383  23.583334  0.8584  23.600000   0.2   \n",
       "4    168.50  48.866665   7821783  10.250000  1.0344  66.599998   0.1   \n",
       "\n",
       "        gini  \n",
       "0        NaN  \n",
       "1        NaN  \n",
       "2        NaN  \n",
       "3        NaN  \n",
       "4  33.299999  "
      ]
     },
     "execution_count": 5,
     "metadata": {},
     "output_type": "execute_result"
    }
   ],
   "source": [
    "df.head()"
   ]
  },
  {
   "cell_type": "code",
   "execution_count": 6,
   "metadata": {
    "ExecuteTime": {
     "end_time": "2020-11-14T01:21:27.379852Z",
     "start_time": "2020-11-14T01:21:27.377369Z"
    }
   },
   "outputs": [],
   "source": [
    "#obtengo el nombre de las variables asociadas a nuestro apellido\n",
    "variables_dzc = ['country', 'region', 'gdp', 'school', 'pop', 'urban', 'femlab', 'literacy', 'co2',\n",
    "       'gini']"
   ]
  },
  {
   "cell_type": "code",
   "execution_count": 7,
   "metadata": {
    "ExecuteTime": {
     "end_time": "2020-11-14T01:21:27.385094Z",
     "start_time": "2020-11-14T01:21:27.381339Z"
    }
   },
   "outputs": [],
   "source": [
    "#obtengo el subset asociado a mi apellido\n",
    "df_dzc = df.loc[:,variables_dzc]"
   ]
  },
  {
   "cell_type": "code",
   "execution_count": 8,
   "metadata": {
    "scrolled": true
   },
   "outputs": [
    {
     "data": {
      "text/html": [
       "<div>\n",
       "<style scoped>\n",
       "    .dataframe tbody tr th:only-of-type {\n",
       "        vertical-align: middle;\n",
       "    }\n",
       "\n",
       "    .dataframe tbody tr th {\n",
       "        vertical-align: top;\n",
       "    }\n",
       "\n",
       "    .dataframe thead th {\n",
       "        text-align: right;\n",
       "    }\n",
       "</style>\n",
       "<table border=\"1\" class=\"dataframe\">\n",
       "  <thead>\n",
       "    <tr style=\"text-align: right;\">\n",
       "      <th></th>\n",
       "      <th>country</th>\n",
       "      <th>region</th>\n",
       "      <th>gdp</th>\n",
       "      <th>school</th>\n",
       "      <th>pop</th>\n",
       "      <th>urban</th>\n",
       "      <th>femlab</th>\n",
       "      <th>literacy</th>\n",
       "      <th>co2</th>\n",
       "      <th>gini</th>\n",
       "    </tr>\n",
       "  </thead>\n",
       "  <tbody>\n",
       "    <tr>\n",
       "      <th>0</th>\n",
       "      <td>Algeria</td>\n",
       "      <td>Africa</td>\n",
       "      <td>7300.399902</td>\n",
       "      <td>6.716667</td>\n",
       "      <td>34172236</td>\n",
       "      <td>64.933334</td>\n",
       "      <td>0.4522</td>\n",
       "      <td>72.599998</td>\n",
       "      <td>15.0</td>\n",
       "      <td>NaN</td>\n",
       "    </tr>\n",
       "    <tr>\n",
       "      <th>1</th>\n",
       "      <td>Benin</td>\n",
       "      <td>Africa</td>\n",
       "      <td>1338.800049</td>\n",
       "      <td>3.100000</td>\n",
       "      <td>8237634</td>\n",
       "      <td>41.000000</td>\n",
       "      <td>0.8482</td>\n",
       "      <td>41.700001</td>\n",
       "      <td>1.2</td>\n",
       "      <td>NaN</td>\n",
       "    </tr>\n",
       "    <tr>\n",
       "      <th>2</th>\n",
       "      <td>Botswana</td>\n",
       "      <td>Africa</td>\n",
       "      <td>12307.400391</td>\n",
       "      <td>8.600000</td>\n",
       "      <td>1941233</td>\n",
       "      <td>59.250000</td>\n",
       "      <td>0.8870</td>\n",
       "      <td>84.099998</td>\n",
       "      <td>9.2</td>\n",
       "      <td>NaN</td>\n",
       "    </tr>\n",
       "    <tr>\n",
       "      <th>3</th>\n",
       "      <td>Burkina Faso</td>\n",
       "      <td>Africa</td>\n",
       "      <td>1063.400024</td>\n",
       "      <td>1.300000</td>\n",
       "      <td>15308383</td>\n",
       "      <td>23.583334</td>\n",
       "      <td>0.8584</td>\n",
       "      <td>23.600000</td>\n",
       "      <td>0.2</td>\n",
       "      <td>NaN</td>\n",
       "    </tr>\n",
       "    <tr>\n",
       "      <th>4</th>\n",
       "      <td>Burundi</td>\n",
       "      <td>Africa</td>\n",
       "      <td>349.200012</td>\n",
       "      <td>2.483333</td>\n",
       "      <td>7821783</td>\n",
       "      <td>10.250000</td>\n",
       "      <td>1.0344</td>\n",
       "      <td>66.599998</td>\n",
       "      <td>0.1</td>\n",
       "      <td>33.299999</td>\n",
       "    </tr>\n",
       "  </tbody>\n",
       "</table>\n",
       "</div>"
      ],
      "text/plain": [
       "        country  region           gdp    school       pop      urban  femlab  \\\n",
       "0       Algeria  Africa   7300.399902  6.716667  34172236  64.933334  0.4522   \n",
       "1         Benin  Africa   1338.800049  3.100000   8237634  41.000000  0.8482   \n",
       "2      Botswana  Africa  12307.400391  8.600000   1941233  59.250000  0.8870   \n",
       "3  Burkina Faso  Africa   1063.400024  1.300000  15308383  23.583334  0.8584   \n",
       "4       Burundi  Africa    349.200012  2.483333   7821783  10.250000  1.0344   \n",
       "\n",
       "    literacy   co2       gini  \n",
       "0  72.599998  15.0        NaN  \n",
       "1  41.700001   1.2        NaN  \n",
       "2  84.099998   9.2        NaN  \n",
       "3  23.600000   0.2        NaN  \n",
       "4  66.599998   0.1  33.299999  "
      ]
     },
     "execution_count": 8,
     "metadata": {},
     "output_type": "execute_result"
    }
   ],
   "source": [
    "df_dzc.head()"
   ]
  },
  {
   "cell_type": "markdown",
   "metadata": {},
   "source": [
    "----\n",
    "### Desafío 2: Refactor gráficos matplotlib a seaborn"
   ]
  },
  {
   "cell_type": "markdown",
   "metadata": {},
   "source": [
    "#### Se presenta la función que se utilizó para construírlos. Intente llegar al resultado con mayor similitud. Comente los principales resultados de los gráficos."
   ]
  },
  {
   "cell_type": "markdown",
   "metadata": {},
   "source": [
    "#### a)"
   ]
  },
  {
   "cell_type": "code",
   "execution_count": 9,
   "metadata": {
    "ExecuteTime": {
     "end_time": "2020-11-14T01:21:27.687959Z",
     "start_time": "2020-11-14T01:21:27.387293Z"
    }
   },
   "outputs": [
    {
     "data": {
      "image/png": "[encoded data removed]",
      "text/plain": [
       "<Figure size 432x288 with 2 Axes>"
      ]
     },
     "metadata": {
      "needs_background": "light"
     },
     "output_type": "display_data"
    }
   ],
   "source": [
    "#copiamos el código del ejemplo\n",
    "def binarize_histogram(dataframe, variable):\n",
    "    tmp = dataframe\n",
    "    tmp['binarize'] = np.where(tmp[variable] > np.mean(tmp[variable]), 1, 0)\n",
    "    \n",
    "    hist_1 = tmp[tmp['binarize'] == 1][variable].dropna()\n",
    "    hist_0 = tmp[tmp['binarize'] == 0][variable].dropna()\n",
    "    \n",
    "    plt.subplot(1, 2, 1)\n",
    "    plt.hist(hist_0, alpha=.6, color='lightgrey')\n",
    "    plt.axvline(np.mean(hist_0))\n",
    "    plt.title(\"{0} <= {1}\".format(variable, round(np.mean(hist_0), 3)))\n",
    "    plt.subplot(1, 2, 2)\n",
    "    plt.hist(hist_1, alpha=.6, color='lightgrey')\n",
    "    plt.axvline(np.mean(hist_1))\n",
    "    plt.title(\"{0} >= {1}\".format(variable, round(np.mean(hist_0), 3)))\n",
    "    \n",
    "binarize_histogram(df, 'adfert')"
   ]
  },
  {
   "cell_type": "code",
   "execution_count": 10,
   "metadata": {
    "ExecuteTime": {
     "end_time": "2020-11-14T01:21:27.827661Z",
     "start_time": "2020-11-14T01:21:27.691658Z"
    }
   },
   "outputs": [],
   "source": [
    "# creamos nuestra función, con un mayor número de 'bins' acorde a la sugerencia del profesor\n",
    "import seaborn as sns\n",
    "def binarize_histogram_mejorado(dataframe, variable):\n",
    "    tmp = dataframe\n",
    "    tmp['binarize'] = np.where(tmp[variable] > np.mean(tmp[variable]), 1, 0)\n",
    "    \n",
    "    hist_1 = tmp[tmp['binarize'] == 1][variable].dropna()\n",
    "    hist_0 = tmp[tmp['binarize'] == 0][variable].dropna()\n",
    "    \n",
    "    grid = sns.FacetGrid(tmp, col='binarize', col_wrap=2, sharex=False, sharey=False)\n",
    "    grip = grid.map(sns.distplot, variable, kde=True, bins=20).set_axis_labels(\"\")\n",
    "    axes = grid.axes.flatten()\n",
    "    axes[0].set_title(f\"{variable} <= {round(np.mean(hist_0), 2)}\")\n",
    "    axes[1].set_title(f\"{variable} >= {round(np.mean(hist_0), 2)}\")\n",
    "    axes[0].axvline(np.mean(hist_0))\n",
    "    axes[1].axvline(np.mean(hist_1))\n",
    "    \n",
    "    "
   ]
  },
  {
   "cell_type": "code",
   "execution_count": 11,
   "metadata": {
    "ExecuteTime": {
     "end_time": "2020-11-14T01:21:28.196811Z",
     "start_time": "2020-11-14T01:21:27.829831Z"
    }
   },
   "outputs": [
    {
     "data": {
      "image/png": "[encoded data removed]",
      "text/plain": [
       "<Figure size 432x216 with 2 Axes>"
      ]
     },
     "metadata": {
      "needs_background": "light"
     },
     "output_type": "display_data"
    }
   ],
   "source": [
    "#ejecutamos nuestra función, con mayor numero de bins\n",
    "binarize_histogram_mejorado(df, 'adfert')"
   ]
  },
  {
   "cell_type": "code",
   "execution_count": 12,
   "metadata": {
    "ExecuteTime": {
     "end_time": "2020-11-14T01:21:28.537861Z",
     "start_time": "2020-11-14T01:21:28.198978Z"
    }
   },
   "outputs": [
    {
     "data": {
      "image/png": "[encoded data removed]",
      "text/plain": [
       "<Figure size 432x288 with 5 Axes>"
      ]
     },
     "metadata": {
      "needs_background": "light"
     },
     "output_type": "display_data"
    }
   ],
   "source": [
    "#copiamos el código del ejemplo\n",
    "def grouped_boxplot(dataframe, variable, group_by):\n",
    "    tmp = dataframe\n",
    "    stratify_by = tmp[group_by].unique()\n",
    "    if len(stratify_by) / 2 > 3:\n",
    "        fig, ax = plt.subplots(2, len(stratify_by),sharey=True)\n",
    "    else:\n",
    "        fig, ax = plt.subplots(1, len(stratify_by),sharey=True)\n",
    "    for i, n in enumerate(stratify_by):\n",
    "        ax[i].boxplot(tmp[tmp[group_by] == n][variable])\n",
    "        ax[i].set_title(n)\n",
    "grouped_boxplot(df, 'adfert', 'region')"
   ]
  },
  {
   "cell_type": "code",
   "execution_count": 13,
   "metadata": {
    "ExecuteTime": {
     "end_time": "2020-11-14T01:21:28.542503Z",
     "start_time": "2020-11-14T01:21:28.539488Z"
    }
   },
   "outputs": [],
   "source": [
    "#creamos nuestra funcion\n",
    "def grouped_boxplot_mejorada(dataframe, variable, group_by):\n",
    "    sns.boxplot(x=dataframe[group_by], y=dataframe[variable]).set(ylabel='')"
   ]
  },
  {
   "cell_type": "code",
   "execution_count": 14,
   "metadata": {
    "ExecuteTime": {
     "end_time": "2020-11-14T01:21:28.686700Z",
     "start_time": "2020-11-14T01:21:28.544080Z"
    }
   },
   "outputs": [
    {
     "data": {
      "image/png": "[encoded data removed]",
      "text/plain": [
       "<Figure size 432x288 with 1 Axes>"
      ]
     },
     "metadata": {
      "needs_background": "light"
     },
     "output_type": "display_data"
    }
   ],
   "source": [
    "grouped_boxplot_mejorada(df, 'adfert', 'region')"
   ]
  },
  {
   "cell_type": "markdown",
   "metadata": {},
   "source": [
    "#### b)"
   ]
  },
  {
   "cell_type": "code",
   "execution_count": 15,
   "metadata": {
    "ExecuteTime": {
     "end_time": "2020-11-14T01:21:29.087397Z",
     "start_time": "2020-11-14T01:21:28.688231Z"
    }
   },
   "outputs": [
    {
     "data": {
      "image/png": "[encoded data removed]",
      "text/plain": [
       "<Figure size 432x288 with 5 Axes>"
      ]
     },
     "metadata": {
      "needs_background": "light"
     },
     "output_type": "display_data"
    }
   ],
   "source": [
    "#copio el código del ejemplo\n",
    "def grouped_scatterplot(dataframe, x, y, group_by):\n",
    "    tmp = dataframe\n",
    "    stratify_by = tmp[group_by].unique()\n",
    "    if len(stratify_by) / 2 > 3:\n",
    "        fig, ax = plt.subplots(2, len(stratify_by),sharey=True)\n",
    "    else:\n",
    "        fig, ax = plt.subplots(1, len(stratify_by),sharey=True)\n",
    "    for i, n in enumerate(stratify_by):\n",
    "        tmp_group_plt = tmp[tmp[group_by] == n]\n",
    "        ax[i].plot(tmp_group_plt[x], tmp_group_plt[y], 'o')\n",
    "        ax[i].set_title(n)\n",
    "grouped_scatterplot(df, 'school', 'adfert', 'region')"
   ]
  },
  {
   "cell_type": "code",
   "execution_count": 16,
   "metadata": {
    "ExecuteTime": {
     "end_time": "2020-11-14T01:21:29.091604Z",
     "start_time": "2020-11-14T01:21:29.088929Z"
    }
   },
   "outputs": [],
   "source": [
    "#creamos nuestra funcion\n",
    "def grouped_scatterplot_mejorada(dataframe, x, y, group_by):\n",
    "    grid = sns.FacetGrid(dataframe, col=group_by, sharex=False).set_axis_labels(\"\", \"\")\n",
    "    grid = grid.map(sns.scatterplot, x, y)\n",
    "    #sns.scatterplot(x=tmp[x], y=tmp[y])"
   ]
  },
  {
   "cell_type": "code",
   "execution_count": 17,
   "metadata": {
    "ExecuteTime": {
     "end_time": "2020-11-14T01:21:29.626801Z",
     "start_time": "2020-11-14T01:21:29.093319Z"
    }
   },
   "outputs": [
    {
     "data": {
      "image/png": "[encoded data removed]",
      "text/plain": [
       "<Figure size 1080x216 with 5 Axes>"
      ]
     },
     "metadata": {
      "needs_background": "light"
     },
     "output_type": "display_data"
    }
   ],
   "source": [
    "grouped_scatterplot_mejorada(df, 'school', 'adfert', 'region')"
   ]
  },
  {
   "cell_type": "markdown",
   "metadata": {},
   "source": [
    "----\n",
    "### Desafío 3: Genere un heatmap entre todas las variables"
   ]
  },
  {
   "cell_type": "code",
   "execution_count": 19,
   "metadata": {
    "ExecuteTime": {
     "end_time": "2020-11-14T01:21:29.850239Z",
     "start_time": "2020-11-14T01:21:29.628671Z"
    }
   },
   "outputs": [
    {
     "data": {
      "text/plain": [
       "<AxesSubplot:>"
      ]
     },
     "execution_count": 19,
     "metadata": {},
     "output_type": "execute_result"
    },
    {
     "data": {
      "image/png": "[encoded data removed]",
      "text/plain": [
       "<Figure size 720x720 with 2 Axes>"
      ]
     },
     "metadata": {
      "needs_background": "light"
     },
     "output_type": "display_data"
    }
   ],
   "source": [
    "#creamos el subset\n",
    "working_subset = df.loc[:, variables_dzc]\n",
    "#creamos la matriz de correlaciones\n",
    "corr_mat = working_subset.corr()\n",
    "corr_mat = corr_mat[(corr_mat > 0.6) | (corr_mat < -0.6)] #tip de Wilson\n",
    "#graficamos\n",
    "plt.figure(figsize = (10,10))\n",
    "sns.heatmap(corr_mat, cmap='Blues', annot=True)"
   ]
  },
  {
   "cell_type": "markdown",
   "metadata": {},
   "source": [
    "#### *En base a las variables de interés asignadas, comente cuáles son las principales correlaciones existentes, tomando como criterio de corte aquellas superior a .6."
   ]
  },
  {
   "cell_type": "markdown",
   "metadata": {},
   "source": [
    "#### <span style=\"color:blue\">Acorde a lo solicitado se colige lo siguiente:<li> Relaciones directamente proporcionales: Urbanización y Producto interno bruto ('urban' y 'gpd'), Literatura y Escolaridad ('literacy' y 'school'), Polución y Producto interno bruto ('co2' y 'gpd')</li> <li>Relaciones inversamente proporcionales: No se observan acorde al criterio de corte </li> </span>"
   ]
  },
  {
   "cell_type": "markdown",
   "metadata": {},
   "source": [
    "----\n",
    "### Desafío 4: En base a las principales correlaciones, sepárelas en un nuevo objeto y calcule la matriz de correlaciones para todas las regiones"
   ]
  },
  {
   "cell_type": "code",
   "execution_count": 21,
   "metadata": {
    "ExecuteTime": {
     "end_time": "2020-11-14T01:21:29.860021Z",
     "start_time": "2020-11-14T01:21:29.852401Z"
    }
   },
   "outputs": [],
   "source": [
    "#obtenemos el listado de variables\n",
    "principales_correlaciones = ['region','gdp','school','urban','literacy', 'co2']\n",
    "#creamos el subset que contendrá las variables con las correlaciones mas significativas\n",
    "df_principales_correlaciones = df.loc[:, principales_correlaciones]"
   ]
  },
  {
   "cell_type": "code",
   "execution_count": 22,
   "metadata": {
    "ExecuteTime": {
     "end_time": "2020-11-14T01:24:57.098609Z",
     "start_time": "2020-11-14T01:24:57.089361Z"
    }
   },
   "outputs": [
    {
     "data": {
      "text/html": [
       "<div>\n",
       "<style scoped>\n",
       "    .dataframe tbody tr th:only-of-type {\n",
       "        vertical-align: middle;\n",
       "    }\n",
       "\n",
       "    .dataframe tbody tr th {\n",
       "        vertical-align: top;\n",
       "    }\n",
       "\n",
       "    .dataframe thead th {\n",
       "        text-align: right;\n",
       "    }\n",
       "</style>\n",
       "<table border=\"1\" class=\"dataframe\">\n",
       "  <thead>\n",
       "    <tr style=\"text-align: right;\">\n",
       "      <th></th>\n",
       "      <th>region</th>\n",
       "      <th>gdp</th>\n",
       "      <th>school</th>\n",
       "      <th>urban</th>\n",
       "      <th>literacy</th>\n",
       "      <th>co2</th>\n",
       "    </tr>\n",
       "  </thead>\n",
       "  <tbody>\n",
       "    <tr>\n",
       "      <th>184</th>\n",
       "      <td>Oceania</td>\n",
       "      <td>2906.800049</td>\n",
       "      <td>8.800000</td>\n",
       "      <td>22.483334</td>\n",
       "      <td>NaN</td>\n",
       "      <td>NaN</td>\n",
       "    </tr>\n",
       "    <tr>\n",
       "      <th>169</th>\n",
       "      <td>Europe</td>\n",
       "      <td>13424.799805</td>\n",
       "      <td>9.783334</td>\n",
       "      <td>73.016663</td>\n",
       "      <td>99.599998</td>\n",
       "      <td>39.349998</td>\n",
       "    </tr>\n",
       "    <tr>\n",
       "      <th>102</th>\n",
       "      <td>Asia</td>\n",
       "      <td>3052.000000</td>\n",
       "      <td>5.416667</td>\n",
       "      <td>66.516663</td>\n",
       "      <td>78.099998</td>\n",
       "      <td>11.750000</td>\n",
       "    </tr>\n",
       "    <tr>\n",
       "      <th>38</th>\n",
       "      <td>Africa</td>\n",
       "      <td>1544.400024</td>\n",
       "      <td>4.200000</td>\n",
       "      <td>60.166668</td>\n",
       "      <td>88.800003</td>\n",
       "      <td>2.450000</td>\n",
       "    </tr>\n",
       "    <tr>\n",
       "      <th>65</th>\n",
       "      <td>Americas</td>\n",
       "      <td>7071.200195</td>\n",
       "      <td>6.950000</td>\n",
       "      <td>67.449997</td>\n",
       "      <td>NaN</td>\n",
       "      <td>7.750000</td>\n",
       "    </tr>\n",
       "    <tr>\n",
       "      <th>128</th>\n",
       "      <td>Asia</td>\n",
       "      <td>7170.200195</td>\n",
       "      <td>6.233334</td>\n",
       "      <td>33.099998</td>\n",
       "      <td>93.500000</td>\n",
       "      <td>15.800000</td>\n",
       "    </tr>\n",
       "    <tr>\n",
       "      <th>122</th>\n",
       "      <td>Asia</td>\n",
       "      <td>21381.400391</td>\n",
       "      <td>7.516666</td>\n",
       "      <td>81.533333</td>\n",
       "      <td>86.099998</td>\n",
       "      <td>57.450001</td>\n",
       "    </tr>\n",
       "    <tr>\n",
       "      <th>125</th>\n",
       "      <td>Asia</td>\n",
       "      <td>3975.600098</td>\n",
       "      <td>8.066667</td>\n",
       "      <td>14.466667</td>\n",
       "      <td>90.699997</td>\n",
       "      <td>2.250000</td>\n",
       "    </tr>\n",
       "    <tr>\n",
       "      <th>87</th>\n",
       "      <td>Asia</td>\n",
       "      <td>938.400024</td>\n",
       "      <td>2.950000</td>\n",
       "      <td>21.916666</td>\n",
       "      <td>NaN</td>\n",
       "      <td>0.100000</td>\n",
       "    </tr>\n",
       "    <tr>\n",
       "      <th>152</th>\n",
       "      <td>Europe</td>\n",
       "      <td>35593.800781</td>\n",
       "      <td>10.150000</td>\n",
       "      <td>93.150002</td>\n",
       "      <td>NaN</td>\n",
       "      <td>27.150002</td>\n",
       "    </tr>\n",
       "  </tbody>\n",
       "</table>\n",
       "</div>"
      ],
      "text/plain": [
       "       region           gdp     school      urban   literacy        co2\n",
       "184   Oceania   2906.800049   8.800000  22.483334        NaN        NaN\n",
       "169    Europe  13424.799805   9.783334  73.016663  99.599998  39.349998\n",
       "102      Asia   3052.000000   5.416667  66.516663  78.099998  11.750000\n",
       "38     Africa   1544.400024   4.200000  60.166668  88.800003   2.450000\n",
       "65   Americas   7071.200195   6.950000  67.449997        NaN   7.750000\n",
       "128      Asia   7170.200195   6.233334  33.099998  93.500000  15.800000\n",
       "122      Asia  21381.400391   7.516666  81.533333  86.099998  57.450001\n",
       "125      Asia   3975.600098   8.066667  14.466667  90.699997   2.250000\n",
       "87       Asia    938.400024   2.950000  21.916666        NaN   0.100000\n",
       "152    Europe  35593.800781  10.150000  93.150002        NaN  27.150002"
      ]
     },
     "execution_count": 22,
     "metadata": {},
     "output_type": "execute_result"
    }
   ],
   "source": [
    "#verificamos el contenido del subset\n",
    "df_principales_correlaciones.sample(10)"
   ]
  },
  {
   "cell_type": "code",
   "execution_count": 25,
   "metadata": {
    "ExecuteTime": {
     "end_time": "2020-11-14T01:21:29.885760Z",
     "start_time": "2020-11-14T01:21:29.880958Z"
    }
   },
   "outputs": [
    {
     "data": {
      "text/plain": [
       "Index(['Africa', 'Asia', 'Europe', 'Americas', 'Oceania'], dtype='object')"
      ]
     },
     "execution_count": 25,
     "metadata": {},
     "output_type": "execute_result"
    }
   ],
   "source": [
    "#obtenemos las regiones\n",
    "regiones = df_principales_correlaciones['region'].value_counts()\n",
    "regiones.index"
   ]
  },
  {
   "cell_type": "code",
   "execution_count": 26,
   "metadata": {
    "ExecuteTime": {
     "end_time": "2020-11-14T01:21:30.711488Z",
     "start_time": "2020-11-14T01:21:29.887675Z"
    }
   },
   "outputs": [
    {
     "data": {
      "image/png": "[encoded data removed]",
      "text/plain": [
       "<Figure size 288x288 with 2 Axes>"
      ]
     },
     "metadata": {
      "needs_background": "light"
     },
     "output_type": "display_data"
    },
    {
     "data": {
      "image/png": "[encoded data removed]",
      "text/plain": [
       "<Figure size 288x288 with 2 Axes>"
      ]
     },
     "metadata": {
      "needs_background": "light"
     },
     "output_type": "display_data"
    },
    {
     "data": {
      "image/png": "[encoded data removed]",
      "text/plain": [
       "<Figure size 288x288 with 2 Axes>"
      ]
     },
     "metadata": {
      "needs_background": "light"
     },
     "output_type": "display_data"
    },
    {
     "data": {
      "image/png": "[encoded data removed]",
      "text/plain": [
       "<Figure size 288x288 with 2 Axes>"
      ]
     },
     "metadata": {
      "needs_background": "light"
     },
     "output_type": "display_data"
    },
    {
     "data": {
      "image/png": "[encoded data removed]",
      "text/plain": [
       "<Figure size 288x288 with 2 Axes>"
      ]
     },
     "metadata": {
      "needs_background": "light"
     },
     "output_type": "display_data"
    }
   ],
   "source": [
    "#iteramos sobre las regiones\n",
    "for i in regiones.index:\n",
    "    corr_mat = df_principales_correlaciones[df_principales_correlaciones['region'] == i].corr()\n",
    "    #filtramos por criterio de corte .6\n",
    "    corr_mat = corr_mat[(corr_mat > 0.6) | (corr_mat < -0.6)]\n",
    "    plt.figure(figsize = (4,4))\n",
    "    ax = plt.axes()\n",
    "    ax.set_title(i)\n",
    "    sns.heatmap(corr_mat, cmap='Blues', annot=True, ax = ax)"
   ]
  },
  {
   "cell_type": "markdown",
   "metadata": {},
   "source": [
    "#### Comente brevemente las principales correlaciones a través de las regiones."
   ]
  },
  {
   "cell_type": "markdown",
   "metadata": {},
   "source": [
    "#### <span style=\"color:blue\">Principales correlaciones entre las regiones (acorde a un criterio de corte de 0.6). <br><br>Africa: Literatura y escolaridad (literacy - school) <br>Asia: Literatura y escolaridad (literacy - school)<br>Europe: Urbanidad y Producto interno bruto (urban - gpd)<br>Americas: Literatura y escolaridad (literacy - school)<br>Oceania: Urbanidad y polución(urban - co2), Escolaridad y urbanidad (school - urban) y Literatura y escolaridad (literacy - school)</span>"
   ]
  }
 ],
 "metadata": {
  "kernelspec": {
   "display_name": "Python 3 (ipykernel)",
   "language": "python",
   "name": "python3"
  },
  "language_info": {
   "codemirror_mode": {
    "name": "ipython",
    "version": 3
   },
   "file_extension": ".py",
   "mimetype": "text/x-python",
   "name": "python",
   "nbconvert_exporter": "python",
   "pygments_lexer": "ipython3",
   "version": "3.9.7"
  }
 },
 "nbformat": 4,
 "nbformat_minor": 2
}
