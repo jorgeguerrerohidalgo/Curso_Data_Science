{
 "cells": [
  {
   "cell_type": "markdown",
   "id": "5fb033cb-a081-4223-9d8a-bf017d20e371",
   "metadata": {},
   "source": [
    "1. Lectura de archivos\n",
    "● Importa pandas y siguiendo las convenciones.\n",
    "● Lee la base de datos y asígnela a un objeto df.\n",
    "● Solicita las primeras 5 observaciones con head."
   ]
  },
  {
   "cell_type": "code",
   "execution_count": 17,
   "id": "755dd55f-f24e-42b6-9c25-788c5e8ebb84",
   "metadata": {},
   "outputs": [],
   "source": [
    "import pandas as pd\n",
    "import numpy as np"
   ]
  },
  {
   "cell_type": "code",
   "execution_count": 21,
   "id": "fa0dde48-9582-4924-90a2-150d3e9915f4",
   "metadata": {},
   "outputs": [],
   "source": [
    "df_worldcup = pd.read_csv('worldcup2014.csv')"
   ]
  },
  {
   "cell_type": "code",
   "execution_count": 23,
   "id": "d99c8c4f-d61a-406e-900a-e1c8fa2c1822",
   "metadata": {},
   "outputs": [
    {
     "data": {
      "text/html": [
       "<div>\n",
       "<style scoped>\n",
       "    .dataframe tbody tr th:only-of-type {\n",
       "        vertical-align: middle;\n",
       "    }\n",
       "\n",
       "    .dataframe tbody tr th {\n",
       "        vertical-align: top;\n",
       "    }\n",
       "\n",
       "    .dataframe thead th {\n",
       "        text-align: right;\n",
       "    }\n",
       "</style>\n",
       "<table border=\"1\" class=\"dataframe\">\n",
       "  <thead>\n",
       "    <tr style=\"text-align: right;\">\n",
       "      <th></th>\n",
       "      <th>team</th>\n",
       "      <th>continent</th>\n",
       "      <th>group</th>\n",
       "      <th>group_pos</th>\n",
       "      <th>cantidad_juegos</th>\n",
       "      <th>juegos_ganados</th>\n",
       "      <th>juegos_empatados</th>\n",
       "      <th>juegos_perdidos</th>\n",
       "      <th>goles_favor</th>\n",
       "      <th>goles_contra</th>\n",
       "      <th>goles_diferencia</th>\n",
       "      <th>puntos</th>\n",
       "      <th>clasificado</th>\n",
       "    </tr>\n",
       "  </thead>\n",
       "  <tbody>\n",
       "    <tr>\n",
       "      <th>0</th>\n",
       "      <td>Brazil</td>\n",
       "      <td>southamerica</td>\n",
       "      <td>A</td>\n",
       "      <td>1</td>\n",
       "      <td>3</td>\n",
       "      <td>2</td>\n",
       "      <td>1</td>\n",
       "      <td>0</td>\n",
       "      <td>7</td>\n",
       "      <td>2</td>\n",
       "      <td>5</td>\n",
       "      <td>7</td>\n",
       "      <td>1</td>\n",
       "    </tr>\n",
       "    <tr>\n",
       "      <th>1</th>\n",
       "      <td>Mexico</td>\n",
       "      <td>northamerica</td>\n",
       "      <td>A</td>\n",
       "      <td>2</td>\n",
       "      <td>3</td>\n",
       "      <td>2</td>\n",
       "      <td>1</td>\n",
       "      <td>0</td>\n",
       "      <td>4</td>\n",
       "      <td>1</td>\n",
       "      <td>3</td>\n",
       "      <td>7</td>\n",
       "      <td>1</td>\n",
       "    </tr>\n",
       "    <tr>\n",
       "      <th>2</th>\n",
       "      <td>Croatia</td>\n",
       "      <td>europe</td>\n",
       "      <td>A</td>\n",
       "      <td>3</td>\n",
       "      <td>3</td>\n",
       "      <td>1</td>\n",
       "      <td>0</td>\n",
       "      <td>2</td>\n",
       "      <td>6</td>\n",
       "      <td>6</td>\n",
       "      <td>0</td>\n",
       "      <td>3</td>\n",
       "      <td>0</td>\n",
       "    </tr>\n",
       "    <tr>\n",
       "      <th>3</th>\n",
       "      <td>Cameroon</td>\n",
       "      <td>africa</td>\n",
       "      <td>A</td>\n",
       "      <td>4</td>\n",
       "      <td>3</td>\n",
       "      <td>0</td>\n",
       "      <td>0</td>\n",
       "      <td>3</td>\n",
       "      <td>1</td>\n",
       "      <td>9</td>\n",
       "      <td>−8</td>\n",
       "      <td>0</td>\n",
       "      <td>0</td>\n",
       "    </tr>\n",
       "    <tr>\n",
       "      <th>4</th>\n",
       "      <td>Netherlands</td>\n",
       "      <td>europe</td>\n",
       "      <td>B</td>\n",
       "      <td>1</td>\n",
       "      <td>3</td>\n",
       "      <td>3</td>\n",
       "      <td>0</td>\n",
       "      <td>0</td>\n",
       "      <td>10</td>\n",
       "      <td>3</td>\n",
       "      <td>7</td>\n",
       "      <td>9</td>\n",
       "      <td>1</td>\n",
       "    </tr>\n",
       "  </tbody>\n",
       "</table>\n",
       "</div>"
      ],
      "text/plain": [
       "          team     continent group  group_pos  cantidad_juegos  \\\n",
       "0       Brazil  southamerica     A          1                3   \n",
       "1       Mexico  northamerica     A          2                3   \n",
       "2      Croatia        europe     A          3                3   \n",
       "3     Cameroon        africa     A          4                3   \n",
       "4  Netherlands        europe     B          1                3   \n",
       "\n",
       "   juegos_ganados  juegos_empatados  juegos_perdidos  goles_favor  \\\n",
       "0               2                 1                0            7   \n",
       "1               2                 1                0            4   \n",
       "2               1                 0                2            6   \n",
       "3               0                 0                3            1   \n",
       "4               3                 0                0           10   \n",
       "\n",
       "   goles_contra goles_diferencia  puntos  clasificado  \n",
       "0             2                5       7            1  \n",
       "1             1                3       7            1  \n",
       "2             6                0       3            0  \n",
       "3             9               −8       0            0  \n",
       "4             3                7       9            1  "
      ]
     },
     "execution_count": 23,
     "metadata": {},
     "output_type": "execute_result"
    }
   ],
   "source": [
    "df_worldcup.head()"
   ]
  },
  {
   "cell_type": "markdown",
   "id": "0cc50399-73ed-4ba8-be52-588b0bc5ac00",
   "metadata": {},
   "source": [
    "2. Frecuencia de continent: utilizando value_counts responde lo siguiente:\n",
    "● ¿Cuál es el continente con una mayor presencia en la muestra?\n",
    "● ¿Cuál es la probabilidad de elegir un equipo asiático al azar?\n",
    "● ¿Cuál es la probabilidad de elegir un equipo africano al azar?"
   ]
  },
  {
   "cell_type": "code",
   "execution_count": 24,
   "id": "186e8547-02f5-4a57-9c97-178ccaa3387a",
   "metadata": {},
   "outputs": [
    {
     "data": {
      "text/plain": [
       "europe          13\n",
       "southamerica     6\n",
       "africa           5\n",
       "northamerica     4\n",
       "asia             4\n",
       "Name: continent, dtype: int64"
      ]
     },
     "execution_count": 24,
     "metadata": {},
     "output_type": "execute_result"
    }
   ],
   "source": [
    "df_worldcup.continent.value_counts()"
   ]
  },
  {
   "cell_type": "markdown",
   "id": "95302e43-d4cc-43d9-a024-b1f30336d42b",
   "metadata": {},
   "source": [
    "El continente con mayor presencia es Europa"
   ]
  },
  {
   "cell_type": "code",
   "execution_count": 25,
   "id": "d2252428-4913-4145-bdec-dd4c79c37747",
   "metadata": {},
   "outputs": [
    {
     "name": "stdout",
     "output_type": "stream",
     "text": [
      "La probabilidad de elegir un equipo asiatico es:  12.5\n"
     ]
    }
   ],
   "source": [
    "print(\"La probabilidad de elegir un equipo asiatico es: \",(len(df_worldcup[df_worldcup.continent == 'asia'])/len(df_worldcup))*100)"
   ]
  },
  {
   "cell_type": "code",
   "execution_count": 26,
   "id": "5465b376-239e-4511-9e12-12e3677d33fb",
   "metadata": {},
   "outputs": [
    {
     "name": "stdout",
     "output_type": "stream",
     "text": [
      "La probabilidad de elegir un equipo africano es:  15.625\n"
     ]
    }
   ],
   "source": [
    "print(\"La probabilidad de elegir un equipo africano es: \",(len(df_worldcup[df_worldcup.continent == 'africa'])/len(df_worldcup))*100)"
   ]
  },
  {
   "cell_type": "markdown",
   "id": "0431b3ab-e911-4bb3-aaba-d3a6a64c5b85",
   "metadata": {},
   "source": [
    "3. Generación de un subconjunto de datos: por cada continente, genere un nuevo objeto que almacene sólo las observaciones del continente.\n",
    "Tip: Para ello puede utilizar la siguiente sintaxis: df[df['variable'] == condicion]."
   ]
  },
  {
   "cell_type": "code",
   "execution_count": 27,
   "id": "1feecee9-9681-4b5c-bc51-db02a0b1e48f",
   "metadata": {},
   "outputs": [],
   "source": [
    "df_wc_africa = df_worldcup[df_worldcup.continent=='africa']\n",
    "df_wc_europe = df_worldcup[df_worldcup.continent=='europe']\n",
    "df_wc_asia = df_worldcup[df_worldcup.continent=='asia']\n",
    "df_wc_southamerica = df_worldcup[df_worldcup.continent=='southamerica']\n",
    "df_wc_northamerica = df_worldcup[df_worldcup.continent=='northamerica']"
   ]
  },
  {
   "cell_type": "markdown",
   "id": "bf928649-282d-4b8c-99d5-b004c579a3cb",
   "metadata": {},
   "source": [
    "4. Probabilidad de clasificación a la siguiente ronda: calcula la probabilidad de que un\n",
    "país pase a la siguiente ronda (clasifique) por continente.\n",
    "● ¿Cuál es la probabilidad de que un país asiático pase a la siguiente ronda?\n",
    "● ¿Cuáles son los dos continentes con la mayor probabilidad de clasificar?\n",
    "● ¿Cuál es la probabilidad de que un país europeo no clasifique?"
   ]
  },
  {
   "cell_type": "code",
   "execution_count": 28,
   "id": "3e5c2fd6-a6fd-4dfb-9ff5-39f018cecdfd",
   "metadata": {},
   "outputs": [
    {
     "name": "stdout",
     "output_type": "stream",
     "text": [
      "la probabilidad de clasificar un equipo asiatico es:  0.0\n",
      "la probabilidad de clasificar un equipo africa es:  6.25\n",
      "la probabilidad de clasificar un equipo europa es:  18.75\n",
      "la probabilidad de clasificar un equipo south america es:  15.625\n",
      "la probabilidad de clasificar un equipo north america es:  9.375\n"
     ]
    }
   ],
   "source": [
    "print(\"la probabilidad de clasificar un equipo asiatico es: \",(len(df_wc_asia[df_wc_asia.clasificado == 1])/len(df_worldcup))*100)\n",
    "print(\"la probabilidad de clasificar un equipo africa es: \",(len(df_wc_africa[df_wc_africa.clasificado == 1])/len(df_worldcup))*100)\n",
    "print(\"la probabilidad de clasificar un equipo europa es: \",(len(df_wc_europe[df_wc_europe.clasificado == 1])/len(df_worldcup))*100)\n",
    "print(\"la probabilidad de clasificar un equipo south america es: \",(len(df_wc_southamerica[df_wc_southamerica.clasificado == 1])/len(df_worldcup))*100)\n",
    "print(\"la probabilidad de clasificar un equipo north america es: \",(len(df_wc_northamerica[df_wc_northamerica.clasificado == 1])/len(df_worldcup))*100)"
   ]
  },
  {
   "cell_type": "markdown",
   "id": "39e4d185-9fc5-43ef-aff7-4f28917dbdc5",
   "metadata": {},
   "source": [
    "La probabilidad de que un equipo asiatico pase a la siguiente ronda es: 0.0%\n",
    "Los dos continentes con mayor probabilidad de clasificar es: Europe con un 18.75% y South America con 15,63%"
   ]
  },
  {
   "cell_type": "code",
   "execution_count": 29,
   "id": "6c8645a5-cd49-4d20-91ea-61a29ea75261",
   "metadata": {
    "tags": []
   },
   "outputs": [
    {
     "name": "stdout",
     "output_type": "stream",
     "text": [
      "La probabilidad de no clasificar un equipo europeo es:  53.84615384615385\n"
     ]
    }
   ],
   "source": [
    "print(\"La probabilidad de no clasificar un equipo europeo es: \",(len(df_wc_europe[df_wc_europe.clasificado == 0])/len(df_wc_europe))*100)"
   ]
  },
  {
   "cell_type": "markdown",
   "id": "e347add6-8e0d-4d01-8db0-859838fb9a41",
   "metadata": {},
   "source": [
    "5. Probabilidad de victoria y derrota: se pide utilizar value_counts para calcular la probabilidad de que un continente contenga países con o sin victorias.\n",
    "Para ello crea una columna adicional llamada 'ha_ganado' que contenga un 0 si es que un país no tiene juegos ganados y un 1 si es que ha ganado al menos un juego.\n",
    "Sugerencias: Para crear dicha columna puede revisar:\n",
    " \n",
    " \n",
    "np.where\n",
    "pd.where\n",
    "○ ○ ○\n",
    ", de Numpy\n",
    ", de Pandas\n",
    "Además puede utilizar los mismos procedimientos sugeridos en el Desafío 4.\n",
    "● Con base en el resultado del procedimiento recién descrito, responda lo siguiente:\n",
    "A. ¿Qué continente tiene la mayor probabilidad de tener países con al menos 1 victoria?\n",
    "B. ¿Qué continente tiene un nivel similar entre países que tienen o no tienen victorias?\n",
    "● Reformule el código para juegos perdidos y analice los continentes con mayor probabilidad de tener países sin juegos perdidos."
   ]
  },
  {
   "cell_type": "code",
   "execution_count": 30,
   "id": "80b08a64-7eeb-4804-8a9f-190e5523bd1b",
   "metadata": {},
   "outputs": [],
   "source": [
    "df_worldcup['ha_ganado']= np.where(df_worldcup['juegos_ganados']>=1,1,0)"
   ]
  },
  {
   "cell_type": "code",
   "execution_count": 32,
   "id": "7fcf6e7e-7759-4126-a131-e12f51ecca96",
   "metadata": {},
   "outputs": [
    {
     "data": {
      "text/plain": [
       "continent     ha_ganado\n",
       "africa        1            0.600000\n",
       "              0            0.400000\n",
       "asia          0            1.000000\n",
       "europe        1            0.846154\n",
       "              0            0.153846\n",
       "northamerica  1            0.750000\n",
       "              0            0.250000\n",
       "southamerica  1            1.000000\n",
       "Name: ha_ganado, dtype: float64"
      ]
     },
     "execution_count": 32,
     "metadata": {},
     "output_type": "execute_result"
    }
   ],
   "source": [
    "df_worldcup.groupby('continent')['ha_ganado'].value_counts(normalize = True)"
   ]
  },
  {
   "cell_type": "markdown",
   "id": "20fac5b4-8bfa-4190-a9ab-144d70d46ce2",
   "metadata": {},
   "source": [
    "El continente que tiene la mayor probabilidad de tener países con al menos 1 victoria, es Southamerica con 100%\n",
    "El continente que tiene un nivel similar entre países que tienen o no tienen victorias, es Africa con un 60% de Victorias y un 40% de derrotas"
   ]
  },
  {
   "cell_type": "code",
   "execution_count": 33,
   "id": "95686132-a5f5-416e-a0f9-e60c7282153b",
   "metadata": {},
   "outputs": [],
   "source": [
    "df_worldcup['ha_perdido']= np.where(df_worldcup['juegos_perdidos']>=1,1,0)"
   ]
  },
  {
   "cell_type": "code",
   "execution_count": 34,
   "id": "60440c91-eea8-4d10-8b8d-6fc290884161",
   "metadata": {},
   "outputs": [
    {
     "data": {
      "text/plain": [
       "continent     ha_perdido\n",
       "africa        1             1.000000\n",
       "asia          1             1.000000\n",
       "europe        1             0.692308\n",
       "              0             0.307692\n",
       "northamerica  0             0.500000\n",
       "              1             0.500000\n",
       "southamerica  0             0.500000\n",
       "              1             0.500000\n",
       "Name: ha_perdido, dtype: float64"
      ]
     },
     "execution_count": 34,
     "metadata": {},
     "output_type": "execute_result"
    }
   ],
   "source": [
    "df_worldcup.groupby('continent')['ha_perdido'].value_counts(normalize = True)"
   ]
  },
  {
   "cell_type": "markdown",
   "id": "9886cf32-41ff-4cbf-b594-8b738914f414",
   "metadata": {},
   "source": [
    "El continente que tiene la mayor probabilidad de tener países con menos derrotas, es Europe con 30,7%"
   ]
  }
 ],
 "metadata": {
  "kernelspec": {
   "display_name": "Python 3 (ipykernel)",
   "language": "python",
   "name": "python3"
  },
  "language_info": {
   "codemirror_mode": {
    "name": "ipython",
    "version": 3
   },
   "file_extension": ".py",
   "mimetype": "text/x-python",
   "name": "python",
   "nbconvert_exporter": "python",
   "pygments_lexer": "ipython3",
   "version": "3.9.12"
  }
 },
 "nbformat": 4,
 "nbformat_minor": 5
}
