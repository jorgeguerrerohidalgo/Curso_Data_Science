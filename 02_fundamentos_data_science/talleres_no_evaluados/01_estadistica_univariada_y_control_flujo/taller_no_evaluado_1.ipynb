{
 "cells": [
  {
   "cell_type": "markdown",
   "id": "04220ea1-bafb-4a39-9f8b-f16f27312e34",
   "metadata": {},
   "source": [
    "1. Hola Mundo (1 pto): Utilice el método print para mostrar en pantalla la siguiente línea:"
   ]
  },
  {
   "cell_type": "code",
   "execution_count": 1,
   "id": "86d3961b-02c9-4340-b464-a5a83cc16119",
   "metadata": {},
   "outputs": [
    {
     "name": "stdout",
     "output_type": "stream",
     "text": [
      "Hola Mundo, esta es mi primera incursión en Python\n"
     ]
    }
   ],
   "source": [
    "print(\"Hola Mundo, esta es mi primera incursión en Python\")"
   ]
  },
  {
   "cell_type": "markdown",
   "id": "36437be4-676a-4518-af0b-1dafebf4a4e4",
   "metadata": {},
   "source": [
    "2. Ingreso de variables (2 ptos): Ingrese una serie de datos respecto a su información\n",
    "personal. Esta información debe estar ingresada en variables para su posterior uso.\n",
    "Ingrese los siguientes datos:\n",
    "● Su nombre.\n",
    "● Edad.\n",
    "● Una lista con sus 3 actividades favoritas.\n",
    "● ¿Tiene mascotas?"
   ]
  },
  {
   "cell_type": "code",
   "execution_count": 28,
   "id": "1106a546-4b18-487b-aaa8-56e5d6afcecc",
   "metadata": {},
   "outputs": [
    {
     "name": "stdin",
     "output_type": "stream",
     "text": [
      "Ingrese Nombre:  Jorge\n",
      "Ingrese Edad:  40\n",
      "Ingrese actividad Favorita:  Cine\n",
      "Ingrese actividad Favorita:  Fubtol\n",
      "Ingrese actividad Favorita:  Tecnologias\n",
      "Tiene Mascota:  Si\n"
     ]
    }
   ],
   "source": [
    "actividades = []\n",
    "name=str(input(\"Ingrese Nombre: \"))\n",
    "edad=int(input(\"Ingrese Edad: \"))\n",
    "for i in range(3):\n",
    "    actividad=input(\"Ingrese actividad Favorita: \")\n",
    "    actividades.append(actividad)\n",
    "mascota=str(input(\"Tiene Mascota: \"))"
   ]
  },
  {
   "cell_type": "code",
   "execution_count": 29,
   "id": "470e2711-3748-446b-b5a4-9ebfa60e7265",
   "metadata": {},
   "outputs": [
    {
     "name": "stdout",
     "output_type": "stream",
     "text": [
      "Jorge\n",
      "40\n",
      "Fubtol\n",
      "Si\n"
     ]
    }
   ],
   "source": [
    "print (name)\n",
    "print (edad)\n",
    "print (actividades[1])\n",
    "print (mascota)"
   ]
  },
  {
   "cell_type": "code",
   "execution_count": 30,
   "id": "9a5a087b-5666-49a6-a4df-7c57e6c576f5",
   "metadata": {},
   "outputs": [
    {
     "name": "stdout",
     "output_type": "stream",
     "text": [
      "Nombre es tipo <class 'str'>\n",
      "Edad es tipo <class 'int'>\n",
      "Actividades es tipo <class 'list'>\n",
      "Mascota es tipo <class 'str'>\n"
     ]
    }
   ],
   "source": [
    "print ((\"Nombre es tipo\"),type(name))\n",
    "print ((\"Edad es tipo\"),type(edad))\n",
    "print ((\"Actividades es tipo\"),type(actividades))\n",
    "print ((\"Mascota es tipo\"),type(mascota))"
   ]
  },
  {
   "cell_type": "code",
   "execution_count": 32,
   "id": "23ec7a2a-fafb-4379-8b0a-48e4e71732c5",
   "metadata": {},
   "outputs": [
    {
     "name": "stdout",
     "output_type": "stream",
     "text": [
      "Hola, mi nombre es Jorge tengo 40 años. Mis actividades favoritas son: Cine , Fubtol y Tecnologias . Si me preguntan si tengo mascota mi respuesta es Si\n"
     ]
    }
   ],
   "source": [
    "print(\"Hola, mi nombre es\",name,\"tengo\",edad,\"años. Mis actividades favoritas son:\", actividades[0],\",\",actividades[1],\"y\",actividades[2],\". Si me preguntan si tengo mascota mi respuesta es\",mascota)"
   ]
  },
  {
   "cell_type": "markdown",
   "id": "9cd37ffb-f999-4e9e-bf76-0af93eafd948",
   "metadata": {},
   "source": [
    "4. Identificar códigos erróneos (2 ptos): a continuación se presenta una serie de\n",
    "códigos que generan errores. Corríjalos y comente cuáles fueron las fallas.\n",
    "print('Estaba la pájara pinta sentada en el verde limón)\n",
    "print('Mi nombre es' name 'y tengo' edad, 'años')\n",
    "import pandas as pd\n",
    "import numpy as np\n",
    "\"Ornitorrinco\" + 45"
   ]
  },
  {
   "cell_type": "code",
   "execution_count": 34,
   "id": "dfda3851-4c5a-478a-b472-18ab93918674",
   "metadata": {},
   "outputs": [
    {
     "name": "stdout",
     "output_type": "stream",
     "text": [
      "Estaba la pájara pinta sentada en el verde limón\n"
     ]
    }
   ],
   "source": [
    "print('Estaba la pájara pinta sentada en el verde limón')"
   ]
  },
  {
   "cell_type": "code",
   "execution_count": 35,
   "id": "dd2eda69-0385-498b-81a7-4b41ad59f11d",
   "metadata": {},
   "outputs": [
    {
     "name": "stdout",
     "output_type": "stream",
     "text": [
      "Mi nombre es Jorge y tengo 40 años\n"
     ]
    }
   ],
   "source": [
    "print('Mi nombre es',name,'y tengo',edad, 'años')"
   ]
  },
  {
   "cell_type": "code",
   "execution_count": 36,
   "id": "ede2d8a9-f555-4e9f-9093-140372eda74d",
   "metadata": {},
   "outputs": [],
   "source": [
    "import pandas as pd\n",
    "import numpy as np"
   ]
  },
  {
   "cell_type": "code",
   "execution_count": 41,
   "id": "7f9b183e-376f-4972-bb83-875f09ffc5ca",
   "metadata": {},
   "outputs": [
    {
     "data": {
      "text/plain": [
       "'OrnitorrincoOrnitorrincoOrnitorrincoOrnitorrincoOrnitorrincoOrnitorrincoOrnitorrincoOrnitorrincoOrnitorrincoOrnitorrincoOrnitorrincoOrnitorrincoOrnitorrincoOrnitorrincoOrnitorrincoOrnitorrincoOrnitorrincoOrnitorrincoOrnitorrincoOrnitorrincoOrnitorrincoOrnitorrincoOrnitorrincoOrnitorrincoOrnitorrincoOrnitorrincoOrnitorrincoOrnitorrincoOrnitorrincoOrnitorrincoOrnitorrincoOrnitorrincoOrnitorrincoOrnitorrincoOrnitorrincoOrnitorrincoOrnitorrincoOrnitorrincoOrnitorrincoOrnitorrincoOrnitorrincoOrnitorrincoOrnitorrincoOrnitorrincoOrnitorrinco'"
      ]
     },
     "execution_count": 41,
     "metadata": {},
     "output_type": "execute_result"
    }
   ],
   "source": [
    "\"Ornitorrinco\" * 45"
   ]
  },
  {
   "cell_type": "markdown",
   "id": "c9ab5c59-3da6-4291-aa5b-908977768c9c",
   "metadata": {},
   "source": [
    "5. Utilizar pandas y numpy (3 ptos):\n",
    "Para ello, sigue los siguientes pasos.\n",
    "A. Importa pandas y numpy.\n",
    "B. Posteriormente importa el archivo flights.csv.\n",
    "C. Solicita las primeras y últimas 5 observaciones de la tabla de datos.\n",
    "D. Utiliza describe para obtener las medidas univariadas de la columna year.\n",
    "E. Utiliza value_counts para obtener la frecuencia de meses y años de la tabla.\n",
    "F. Guarda en variables las primeras y últimas 15 observaciones de la tabla.\n",
    "G. Solicita la media, mediana y desviación estándar de la cantidad de pasajeros\n",
    "utilizando los métodos de numpy. Replique el procedimiento para las últimas y\n",
    "primeras 15 observaciones. Comente brevemente los resultados."
   ]
  },
  {
   "cell_type": "code",
   "execution_count": 42,
   "id": "0a747864-07e5-460d-9bbe-98009d4c2196",
   "metadata": {},
   "outputs": [],
   "source": [
    "# A. Importa pandas y numpy.\n",
    "import pandas as pd\n",
    "import numpy as np"
   ]
  },
  {
   "cell_type": "code",
   "execution_count": 44,
   "id": "3964f81b-a736-4248-93e3-093100224167",
   "metadata": {},
   "outputs": [],
   "source": [
    "# B. Posteriormente importa el archivo flights.csv.\n",
    "df=pd.read_csv('flights.csv')"
   ]
  },
  {
   "cell_type": "code",
   "execution_count": 48,
   "id": "4e1021c1-8f19-4ac4-9b0d-36e96861ba22",
   "metadata": {},
   "outputs": [
    {
     "data": {
      "text/html": [
       "<div>\n",
       "<style scoped>\n",
       "    .dataframe tbody tr th:only-of-type {\n",
       "        vertical-align: middle;\n",
       "    }\n",
       "\n",
       "    .dataframe tbody tr th {\n",
       "        vertical-align: top;\n",
       "    }\n",
       "\n",
       "    .dataframe thead th {\n",
       "        text-align: right;\n",
       "    }\n",
       "</style>\n",
       "<table border=\"1\" class=\"dataframe\">\n",
       "  <thead>\n",
       "    <tr style=\"text-align: right;\">\n",
       "      <th></th>\n",
       "      <th>year</th>\n",
       "      <th>month</th>\n",
       "      <th>passengers</th>\n",
       "    </tr>\n",
       "  </thead>\n",
       "  <tbody>\n",
       "    <tr>\n",
       "      <th>0</th>\n",
       "      <td>1949</td>\n",
       "      <td>January</td>\n",
       "      <td>112</td>\n",
       "    </tr>\n",
       "    <tr>\n",
       "      <th>1</th>\n",
       "      <td>1949</td>\n",
       "      <td>February</td>\n",
       "      <td>118</td>\n",
       "    </tr>\n",
       "    <tr>\n",
       "      <th>2</th>\n",
       "      <td>1949</td>\n",
       "      <td>March</td>\n",
       "      <td>132</td>\n",
       "    </tr>\n",
       "    <tr>\n",
       "      <th>3</th>\n",
       "      <td>1949</td>\n",
       "      <td>April</td>\n",
       "      <td>129</td>\n",
       "    </tr>\n",
       "    <tr>\n",
       "      <th>4</th>\n",
       "      <td>1949</td>\n",
       "      <td>May</td>\n",
       "      <td>121</td>\n",
       "    </tr>\n",
       "  </tbody>\n",
       "</table>\n",
       "</div>"
      ],
      "text/plain": [
       "   year     month  passengers\n",
       "0  1949   January         112\n",
       "1  1949  February         118\n",
       "2  1949     March         132\n",
       "3  1949     April         129\n",
       "4  1949       May         121"
      ]
     },
     "execution_count": 48,
     "metadata": {},
     "output_type": "execute_result"
    }
   ],
   "source": [
    "# C. Solicita las primeras y últimas 5 observaciones de la tabla de datos.\n",
    "df.head(n=5)"
   ]
  },
  {
   "cell_type": "code",
   "execution_count": 49,
   "id": "5ec99c1c-3c7e-4a48-8205-616132c1e62a",
   "metadata": {},
   "outputs": [
    {
     "data": {
      "text/html": [
       "<div>\n",
       "<style scoped>\n",
       "    .dataframe tbody tr th:only-of-type {\n",
       "        vertical-align: middle;\n",
       "    }\n",
       "\n",
       "    .dataframe tbody tr th {\n",
       "        vertical-align: top;\n",
       "    }\n",
       "\n",
       "    .dataframe thead th {\n",
       "        text-align: right;\n",
       "    }\n",
       "</style>\n",
       "<table border=\"1\" class=\"dataframe\">\n",
       "  <thead>\n",
       "    <tr style=\"text-align: right;\">\n",
       "      <th></th>\n",
       "      <th>year</th>\n",
       "      <th>month</th>\n",
       "      <th>passengers</th>\n",
       "    </tr>\n",
       "  </thead>\n",
       "  <tbody>\n",
       "    <tr>\n",
       "      <th>139</th>\n",
       "      <td>1960</td>\n",
       "      <td>August</td>\n",
       "      <td>606</td>\n",
       "    </tr>\n",
       "    <tr>\n",
       "      <th>140</th>\n",
       "      <td>1960</td>\n",
       "      <td>September</td>\n",
       "      <td>508</td>\n",
       "    </tr>\n",
       "    <tr>\n",
       "      <th>141</th>\n",
       "      <td>1960</td>\n",
       "      <td>October</td>\n",
       "      <td>461</td>\n",
       "    </tr>\n",
       "    <tr>\n",
       "      <th>142</th>\n",
       "      <td>1960</td>\n",
       "      <td>November</td>\n",
       "      <td>390</td>\n",
       "    </tr>\n",
       "    <tr>\n",
       "      <th>143</th>\n",
       "      <td>1960</td>\n",
       "      <td>December</td>\n",
       "      <td>432</td>\n",
       "    </tr>\n",
       "  </tbody>\n",
       "</table>\n",
       "</div>"
      ],
      "text/plain": [
       "     year      month  passengers\n",
       "139  1960     August         606\n",
       "140  1960  September         508\n",
       "141  1960    October         461\n",
       "142  1960   November         390\n",
       "143  1960   December         432"
      ]
     },
     "execution_count": 49,
     "metadata": {},
     "output_type": "execute_result"
    }
   ],
   "source": [
    "df.tail(n=5)"
   ]
  },
  {
   "cell_type": "code",
   "execution_count": 54,
   "id": "95f8982c-0630-4169-8297-51209b336464",
   "metadata": {},
   "outputs": [
    {
     "data": {
      "text/plain": [
       "<bound method NDFrame.describe of 0      1949\n",
       "1      1949\n",
       "2      1949\n",
       "3      1949\n",
       "4      1949\n",
       "       ... \n",
       "139    1960\n",
       "140    1960\n",
       "141    1960\n",
       "142    1960\n",
       "143    1960\n",
       "Name: year, Length: 144, dtype: int64>"
      ]
     },
     "execution_count": 54,
     "metadata": {},
     "output_type": "execute_result"
    }
   ],
   "source": [
    "# D. Utiliza describe para obtener las medidas univariadas de la columna year.\n",
    "df['year'].describe"
   ]
  },
  {
   "cell_type": "code",
   "execution_count": 69,
   "id": "60ced9d4-aa5d-4883-ac76-10d0e7853bbf",
   "metadata": {},
   "outputs": [
    {
     "data": {
      "text/plain": [
       "1949    12\n",
       "1950    12\n",
       "1951    12\n",
       "1952    12\n",
       "1953    12\n",
       "1954    12\n",
       "1955    12\n",
       "1956    12\n",
       "1957    12\n",
       "1958    12\n",
       "1959    12\n",
       "1960    12\n",
       "Name: year, dtype: int64"
      ]
     },
     "execution_count": 69,
     "metadata": {},
     "output_type": "execute_result"
    }
   ],
   "source": [
    "# E. Utiliza value_counts para obtener la frecuencia de meses y años de la tabla.\n",
    "años=df['year']\n",
    "años.value_counts()"
   ]
  },
  {
   "cell_type": "code",
   "execution_count": 70,
   "id": "44ec05a7-8cd7-4b7c-bc56-04b6f5395f2b",
   "metadata": {},
   "outputs": [
    {
     "data": {
      "text/plain": [
       "January      12\n",
       "February     12\n",
       "March        12\n",
       "April        12\n",
       "May          12\n",
       "June         12\n",
       "July         12\n",
       "August       12\n",
       "September    12\n",
       "October      12\n",
       "November     12\n",
       "December     12\n",
       "Name: month, dtype: int64"
      ]
     },
     "execution_count": 70,
     "metadata": {},
     "output_type": "execute_result"
    }
   ],
   "source": [
    "meses=df['month']\n",
    "meses.value_countsunts()"
   ]
  },
  {
   "cell_type": "code",
   "execution_count": 71,
   "id": "a4625048-20ef-474c-9faa-34fffab68881",
   "metadata": {},
   "outputs": [],
   "source": [
    "# F. Guarda en variables las primeras y últimas 15 observaciones de la tabla.\n",
    "primeras=df.head(n=15)\n",
    "ultimas=df.tail(n=15)"
   ]
  },
  {
   "cell_type": "code",
   "execution_count": 74,
   "id": "d2547777-f352-414f-8520-58e5b1d2652f",
   "metadata": {
    "tags": []
   },
   "outputs": [],
   "source": [
    "# G. Solicita la media, mediana y desviación estándar de la cantidad de pasajeros utilizando los métodos de numpy. \n",
    "# Replique el procedimiento para las últimas y primeras 15 observaciones. Comente brevemente los resultados."
   ]
  },
  {
   "cell_type": "code",
   "execution_count": 80,
   "id": "d535e942-6b28-467b-8c75-9d8d3dd3221e",
   "metadata": {},
   "outputs": [
    {
     "name": "stdout",
     "output_type": "stream",
     "text": [
      "La media de pasajeros del dataframe es: 280.2986111111111\n",
      "La mediana de pasajeros del dataframe es: 265.5\n",
      "La desviacion estandar de pasajeros del dataframe es: 119.54904153277148\n"
     ]
    }
   ],
   "source": [
    "media=np.mean(df['passengers'])\n",
    "mediana=np.median(df['passengers'])\n",
    "desviacion_estandar=np.std(df['passengers'])\n",
    "\n",
    "print('La media de pasajeros del dataframe es:',media)\n",
    "print('La mediana de pasajeros del dataframe es:',mediana)\n",
    "print('La desviacion estandar de pasajeros del dataframe es:',desviacion_estandar)"
   ]
  },
  {
   "cell_type": "code",
   "execution_count": 81,
   "id": "ab91d072-678c-4fce-9a25-4375e2b3b007",
   "metadata": {},
   "outputs": [
    {
     "name": "stdout",
     "output_type": "stream",
     "text": [
      "La media de pasajeros del dataframe es: 126.8\n",
      "La mediana de pasajeros del dataframe es: 126.0\n",
      "La desviacion estandar de pasajeros del dataframe es: 12.681745410891462\n"
     ]
    }
   ],
   "source": [
    "media_primeros=np.mean(primeras['passengers'])\n",
    "mediana_primeros=np.median(primeras['passengers'])\n",
    "desviacion_estandar_primeros=np.std(primeras['passengers'])\n",
    "\n",
    "print('La media de pasajeros del dataframe es:',media_primeros)\n",
    "print('La mediana de pasajeros del dataframe es:',mediana_primeros)\n",
    "print('La desviacion estandar de pasajeros del dataframe es:',desviacion_estandar_primeros)"
   ]
  },
  {
   "cell_type": "code",
   "execution_count": 82,
   "id": "da6438f3-e3f8-4f77-85a9-8d20f46fe2d3",
   "metadata": {},
   "outputs": [
    {
     "name": "stdout",
     "output_type": "stream",
     "text": [
      "La media de pasajeros del dataframe es: 459.2\n",
      "La mediana de pasajeros del dataframe es: 432.0\n",
      "La desviacion estandar de pasajeros del dataframe es: 75.29426715671431\n"
     ]
    }
   ],
   "source": [
    "media_ultimos=np.mean(ultimas['passengers'])\n",
    "mediana_ultimos=np.median(ultimas['passengers'])\n",
    "desviacion_estandar_ultimos=np.std(ultimas['passengers'])\n",
    "\n",
    "print('La media de pasajeros del dataframe es:',media_ultimos)\n",
    "print('La mediana de pasajeros del dataframe es:',mediana_ultimos)\n",
    "print('La desviacion estandar de pasajeros del dataframe es:',desviacion_estandar_ultimos)"
   ]
  },
  {
   "cell_type": "markdown",
   "id": "f568e7c9-7020-4624-8f6d-57e14a246dd2",
   "metadata": {},
   "source": [
    "Se observa que los resultados del promedio de todo el data frame estan en una posicion media, sobre las primeras 15 y las ultimas 15 lineas de registro. Esto nos indica que a medida que mas avanza el registros mayor es la cantidad de pasajeros por cada año y mes."
   ]
  }
 ],
 "metadata": {
  "kernelspec": {
   "display_name": "Python 3 (ipykernel)",
   "language": "python",
   "name": "python3"
  },
  "language_info": {
   "codemirror_mode": {
    "name": "ipython",
    "version": 3
   },
   "file_extension": ".py",
   "mimetype": "text/x-python",
   "name": "python",
   "nbconvert_exporter": "python",
   "pygments_lexer": "ipython3",
   "version": "3.9.12"
  }
 },
 "nbformat": 4,
 "nbformat_minor": 5
}
